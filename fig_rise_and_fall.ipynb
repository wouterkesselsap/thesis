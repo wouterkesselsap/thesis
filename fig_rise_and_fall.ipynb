{
 "cells": [
  {
   "cell_type": "code",
   "execution_count": 1,
   "metadata": {},
   "outputs": [],
   "source": [
    "from matplotlib import pyplot as plt\n",
    "import numpy as np\n",
    "from envelopes import *\n",
    "from plotsettings import *"
   ]
  },
  {
   "cell_type": "code",
   "execution_count": 2,
   "metadata": {},
   "outputs": [],
   "source": [
    "t0 = 0\n",
    "t1 = 0\n",
    "t2 = 100\n",
    "t3 = 100\n",
    "tg = 10\n",
    "Q = 3\n",
    "tlist = np.linspace(t0, t3, 1000)\n",
    "args = {'t0' : t0, 't1' : t1, 't2' : t2, 't3' : t3, 'tg' : tg, 'smooth' : True, 'gauss' : True, 'Q' : Q}\n",
    "coupling = drive_nonosc(tlist, args)"
   ]
  },
  {
   "cell_type": "code",
   "execution_count": 38,
   "metadata": {},
   "outputs": [
    {
     "data": {
      "image/png": "[encoded data removed]",
      "text/plain": [
       "<Figure size 432x144 with 2 Axes>"
      ]
     },
     "metadata": {
      "needs_background": "light"
     },
     "output_type": "display_data"
    }
   ],
   "source": [
    "d = .020\n",
    "ylim = [0, 1.05]\n",
    "\n",
    "plt.subplots(1, 2, figsize=(6,2))\n",
    "plt.suptitle(\"Gaussian rise and fall\")\n",
    "\n",
    "plt.subplot(1, 2, 1)\n",
    "plt.plot(tlist, coupling, c=plotcolours['coupling'])\n",
    "plt.axvline(tg, ls=':', lw=0.5, c='k')\n",
    "\n",
    "plt.xlim([t0, 1.4*tg])\n",
    "plt.ylim(ylim)\n",
    "\n",
    "plt.annotate(\"\", (0, 0.7), xytext=(10.2, 0.7), arrowprops={'arrowstyle':'<|-|>', 'color':'gray'})\n",
    "plt.text(5.3, 0.75, \"$3\\\\sigma$\", fontsize=10, horizontalalignment='center')\n",
    "plt.text(6, 0.2, \"rise\")\n",
    "\n",
    "plt.xticks([t0, tg], [0, 10])\n",
    "# plt.xticks([t0, tg], ['$t_0$', '$T_{{rise}}$'])\n",
    "plt.tick_params(\n",
    "    axis='y',          # changes apply to the x-axis\n",
    "    which='both',      # both major and minor ticks are affected\n",
    "    left=False,      # ticks along the bottom edge are off\n",
    "    labelleft=False) # labels along the bottom edge are off\n",
    "plt.gca().spines['top'].set_visible(False)\n",
    "plt.gca().spines['left'].set_visible(False)\n",
    "plt.gca().spines['right'].set_visible(False)\n",
    "kwargs = dict(transform=plt.gca().transAxes, color='k', clip_on=False, lw=1)\n",
    "plt.plot((1-d,1+d), (-d,d), **kwargs)\n",
    "plt.plot((1-d,1+d), (1-d-0.05,1+d-0.05), **kwargs)\n",
    "\n",
    "plt.subplot(1, 2, 2)\n",
    "plt.plot(tlist, coupling, c=plotcolours['coupling'])\n",
    "plt.axvline(t3-tg, ls=':', lw=0.5, c='k')\n",
    "\n",
    "plt.xlim([t3-1.4*tg, t3])\n",
    "plt.ylim(ylim)\n",
    "\n",
    "plt.annotate(\"\", (89.8, 0.7), xytext=(100, 0.7), arrowprops={'arrowstyle':'<|-|>', 'color':'gray'})\n",
    "plt.text(95, 0.75, \"$3\\\\sigma$\", fontsize=10, horizontalalignment='center')\n",
    "plt.text(t3-tg-5.5, 0.2, \"bulk\")\n",
    "plt.text(t3-8.5, 0.2, \"fall\")\n",
    "\n",
    "plt.xticks([t3-tg, t3], ['$T_{{tot}} - 10$', '$T_{{tot}}$'])\n",
    "# plt.xticks([t3-tg, t3], ['$T_{{rise}} + T_{{bulk}}$', '$T_{{tot}}$'])\n",
    "plt.tick_params(\n",
    "    axis='y',          # changes apply to the x-axis\n",
    "    which='both',      # both major and minor ticks are affected\n",
    "    left=False,      # ticks along the bottom edge are off\n",
    "    labelleft=False) # labels along the bottom edge are off\n",
    "plt.gca().spines['top'].set_visible(False)\n",
    "plt.gca().spines['left'].set_visible(False)\n",
    "plt.gca().spines['right'].set_visible(False)\n",
    "kwargs = dict(transform=plt.gca().transAxes, color='k', clip_on=False, lw=1)\n",
    "plt.plot((-d,d), (-d,d), **kwargs)\n",
    "plt.plot((-d,d), (1-d-0.05,1+d-0.05), **kwargs)\n",
    "plt.text(t3-tg-6.1, -0.4, \"$t$ [ns]\", fontsize=mpl.rcParams['axes.labelsize'])\n",
    "\n",
    "\n",
    "plt.subplots_adjust(wspace=0.05)\n",
    "plt.subplots_adjust(top=0.8)\n",
    "plt.show()"
   ]
  },
  {
   "cell_type": "code",
   "execution_count": null,
   "metadata": {},
   "outputs": [],
   "source": []
  }
 ],
 "metadata": {
  "kernelspec": {
   "display_name": "Python 3",
   "language": "python",
   "name": "python3"
  },
  "language_info": {
   "codemirror_mode": {
    "name": "ipython",
    "version": 3
   },
   "file_extension": ".py",
   "mimetype": "text/x-python",
   "name": "python",
   "nbconvert_exporter": "python",
   "pygments_lexer": "ipython3",
   "version": "3.7.3"
  }
 },
 "nbformat": 4,
 "nbformat_minor": 2
}
