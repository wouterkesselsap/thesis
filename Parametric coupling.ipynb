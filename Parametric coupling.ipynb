{
 "cells": [
  {
   "cell_type": "code",
   "execution_count": 1,
   "metadata": {
    "collapsed": true
   },
   "outputs": [],
   "source": [
    "from numpy import tan, pi, sqrt\n",
    "from scipy.optimize import minimize\n",
    "from scipy.constants import e,h,hbar,k,G,epsilon_0\n",
    "phi_0 = hbar/2./e\n",
    "import numpy as np\n",
    "import matplotlib.pyplot as plt\n",
    "%matplotlib inline\n",
    "from qutip import *\n",
    "from scipy import signal\n",
    "import matplotlib as mpl\n",
    "import time\n",
    "mpl.rcParams['axes.linewidth'] = 2\n",
    "import plots"
   ]
  },
  {
   "cell_type": "code",
   "execution_count": 2,
   "metadata": {
    "collapsed": true
   },
   "outputs": [],
   "source": [
    "def fluxmod(t, arg):\n",
    "    return amp*np.cos(2*np.pi*omega*t)"
   ]
  },
  {
   "cell_type": "code",
   "execution_count": null,
   "metadata": {},
   "outputs": [],
   "source": [
    "# qubit (a)\n",
    "amp=1*1e8 # qubity frequency modulation\n",
    "fq = 7e9-amp # qubit frequency\n",
    "Aq = 300e6 # higher order anharmonicity in Hamiltonian\n",
    "gamma = 1e1 # qubit relaxation/excitation rate\n",
    "gamma1= 10000 # qubit dephasing rate\n",
    "\n",
    "# cavity (b)   \n",
    "fc = 7.1e9 # cavity frequency\n",
    "kappa = 1e1 # cavity relaxation rate\n",
    "cavity_spec = 3 # number of cavity levels\n",
    "\n",
    "g=2*np.pi*1e+6\n",
    "omega=fc-fq\n",
    "psi0 = tensor(basis(2,0),basis(cavity_spec,0))      # initial state\n",
    "tlist = np.linspace(0.0*1e-9, 1000*1e-6, 10000)\n",
    "\n",
    "ex_ops = ['sx', 'sy', 'sz', 'num_b']  # operators of which to calculated expectation values"
   ]
  },
  {
   "cell_type": "code",
   "execution_count": null,
   "metadata": {
    "collapsed": true
   },
   "outputs": [],
   "source": [
    "def qubit_integrate(fq, fc, Aq, g, tlist, ex_ops):\n",
    "    \n",
    "    b = tensor(qeye(2), destroy(cavity_spec)) # lowers cavity level\n",
    "    sx = tensor(sigmax(),qeye(cavity_spec)) # determines x-projection of qubit level\n",
    "    sy = tensor(sigmay(),qeye(cavity_spec)) # determines y-projection of qubit level\n",
    "    sz = tensor(sigmaz(),qeye(cavity_spec)) # determines y_projection of qubit level\n",
    "    sm = tensor(destroy(2),qeye(cavity_spec)) # lowers qubit level\n",
    "    num_b = b.dag()*b # cavity number operator\n",
    "    \n",
    "    global bloch_ops\n",
    "    bloch_ops = [sx, sy, sz]\n",
    "\n",
    "    \n",
    "    H0 = 2*np.pi*(fq)*0.5*sz+2*np.pi*(fc)*num_b + g*(b+b.dag())*sx # time-independent Hamiltonian\n",
    "    H1 = 2*np.pi*0.5*sz # time-dependent Hamiltonian, to be evolved with fluxmod\n",
    "    \n",
    "    global H\n",
    "    H = [H0, [H1, fluxmod]] # total Hamiltonian\n",
    "    \n",
    "    # collapse operators, dissipation\n",
    "    c_op_list = []\n",
    "    n_th = 0.0 # zero temperature\n",
    "\n",
    "    # relaxation\n",
    "    rate = gamma * (1 + n_th)\n",
    "    if rate > 0.0:\n",
    "        c_op_list.append(sqrt(rate) * sm)\n",
    "    # excitation\n",
    "    rate = gamma * n_th\n",
    "    if rate > 0.0:\n",
    "        c_op_list.append(sqrt(rate) * sm.dag())\n",
    "    # dephasing \n",
    "    rate = gamma1\n",
    "    if rate > 0.0:\n",
    "        c_op_list.append(sqrt(rate) * sz)\n",
    "    # cavity relaxation\n",
    "    rate = kappa\n",
    "    if rate > 0.0:\n",
    "        c_op_list.append(sqrt(rate) * b)\n",
    "    \n",
    "    e_ops = []\n",
    "    if 'sx' in ex_ops:\n",
    "        e_ops.append(sx)\n",
    "    if 'sy' in ex_ops:\n",
    "        e_ops.append(sy)\n",
    "    if 'sz' in ex_ops:\n",
    "        e_ops.append(sz)\n",
    "    if 'sm' in ex_ops:\n",
    "        e_ops.append(sm)\n",
    "    if 'num_b' in ex_ops:\n",
    "        e_ops.append(num_b)\n",
    "    output = mesolve(H, psi0, tlist, c_op_list, e_ops)\n",
    "    return output  "
   ]
  },
  {
   "cell_type": "code",
   "execution_count": null,
   "metadata": {},
   "outputs": [],
   "source": [
    "output = qubit_integrate(fq, fc, Aq, g, tlist, ex_ops)"
   ]
  },
  {
   "cell_type": "code",
   "execution_count": null,
   "metadata": {},
   "outputs": [],
   "source": [
    "plots.expect(output.expect, tlist, 'sx', ex_ops)\n",
    "plots.expect(output.expect, tlist, 'sz', ex_ops)\n",
    "plots.expect(output.expect, tlist, 'num_b', ex_ops)\n",
    "plots.bloch(output.expect, tlist, ex_ops)"
   ]
  },
  {
   "cell_type": "code",
   "execution_count": null,
   "metadata": {},
   "outputs": [],
   "source": [
    "ex_ops = []\n",
    "output = qubit_integrate(fq,fc,Aq,g,tlist, ex_ops)"
   ]
  },
  {
   "cell_type": "code",
   "execution_count": null,
   "metadata": {},
   "outputs": [],
   "source": [
    "ind = 678 # time index to plot\n",
    "obj = 1 # 0 = qubit, 1 = cavity\n",
    "\n",
    "dm = plots.dmat(output.states, obj=obj, ind=ind, roff=2)\n",
    "plots.dmat_hinton(output.states, obj=obj, ind=ind)\n",
    "plots.dmat_hist(output.states, obj=obj, ind=ind, im=True)\n",
    "cont0 = plots.wigner(output.states, obj=obj, ind=ind)\n",
    "plots.dmatf(output.states, tlist, obj=obj, elems=[[0,0], [0,1], [1,0], [1,1]], obj_descr='cavity')"
   ]
  },
  {
   "cell_type": "code",
   "execution_count": null,
   "metadata": {},
   "outputs": [],
   "source": []
  },
  {
   "cell_type": "code",
   "execution_count": null,
   "metadata": {},
   "outputs": [],
   "source": []
  }
 ],
 "metadata": {
  "kernelspec": {
   "display_name": "Python 3",
   "language": "python",
   "name": "python3"
  },
  "language_info": {
   "codemirror_mode": {
    "name": "ipython",
    "version": 3
   },
   "file_extension": ".py",
   "mimetype": "text/x-python",
   "name": "python",
   "nbconvert_exporter": "python",
   "pygments_lexer": "ipython3",
   "version": "3.6.7"
  }
 },
 "nbformat": 4,
 "nbformat_minor": 2
}
