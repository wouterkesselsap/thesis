{
 "cells": [
  {
   "cell_type": "code",
   "execution_count": 33,
   "metadata": {},
   "outputs": [],
   "source": [
    "%%capture\n",
    "%matplotlib inline\n",
    "import matplotlib.pyplot as plt\n",
    "import numpy as np\n",
    "import matplotlib.animation as animation\n",
    "from mpl_toolkits.mplot3d import Axes3D\n",
    "from qutip import *\n",
    "#from qutip.ipynbtools import plot_animation"
   ]
  },
  {
   "cell_type": "code",
   "execution_count": 85,
   "metadata": {},
   "outputs": [],
   "source": [
    "def qubit_integrate(w, theta, gamma1, gamma2, psi0, tlist):\n",
    "    # operators and the hamiltonian\n",
    "    sx = sigmax(); sy = sigmay(); sz = sigmaz(); sm = sigmam()\n",
    "    H = w * (np.cos(theta) * sz + np.sin(theta) * sx)\n",
    "    # collapse operators\n",
    "    c_op_list = []\n",
    "    n_th = 0.5 # temperature\n",
    "    rate = gamma1 * (n_th + 1)\n",
    "    if rate > 0.0: c_op_list.append(np.sqrt(rate) * sm)\n",
    "    rate = gamma1 * n_th\n",
    "    if rate > 0.0: c_op_list.append(np.sqrt(rate) * sm.dag())\n",
    "    rate = gamma2\n",
    "    if rate > 0.0: c_op_list.append(np.sqrt(rate) * sz)\n",
    "\n",
    "\n",
    "    # evolve and calculate expectation values\n",
    "    # output = mesolve(H, psi0, tlist, c_op_list, [sx, sy, sz])\n",
    "    output = mesolve(H, psi0, tlist, c_op_list, [])  \n",
    "    return output"
   ]
  },
  {
   "cell_type": "code",
   "execution_count": 86,
   "metadata": {},
   "outputs": [],
   "source": [
    "w     = 1.0 * 2 * np.pi  # qubit angular frequency\n",
    "theta = 0.2 * np.pi      # qubit angle from sigma_z axis (toward sigma_x axis)\n",
    "gamma1 = 0.5             # qubit relaxation rate\n",
    "gamma2 = 0.2             # qubit dephasing rate\n",
    "# initial state\n",
    "a = 1.0\n",
    "psi0 = (a* basis(2,0) + (1-a)*basis(2,1))/(np.sqrt(a**2 + (1-a)**2))\n",
    "tlist = np.linspace(0, 4, 1000)"
   ]
  },
  {
   "cell_type": "code",
   "execution_count": 87,
   "metadata": {},
   "outputs": [],
   "source": [
    "result = qubit_integrate(w, theta, gamma1, gamma2, psi0, tlist)"
   ]
  },
  {
   "cell_type": "code",
   "execution_count": 141,
   "metadata": {},
   "outputs": [
    {
     "name": "stdout",
     "output_type": "stream",
     "text": [
      "[[ 1.+0.j  0.+0.j]\n",
      " [ 0.+0.j  0.+0.j]]\n"
     ]
    }
   ],
   "source": [
    "s = result.states\n",
    "rhos = s[0].full()\n",
    "print(rhos)"
   ]
  },
  {
   "cell_type": "code",
   "execution_count": 60,
   "metadata": {},
   "outputs": [],
   "source": [
    "def plot_setup(result):    \n",
    "    \n",
    "    fig = plt.figure(figsize=(8,8))\n",
    "    axes = Axes3D(fig, azim=-40,elev=30)\n",
    "\n",
    "    return fig, axes"
   ]
  },
  {
   "cell_type": "code",
   "execution_count": 61,
   "metadata": {},
   "outputs": [],
   "source": [
    "sphere = None\n",
    "plt.rcParams[\"animation.html\"] = \"jshtml\""
   ]
  },
  {
   "cell_type": "code",
   "execution_count": 62,
   "metadata": {},
   "outputs": [],
   "source": [
    "def plot_result(result, n, fig=None, axes=None):\n",
    "\n",
    "    global sphere\n",
    "    \n",
    "    if fig is None or axes is None:\n",
    "        fig, axes = plot_setup(result)\n",
    "\n",
    "    if not sphere:\n",
    "        sphere = Bloch(axes=axes)\n",
    "        sphere.vector_color = ['r']\n",
    "        \n",
    "    sphere.clear()\n",
    "    sphere.add_vectors([np.sin(theta), 0, np.cos(theta)])\n",
    "    sphere.add_points([result.expect[0][:n+1], result.expect[1][:n+1], result.expect[2][:n+1]], meth='l')\n",
    "    sphere.make_sphere()\n",
    "\n",
    "    return fig, axes"
   ]
  },
  {
   "cell_type": "code",
   "execution_count": 63,
   "metadata": {},
   "outputs": [],
   "source": [
    "def plot_animation(plot_setup_func, plot_func, result, name=\"movie\",\n",
    "                   writer=\"avconv\", codec=\"libx264\", verbose=False):\n",
    "    \"\"\"\n",
    "    Create an animated plot of a Result object, as returned by one of\n",
    "    the qutip evolution solvers.\n",
    "\n",
    "    .. note :: experimental\n",
    "    \"\"\"\n",
    "\n",
    "    fig, axes = plot_setup_func(result)\n",
    "\n",
    "    def update(n):\n",
    "        return plot_func(result, n, fig=fig, axes=axes)\n",
    "\n",
    "    anim = animation.FuncAnimation(\n",
    "        fig, update, frames=len(result.times), blit=True)"
   ]
  },
  {
   "cell_type": "code",
   "execution_count": 50,
   "metadata": {},
   "outputs": [
    {
     "data": {
      "image/png": "[encoded data removed]",
      "text/plain": [
       "<Figure size 576x576 with 1 Axes>"
      ]
     },
     "metadata": {
      "needs_background": "light"
     },
     "output_type": "display_data"
    }
   ],
   "source": [
    "plot_animation(plot_setup, plot_result, result)"
   ]
  },
  {
   "cell_type": "code",
   "execution_count": 15,
   "metadata": {},
   "outputs": [],
   "source": [
    "# expectation values of [sx, sy, sz]: result.expect"
   ]
  },
  {
   "cell_type": "code",
   "execution_count": 56,
   "metadata": {},
   "outputs": [
    {
     "data": {
      "text/plain": [
       "[]"
      ]
     },
     "execution_count": 56,
     "metadata": {},
     "output_type": "execute_result"
    }
   ],
   "source": [
    "result.states"
   ]
  },
  {
   "cell_type": "code",
   "execution_count": null,
   "metadata": {},
   "outputs": [],
   "source": []
  }
 ],
 "metadata": {
  "kernelspec": {
   "display_name": "Python 3",
   "language": "python",
   "name": "python3"
  },
  "language_info": {
   "codemirror_mode": {
    "name": "ipython",
    "version": 3
   },
   "file_extension": ".py",
   "mimetype": "text/x-python",
   "name": "python",
   "nbconvert_exporter": "python",
   "pygments_lexer": "ipython3",
   "version": "3.6.7"
  }
 },
 "nbformat": 4,
 "nbformat_minor": 2
}
