{
 "cells": [
  {
   "cell_type": "markdown",
   "metadata": {},
   "source": [
    "NOTES\n",
    "\n",
    "- 1 ns unit for time\n",
    "- Conventions:\n",
    "  - [qubit, resonator 1]\n",
    "  - Qubit, pump: blue\n",
    "  - Resonator 1, coupling 1: green"
   ]
  },
  {
   "cell_type": "code",
   "execution_count": 1,
   "metadata": {},
   "outputs": [],
   "source": [
    "%matplotlib inline\n",
    "import numpy as np\n",
    "import matplotlib.pyplot as plt\n",
    "import plots\n",
    "import os\n",
    "import shutil\n",
    "import time\n",
    "from datetime import datetime\n",
    "from glob import glob\n",
    "from copy import copy\n",
    "from supports_1q_2c import *\n",
    "from qutip import *\n",
    "from scipy.special import erf\n",
    "from scipy.signal import argrelextrema\n",
    "\n",
    "options = Options()"
   ]
  },
  {
   "cell_type": "code",
   "execution_count": 2,
   "metadata": {},
   "outputs": [],
   "source": [
    "Nq = 4   # number of levels in qubit\n",
    "N1 = 10  # number of levels in resonator 1\n",
    "\n",
    "wq = 6.5*2*pi    # qubit frequency\n",
    "w1 = 4*2*pi    # resonator 1 frequency\n",
    "Omega = 0.6*2*pi  # amplitude of sideband transitions\n",
    "wsb = 0#1/4*(3*wq - w1 - sqrt((wq + w1)**2 - 4*Omega**2))  # pump drive frequency\n",
    "\n",
    "kq = 50e-6*2*pi  # photon emission frequency of qubit (qubit decay rate)\n",
    "k1 = 10e-6*2*pi  # photon emission freqency of resonator 1 (resonator 1 decay rate)\n",
    "\n",
    "g1 = 0.2*2*pi  # drive frequency resonator 1, coupling between qubit and resonator 1\n",
    "\n",
    "Ec = 0.16*2*pi  # Anharmonicity (charging energy)"
   ]
  },
  {
   "cell_type": "code",
   "execution_count": 3,
   "metadata": {},
   "outputs": [],
   "source": [
    "t0 = 0         # start Gaussian pulse Omega\n",
    "t1 = t0 + 0   # end Gaussian pulse Omega\n",
    "t2 = t1 + 0   # start square pulse at resonator 1\n",
    "t3 = t2 + 50  # end square pulse at resonator 1\n",
    "t4 = t3 + 0   # start square pulse at resonator 2\n",
    "t5 = t4 + 0  # end square pulse at resonator 2\n",
    "t6 = t5 + 10   # t0\n",
    "tg = 10        # Gaussian rise and fall time of square pulse\n",
    "\n",
    "N_repeat = 1  # number of times to repeat cycle\n",
    "Np = 200*int(t6)     # number of discrete time steps per cycle for which to store the output\n",
    "smooth = False  # square pulses rise and fall with Gaussian\n",
    "Q = 3  # number of std's in Gaussian curves, rises and falls"
   ]
  },
  {
   "cell_type": "code",
   "execution_count": 4,
   "metadata": {},
   "outputs": [],
   "source": [
    "# Qubit operators\n",
    "b = tensor(destroy(Nq), qeye(N1))\n",
    "nq = b.dag()*b\n",
    "sx = tensor(sigmax(), qeye(N1)) # x-projection of qubit level\n",
    "sy = tensor(sigmay(), qeye(N1)) # y-projection of qubit level\n",
    "sz = tensor(sigmaz(), qeye(N1)) # z-projection of qubit level\n",
    "\n",
    "# Cavity operators\n",
    "a1 = tensor(qeye(Nq), destroy(N1))\n",
    "n1 = a1.dag()*a1\n",
    "\n",
    "# Jaynes-Cummings Hamiltonian (not the measurement hamiltonian)\n",
    "Hjc = 1/2*wq*nq + w1*n1 - Ec/2*b.dag()*b.dag()*b*b\n",
    "\n",
    "# Coupling Hamiltonians (only red sideband transitions)\n",
    "H1 = g1*(a1*b.dag() + b*a1.dag())\n",
    "\n",
    "# Hamiltonian arguments\n",
    "H_args = {\"t0\" : t0, \"t1\" : t1, \"t2\" : t2, \"t3\" : t3, \n",
    "          \"t4\" : t4, \"t5\" : t5, \"t6\" : t6, \"tg\" : tg,\n",
    "          \"g1\" : g1, \"Q\"  : Q, \"smooth\" : smooth, \n",
    "          \"wsb\" : wsb, \"Omega\" : Omega, \"Np\" : Np, \"N_repeat\" : N_repeat}\n",
    "\n",
    "# Sideband transitions\n",
    "Hsb = Omega*(b + b.dag())"
   ]
  },
  {
   "cell_type": "code",
   "execution_count": 5,
   "metadata": {},
   "outputs": [],
   "source": [
    "# Collapse operators, losses\n",
    "cq = sqrt(kq)*b   # qubit\n",
    "c1 = sqrt(k1)*a1  # resonator 1\n",
    "c_ops = []\n",
    "\n",
    "# Expectation operators\n",
    "e_ops = [nq, n1]"
   ]
  },
  {
   "cell_type": "code",
   "execution_count": 26,
   "metadata": {},
   "outputs": [],
   "source": [
    "H = [Hjc, [Hsb, sideband], [H1, square1]]  # complete Hamiltonian\n",
    "psi0 = tensor(psi_halfpi(Nq), basis(N1,0))  # initial state\n",
    "\n",
    "# Select these options for bdf method\n",
    "options.method = 'bdf'\n",
    "options.rtol = 1e-10\n",
    "options.atol = 1e-10\n",
    "\n",
    "# Select these options for adams method\n",
    "# options.nsteps = 1000\n",
    "# options.rtol = 1e-9\n",
    "# options.atol = 1e-9\n",
    "# options.max_step = 0.1\n",
    "\n",
    "options.store_states=True\n",
    "\n",
    "Np_per_batch = Np/20  # number of time points per batch"
   ]
  },
  {
   "cell_type": "code",
   "execution_count": 27,
   "metadata": {},
   "outputs": [
    {
     "name": "stdout",
     "output_type": "stream",
     "text": [
      "1 / 40 : 2 %\n",
      "2 / 40 : 5 %\n",
      "3 / 40 : 8 %\n",
      "4 / 40 : 10 %\n",
      "5 / 40 : 12 %\n",
      "6 / 40 : 15 %\n",
      "7 / 40 : 18 %\n",
      "8 / 40 : 20 %\n",
      "9 / 40 : 22 %\n",
      "10 / 40 : 25 %\n",
      "11 / 40 : 28 %\n",
      "12 / 40 : 30 %\n",
      "13 / 40 : 32 %\n",
      "14 / 40 : 35 %\n",
      "15 / 40 : 38 %\n",
      "16 / 40 : 40 %\n",
      "17 / 40 : 42 %\n",
      "18 / 40 : 45 %\n",
      "19 / 40 : 48 %\n",
      "20 / 40 : 50 %\n",
      "21 / 40 : 52 %\n",
      "22 / 40 : 55 %\n",
      "23 / 40 : 58 %\n",
      "24 / 40 : 60 %\n",
      "25 / 40 : 62 %\n",
      "26 / 40 : 65 %\n",
      "27 / 40 : 68 %\n",
      "28 / 40 : 70 %\n",
      "29 / 40 : 72 %\n",
      "30 / 40 : 75 %\n",
      "31 / 40 : 78 %\n",
      "32 / 40 : 80 %\n",
      "33 / 40 : 82 %\n",
      "34 / 40 : 85 %\n",
      "35 / 40 : 88 %\n",
      "36 / 40 : 90 %\n",
      "37 / 40 : 92 %\n",
      "38 / 40 : 95 %\n",
      "39 / 40 : 98 %\n",
      "40 / 40 : 100 %\n",
      "Evolution completed\n",
      "Batches combined\n"
     ]
    }
   ],
   "source": [
    "batches = create_batches(0, N_repeat*t6, N_repeat*Np, Np_per_batch)\n",
    "\n",
    "# Remove existing progress folder\n",
    "for folder in glob(\"/home/student/thesis/prog_*\"):\n",
    "    shutil.rmtree(folder)\n",
    "\n",
    "# Make new progress folder\n",
    "now = datetime.now().strftime(\"%y_%m_%d_%H_%M_%S\")\n",
    "folder = \"/home/student/thesis/prog_\" + now\n",
    "os.makedirs(folder)\n",
    "\n",
    "# Calculate!\n",
    "for num, tlist in enumerate(batches):\n",
    "    print(num+1, \"/\", len(batches), \":\", int(np.round(100*(num+1)/len(batches))), \"%\")\n",
    "    result = mesolve(H, psi0, tlist, c_ops, e_ops=e_ops, args=H_args, options=options)\n",
    "    saveprog(result, num, folder)\n",
    "    psi0 = copy(result.states[-1])\n",
    "    del result\n",
    "print(\"Evolution completed\")\n",
    "combine_batches(folder, quants=['times', 'expect'], return_data=False)\n",
    "print(\"Batches combined\")"
   ]
  },
  {
   "cell_type": "code",
   "execution_count": 28,
   "metadata": {},
   "outputs": [],
   "source": [
    "tfile = open(folder + \"/times.pkl\", 'rb')\n",
    "tdata = pickle.load(tfile)\n",
    "times = tdata['data']\n",
    "tfile.close()\n",
    "\n",
    "# sfile = open(folder + \"/states.pkl\", 'rb')\n",
    "# sdata = pickle.load(sfile)\n",
    "# states = sdata['data']\n",
    "# sfile.close()\n",
    "\n",
    "efile = open(folder + \"/expect.pkl\", 'rb')\n",
    "edata = pickle.load(efile)\n",
    "expect = edata['data']\n",
    "efile.close()"
   ]
  },
  {
   "cell_type": "code",
   "execution_count": 29,
   "metadata": {},
   "outputs": [
    {
     "data": {
      "text/plain": [
       "<matplotlib.legend.Legend at 0x7f772e9dc860>"
      ]
     },
     "execution_count": 29,
     "metadata": {},
     "output_type": "execute_result"
    },
    {
     "data": {
      "image/png": "[encoded data removed]",
      "text/plain": [
       "<Figure size 432x216 with 1 Axes>"
      ]
     },
     "metadata": {
      "needs_background": "light"
     },
     "output_type": "display_data"
    }
   ],
   "source": [
    "sqr1_pulse = g1/(2*pi)*1000*square1(times, H_args)\n",
    "plt.figure(figsize=[6,3])\n",
    "plt.plot(times, sqr1_pulse, color='g', label='Coupling $g_1$ to cavity 1')\n",
    "# plt.xlim([0, 10])\n",
    "# plt.ylim([0,12.5])\n",
    "plt.xlabel(\"$t$ [ns]\")\n",
    "plt.ylabel(\"$\\\\Omega$, $g$ [$2\\\\pi$ MHz]\")\n",
    "plt.title(\"Pulse cycle\")\n",
    "plt.legend()"
   ]
  },
  {
   "cell_type": "code",
   "execution_count": 30,
   "metadata": {},
   "outputs": [
    {
     "data": {
      "text/plain": [
       "<matplotlib.legend.Legend at 0x7f772eba7fd0>"
      ]
     },
     "execution_count": 30,
     "metadata": {},
     "output_type": "execute_result"
    },
    {
     "data": {
      "image/png": "[encoded data removed]",
      "text/plain": [
       "<Figure size 432x216 with 1 Axes>"
      ]
     },
     "metadata": {
      "needs_background": "light"
     },
     "output_type": "display_data"
    }
   ],
   "source": [
    "obj = 0    # 0 = qubit, 1 = cavity 1, 2 = cavity 2\n",
    "ind = int(300/2)  # index of tlist\n",
    "\n",
    "plt.figure(figsize=[6,3])\n",
    "if obj == 0:\n",
    "    plt.plot(times, expect[obj], color='b', label='Qubit')\n",
    "elif obj == 1:\n",
    "    plt.plot(times, expect[obj], color='g', label='Cavity 1')\n",
    "\n",
    "# VARIABLE PLOT SETTINGS    \n",
    "# plt.xlim([0, 10])\n",
    "# plt.ylim([0, 0.52])\n",
    "\n",
    "plt.xlabel(\"$t$ [ns]\")\n",
    "if obj > 0:\n",
    "    plt.ylabel(\"$n_{}$\".format(obj))\n",
    "    plt.title(\"Cavity {} population during 1 cycle\".format(obj))\n",
    "else:\n",
    "    plt.ylabel(\"$n_q$\")\n",
    "    plt.title(\"Qubit population during 1 cycle\")\n",
    "plt.legend()\n",
    "\n",
    "# cont = plots.wigner(states, obj=obj, ind=ind)\n",
    "# plots.dmat_hinton(states, obj=obj, ind=ind)"
   ]
  },
  {
   "cell_type": "code",
   "execution_count": 32,
   "metadata": {},
   "outputs": [
    {
     "data": {
      "image/png": "[encoded data removed]",
      "text/plain": [
       "<Figure size 432x216 with 1 Axes>"
      ]
     },
     "metadata": {
      "needs_background": "light"
     },
     "output_type": "display_data"
    }
   ],
   "source": [
    "plt.figure(figsize=[6,3])\n",
    "plt.plot(times, expect[0], color='b', label='Qubit')\n",
    "plt.plot(times, expect[1], color='g', label='Cavity 1')\n",
    "plt.xlim([0, 1])\n",
    "# plt.ylim([0, 2.8])\n",
    "plt.xlabel(\"$t$ [ns]\")\n",
    "# plt.ylabel(\"$n_{}$\".format(obj))\n",
    "plt.ylabel(\"$n$\")\n",
    "plt.legend()\n",
    "plt.title(\"Qubit & cavity 1 population during {} cycles\".format(N_repeat))\n",
    "plt.show()"
   ]
  },
  {
   "cell_type": "code",
   "execution_count": null,
   "metadata": {},
   "outputs": [],
   "source": []
  },
  {
   "cell_type": "code",
   "execution_count": null,
   "metadata": {},
   "outputs": [],
   "source": []
  }
 ],
 "metadata": {
  "kernelspec": {
   "display_name": "Python 3",
   "language": "python",
   "name": "python3"
  },
  "language_info": {
   "codemirror_mode": {
    "name": "ipython",
    "version": 3
   },
   "file_extension": ".py",
   "mimetype": "text/x-python",
   "name": "python",
   "nbconvert_exporter": "python",
   "pygments_lexer": "ipython3",
   "version": "3.6.7"
  }
 },
 "nbformat": 4,
 "nbformat_minor": 2
}
