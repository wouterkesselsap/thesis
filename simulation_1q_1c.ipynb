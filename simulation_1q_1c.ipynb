{
 "cells": [
  {
   "cell_type": "code",
   "execution_count": 31,
   "metadata": {},
   "outputs": [],
   "source": [
    "%matplotlib inline\n",
    "import numpy as np\n",
    "import matplotlib.pyplot as plt\n",
    "from qutip import *\n",
    "from scipy.special import erf\n",
    "\n",
    "pi = np.pi\n",
    "exp = np.exp\n",
    "sqrt = np.sqrt\n",
    "hbar = 1.0546e-34  # reduced Planck constant\n",
    "options = Options()"
   ]
  },
  {
   "cell_type": "code",
   "execution_count": 32,
   "metadata": {},
   "outputs": [],
   "source": [
    "Nq = 2  # number of levels in qubit\n",
    "N1 = 3  # number of levels in resonator 1\n",
    "\n",
    "wq = 7e9*2*pi  # qubit frequency\n",
    "wp = wq        # pump frequency\n",
    "w1 = wq        # resonator 1 frequency\n",
    "\n",
    "kq = 50e3*2*pi  # photon emission frequency of qubit (qubit decay rate)\n",
    "k1 = 5e3*2*pi   # photon emission freqency of resonator 1 (resonator 1 decay rate)\n",
    "\n",
    "g1 = 1e6*2*pi  # drive frequency resonator 1, coupling between qubit and resonator 1\n",
    "\n",
    "Ec = 200e6*2*pi  # Anharmonicity\n",
    "\n",
    "t0 = 0            # start Gaussian pulse Omega\n",
    "t1 = t0 + 50e-9   # end Gaussian pulse Omega\n",
    "t2 = t1 + 10e-9   # start square pulse at resonator 1\n",
    "t3 = t2 + 300e-9  # end square pulse at resonator 1\n",
    "t4 = t3 + 10e-9   # start square pulse at resonator 2\n",
    "t5 = t4 + 300e-9  # end square pulse at resonator 2\n",
    "t6 = t5 + 10e-9   # t0\n",
    "tg = 10e-9        # Gaussian rise and fall time of square pulse\n",
    "\"\"\"\n",
    "Should we divide the times by 2pi in order to be consistant with the radians in the frequencies?\n",
    "\"\"\"\n",
    "\n",
    "N_repeat = 1  # number of times to repeat cycle\n",
    "Q = 3  # number of std's in Gaussian curves, rises and falls"
   ]
  },
  {
   "cell_type": "code",
   "execution_count": 33,
   "metadata": {},
   "outputs": [],
   "source": [
    "# Convention:\n",
    "# [qubit, resonator 1]\n",
    "\n",
    "# Qubit operators\n",
    "b = tensor(destroy(Nq), qeye(N1))\n",
    "nq = b.dag()*b\n",
    "sx = tensor(sigmax(), qeye(N1)) # x-projection of qubit level\n",
    "sy = tensor(sigmay(), qeye(N1)) # y-projection of qubit level\n",
    "sz = tensor(sigmaz(), qeye(N1)) # z-projection of qubit level\n",
    "\n",
    "# Cavity operators\n",
    "a1 = tensor(qeye(Nq), destroy(N1))\n",
    "n1 = a1.dag()*a1\n",
    "\n",
    "# Jaynes-Cummings Hamiltonian\n",
    "Hjc = ( (w1-wq)*(w1*a1.dag()*a1) \n",
    "      - Ec/2*b.dag()*b.dag()*b*b )\n",
    "\n",
    "# Coupling Hamiltonians\n",
    "H1 = g1*(a1*b.dag() + b*a1.dag())\n",
    "\n",
    "\"\"\"\n",
    "g1 and E2 differ two orders of magnitude, isn't that a problem?\n",
    "\"\"\"\n",
    "\n",
    "# Hamiltonian arguments\n",
    "H_args = {\"t0\" : t0, \"t1\" : t1, \"t2\" : t2, \"t3\" : t3, \n",
    "          \"t4\" : t4, \"t5\" : t5, \"t6\" : t6, \"tg\" : tg,\n",
    "          \"g1\" : g1, \"Q\"  : Q}"
   ]
  },
  {
   "cell_type": "code",
   "execution_count": 34,
   "metadata": {},
   "outputs": [],
   "source": [
    "def pump_strength(args):\n",
    "    t0 = args['t0']\n",
    "    t1 = args['t1']\n",
    "    Q  = args['Q']\n",
    "    tau = t1-t0      # pulse duration\n",
    "    std = tau/(2*Q)  # standard deviation\n",
    "    time = lambda t : t/(std*sqrt(2))  # t' to pass to error function\n",
    "    \n",
    "    integral = sqrt(2*pi)*std*erf(time(tau)/2)\n",
    "    Omega = pi/integral\n",
    "    return Omega\n",
    "\n",
    "# Pump Hamiltonian\n",
    "Omega = pump_strength(H_args)\n",
    "H_args['Omega'] = Omega\n",
    "Hp = Omega/2*(b + b.dag())  # including rotating frame approximation"
   ]
  },
  {
   "cell_type": "code",
   "execution_count": 35,
   "metadata": {},
   "outputs": [],
   "source": [
    "# Collapse operators, losses\n",
    "cq = sqrt(kq)*b   # qubit\n",
    "c1 = sqrt(k1)*a1  # resonator 1\n",
    "c_ops = [cq, c1]\n",
    "\n",
    "# Expectation operators\n",
    "e_ops = [nq, n1, sx, sy, sz]"
   ]
  },
  {
   "cell_type": "code",
   "execution_count": 36,
   "metadata": {},
   "outputs": [],
   "source": [
    "def pump(t, args):\n",
    "    t0 = args['t0']  # start of pulse\n",
    "    t1 = args['t1']  # end of pulse\n",
    "    Q  = args['Q']\n",
    "    Omega = args['Omega']  # coupling between qubit and pump field\n",
    "    \"\"\"\n",
    "    Do not divide through 2pi in order to flip qubit to other state.\n",
    "    \"\"\"\n",
    "    \n",
    "    mu = (t1-t0)/2  # pulse center in time domain\n",
    "    std = (t1-t0)/(2*Q)  # standard deviation\n",
    "    confine = np.heaviside((t-t0), 0) - np.heaviside((t-t1), 0)  # entire pulse\n",
    "    \n",
    "    pulse = exp(-(t-mu)**2/(2*std**2))*confine\n",
    "    return pulse"
   ]
  },
  {
   "cell_type": "code",
   "execution_count": 37,
   "metadata": {},
   "outputs": [],
   "source": [
    "def square1(t, args):\n",
    "    t2 = args['t2']  # start of pulse\n",
    "    t3 = args['t3']  # end of pulse\n",
    "    tg = args['tg']  # time of Gaussian rise and fall\n",
    "    g1 = args['g1']  # pulse strength\n",
    "    Q  = args['Q']\n",
    "    \n",
    "    confine = np.heaviside((t-t2), 0) - np.heaviside((t-t3), 0)  # entire pulse\n",
    "    \n",
    "    # Rise and fall with Gaussian\n",
    "    std = tg/Q  # standard deviation of Gaussian\n",
    "    gauss = lambda mu : exp(-(t-mu)**2/(2*std**2))  # Gaussian\n",
    "    \n",
    "    block = np.heaviside((t-(t2+tg)), 0) - np.heaviside((t-(t3-tg)), 0)\n",
    "    rise = gauss(t2+tg) * (1-np.heaviside((t-(t2+tg)), 0))\n",
    "    fall = gauss(t3-tg) * (np.heaviside((t-(t3-tg)), 0))\n",
    "    \n",
    "    pulse = (rise + block + fall)*confine\n",
    "    return pulse"
   ]
  },
  {
   "cell_type": "code",
   "execution_count": 69,
   "metadata": {},
   "outputs": [],
   "source": [
    "# H = [Hjc, [Hp, pump], [H1, square1]]  # complete Hamiltonian\n",
    "H = [Hjc, [H1, square1]]\n",
    "tlist = np.linspace(0, N_repeat*t6, int(1e3))  # discrete time steps for which to store the output\n",
    "psi0 = tensor(basis(Nq,1), basis(N1,0))  # initial state\n",
    "options.store_states=True\n",
    "\n",
    "result = mesolve(H, psi0, tlist, c_ops, e_ops=e_ops, args=H_args, options=options)"
   ]
  },
  {
   "cell_type": "code",
   "execution_count": 70,
   "metadata": {},
   "outputs": [
    {
     "data": {
      "text/plain": [
       "<matplotlib.legend.Legend at 0x7fd3feee4f28>"
      ]
     },
     "execution_count": 70,
     "metadata": {},
     "output_type": "execute_result"
    },
    {
     "data": {
      "image/png": "[encoded data removed]",
      "text/plain": [
       "<Figure size 432x288 with 1 Axes>"
      ]
     },
     "metadata": {
      "needs_background": "light"
     },
     "output_type": "display_data"
    }
   ],
   "source": [
    "pump_pulse = Omega*pump(tlist, H_args)\n",
    "sqr1_pulse = g1*square1(tlist, H_args)\n",
    "plt.plot(tlist, pump_pulse, label='qubit pump')\n",
    "plt.plot(tlist, sqr1_pulse, label='cavity 1')\n",
    "plt.legend()"
   ]
  },
  {
   "cell_type": "code",
   "execution_count": 72,
   "metadata": {},
   "outputs": [
    {
     "data": {
      "text/plain": [
       "Text(0,0.5,'$\\\\sigma_z$')"
      ]
     },
     "execution_count": 72,
     "metadata": {},
     "output_type": "execute_result"
    },
    {
     "data": {
      "image/png": "[encoded data removed]",
      "text/plain": [
       "<Figure size 432x288 with 1 Axes>"
      ]
     },
     "metadata": {
      "needs_background": "light"
     },
     "output_type": "display_data"
    }
   ],
   "source": [
    "plt.plot(result.expect[4])\n",
    "plt.ylabel(\"$\\\\sigma_z$\")"
   ]
  },
  {
   "cell_type": "code",
   "execution_count": null,
   "metadata": {},
   "outputs": [],
   "source": []
  },
  {
   "cell_type": "code",
   "execution_count": null,
   "metadata": {},
   "outputs": [],
   "source": []
  }
 ],
 "metadata": {
  "kernelspec": {
   "display_name": "Python 3",
   "language": "python",
   "name": "python3"
  },
  "language_info": {
   "codemirror_mode": {
    "name": "ipython",
    "version": 3
   },
   "file_extension": ".py",
   "mimetype": "text/x-python",
   "name": "python",
   "nbconvert_exporter": "python",
   "pygments_lexer": "ipython3",
   "version": "3.6.7"
  }
 },
 "nbformat": 4,
 "nbformat_minor": 2
}
