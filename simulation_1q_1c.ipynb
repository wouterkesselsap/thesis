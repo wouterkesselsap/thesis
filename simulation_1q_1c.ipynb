{
 "cells": [
  {
   "cell_type": "code",
   "execution_count": 1,
   "metadata": {},
   "outputs": [],
   "source": [
    "%matplotlib inline\n",
    "import numpy as np\n",
    "import matplotlib.pyplot as plt\n",
    "from qutip import *\n",
    "from scipy.special import erf\n",
    "\n",
    "pi = np.pi\n",
    "exp = np.exp\n",
    "sqrt = np.sqrt\n",
    "hbar = 1.0546e-34  # reduced Planck constant\n",
    "options = Options()"
   ]
  },
  {
   "cell_type": "code",
   "execution_count": 2,
   "metadata": {},
   "outputs": [],
   "source": [
    "Nq = 2  # number of levels in qubit\n",
    "N1 = 3  # number of levels in resonator 1\n",
    "\n",
    "wq = 7e9*2*pi  # qubit frequency\n",
    "wp = wq        # pump frequency\n",
    "w1 = wq        # resonator 1 frequency\n",
    "\n",
    "kq = 50e3*2*pi  # photon emission frequency of qubit (qubit decay rate)\n",
    "k1 = 5e3*2*pi   # photon emission freqency of resonator 1 (resonator 1 decay rate)\n",
    "\n",
    "g1 = 1e6*2*pi  # drive frequency resonator 1, coupling between qubit and resonator 1\n",
    "\n",
    "Ec = 200e6*2*pi  # Anharmonicity\n",
    "\n",
    "t0 = 0            # start Gaussian pulse Omega\n",
    "t1 = t0 + 50e-9   # end Gaussian pulse Omega\n",
    "t2 = t1 + 10e-9   # start square pulse at resonator 1\n",
    "t3 = t2 + 300e-9  # end square pulse at resonator 1\n",
    "t4 = t3 + 10e-9   # start square pulse at resonator 2\n",
    "t5 = t4 + 300e-9  # end square pulse at resonator 2\n",
    "t6 = t5 + 10e-9   # t0\n",
    "tg = 10e-9        # Gaussian rise and fall time of square pulse\n",
    "\n",
    "N_repeat = 1  # number of times to repeat cycle\n",
    "Q = 3  # number of std's in Gaussian curves, rises and falls"
   ]
  },
  {
   "cell_type": "code",
   "execution_count": 3,
   "metadata": {},
   "outputs": [],
   "source": [
    "# Convention:\n",
    "# [qubit, resonator 1]\n",
    "\n",
    "# Qubit operators\n",
    "b = tensor(destroy(Nq), qeye(N1))\n",
    "nq = b.dag()*b\n",
    "sx = tensor(sigmax(), qeye(N1)) # x-projection of qubit level\n",
    "sy = tensor(sigmay(), qeye(N1)) # y-projection of qubit level\n",
    "sz = tensor(sigmaz(), qeye(N1)) # z-projection of qubit level\n",
    "\n",
    "# Cavity operators\n",
    "a1 = tensor(qeye(Nq), destroy(N1))\n",
    "n1 = a1.dag()*a1\n",
    "\n",
    "# Jaynes-Cummings Hamiltonian\n",
    "Hjc = ( (w1-wq)*(w1*a1.dag()*a1) \n",
    "      - Ec/2*b.dag()*b.dag()*b*b )\n",
    "\n",
    "# Coupling Hamiltonians\n",
    "H1 = g1*(a1*b.dag() + b*a1.dag())\n",
    "\n",
    "\"\"\"\n",
    "g1 and E2 differ two orders of magnitude, isn't that a problem?\n",
    "\"\"\"\n",
    "\n",
    "# Hamiltonian arguments\n",
    "H_args = {\"t0\" : t0, \"t1\" : t1, \"t2\" : t2, \"t3\" : t3, \n",
    "          \"t4\" : t4, \"t5\" : t5, \"t6\" : t6, \"tg\" : tg,\n",
    "          \"g1\" : g1, \"Q\"  : Q}"
   ]
  },
  {
   "cell_type": "code",
   "execution_count": 4,
   "metadata": {},
   "outputs": [],
   "source": [
    "def pump_strength(args):\n",
    "    t0 = args['t0']\n",
    "    t1 = args['t1']\n",
    "    Q  = args['Q']\n",
    "    tau = t1-t0      # pulse duration\n",
    "    std = tau/(2*Q)  # standard deviation\n",
    "    time = lambda t : t/(std*sqrt(2))  # t' to pass to error function\n",
    "    \n",
    "    integral = sqrt(2*pi)*std*erf(time(tau)/2)\n",
    "    Omega = pi/integral\n",
    "    return Omega\n",
    "\n",
    "# Pump Hamiltonian\n",
    "Omega = pump_strength(H_args)\n",
    "H_args['Omega'] = Omega\n",
    "Hp = Omega/2*(b + b.dag())  # including rotating frame approximation"
   ]
  },
  {
   "cell_type": "code",
   "execution_count": 5,
   "metadata": {},
   "outputs": [],
   "source": [
    "# Collapse operators, losses\n",
    "cq = sqrt(kq)*b   # qubit\n",
    "c1 = sqrt(k1)*a1  # resonator 1\n",
    "c_ops = [cq, c1]\n",
    "\n",
    "# Expectation operators\n",
    "e_ops = [nq, n1, sx, sy, sz]"
   ]
  },
  {
   "cell_type": "code",
   "execution_count": 9,
   "metadata": {},
   "outputs": [],
   "source": [
    "def pump(t, args):\n",
    "    t0 = args['t0']  # start of pulse\n",
    "    t1 = args['t1']  # end of pulse\n",
    "    Q  = args['Q']\n",
    "    Omega = args['Omega']  # coupling between qubit and pump field\n",
    "    \"\"\"\n",
    "    Do not divide through 2pi in order to flip qubit to other state.\n",
    "    \"\"\"\n",
    "    \n",
    "    mu = (t1-t0)/2  # pulse center in time domain\n",
    "    std = (t1-t0)/(2*Q)  # standard deviation\n",
    "    confine = np.heaviside((t-t0), 0) - np.heaviside((t-t1), 0)  # entire pulse\n",
    "    \n",
    "    pulse = Omega*exp(-(t-mu)**2/(2*std**2))*confine\n",
    "    return pulse"
   ]
  },
  {
   "cell_type": "code",
   "execution_count": 21,
   "metadata": {},
   "outputs": [],
   "source": [
    "def square1(t, args):\n",
    "    t2 = args['t2']  # start of pulse\n",
    "    t3 = args['t3']  # end of pulse\n",
    "    tg = args['tg']  # time of Gaussian rise and fall\n",
    "    g1 = args['g1']  # pulse strength\n",
    "    Q  = args['Q']\n",
    "    \n",
    "    confine = np.heaviside((t-t2), 0) - np.heaviside((t-t3), 0)  # entire pulse\n",
    "    \n",
    "    # Rise and fall with Gaussian\n",
    "    std = tg/Q  # standard deviation of Gaussian\n",
    "    gauss = lambda mu : 1/sqrt(2*pi*std**2)*exp(-(t-mu)**2/(2*std**2))  # Gaussian\n",
    "    top = lambda std : 1/sqrt(2*pi*std**2)  # height of the Gaussian\n",
    "    print(g1)\n",
    "    print(top(std))\n",
    "    scale = g1/top(std)  # scale factor to attach Gaussian to block\n",
    "    print(scale)\n",
    "    print(scale*top(std))\n",
    "    \n",
    "    \n",
    "    block = g1*(np.heaviside((t-(t2+tg)), 0) - np.heaviside((t-(t3-tg)), 0))\n",
    "    rise = scale*gauss(t2+tg) * (1-np.heaviside((t-(t2+tg)), 0))\n",
    "    fall = scale*gauss(t3-tg) * (np.heaviside((t-(t3-tg)), 0))\n",
    "    \n",
    "    pulse = (rise + block + fall)*confine\n",
    "    return pulse"
   ]
  },
  {
   "cell_type": "code",
   "execution_count": 22,
   "metadata": {},
   "outputs": [
    {
     "name": "stdout",
     "output_type": "stream",
     "text": [
      "6283185.307179586\n",
      "119682684.12\n",
      "0.0524986998191\n",
      "6283185.30718\n"
     ]
    }
   ],
   "source": [
    "a = square1(np.linspace(0, t6, 1000), H_args)"
   ]
  },
  {
   "cell_type": "code",
   "execution_count": 8,
   "metadata": {},
   "outputs": [
    {
     "name": "stderr",
     "output_type": "stream",
     "text": [
      "/opt/conda/lib/python3.6/site-packages/scipy/integrate/_ode.py:927: UserWarning: zvode: Excess work done on this call. (Perhaps wrong MF.)\n",
      "  self.messages.get(istate, unexpected_istate_msg)))\n"
     ]
    },
    {
     "ename": "Exception",
     "evalue": "ODE integration error: Try to increase the allowed number of substeps by increasing the nsteps parameter in the Options class.",
     "output_type": "error",
     "traceback": [
      "\u001b[0;31m---------------------------------------------------------------------------\u001b[0m",
      "\u001b[0;31mException\u001b[0m                                 Traceback (most recent call last)",
      "\u001b[0;32m<ipython-input-8-ffa1fea9822a>\u001b[0m in \u001b[0;36m<module>\u001b[0;34m\u001b[0m\n\u001b[1;32m      5\u001b[0m \u001b[0moptions\u001b[0m\u001b[0;34m.\u001b[0m\u001b[0mstore_states\u001b[0m\u001b[0;34m=\u001b[0m\u001b[0;32mTrue\u001b[0m\u001b[0;34m\u001b[0m\u001b[0;34m\u001b[0m\u001b[0m\n\u001b[1;32m      6\u001b[0m \u001b[0;34m\u001b[0m\u001b[0m\n\u001b[0;32m----> 7\u001b[0;31m \u001b[0mresult\u001b[0m \u001b[0;34m=\u001b[0m \u001b[0mmesolve\u001b[0m\u001b[0;34m(\u001b[0m\u001b[0mH\u001b[0m\u001b[0;34m,\u001b[0m \u001b[0mpsi0\u001b[0m\u001b[0;34m,\u001b[0m \u001b[0mtlist\u001b[0m\u001b[0;34m,\u001b[0m \u001b[0mc_ops\u001b[0m\u001b[0;34m,\u001b[0m \u001b[0me_ops\u001b[0m\u001b[0;34m=\u001b[0m\u001b[0me_ops\u001b[0m\u001b[0;34m,\u001b[0m \u001b[0margs\u001b[0m\u001b[0;34m=\u001b[0m\u001b[0mH_args\u001b[0m\u001b[0;34m,\u001b[0m \u001b[0moptions\u001b[0m\u001b[0;34m=\u001b[0m\u001b[0moptions\u001b[0m\u001b[0;34m)\u001b[0m\u001b[0;34m\u001b[0m\u001b[0;34m\u001b[0m\u001b[0m\n\u001b[0m",
      "\u001b[0;32m/opt/conda/lib/python3.6/site-packages/qutip/mesolve.py\u001b[0m in \u001b[0;36mmesolve\u001b[0;34m(H, rho0, tlist, c_ops, e_ops, args, options, progress_bar, _safe_mode)\u001b[0m\n\u001b[1;32m    315\u001b[0m                 res = _mesolve_list_func_td(H, rho0, tlist, c_ops,\n\u001b[1;32m    316\u001b[0m                                             \u001b[0me_ops\u001b[0m\u001b[0;34m,\u001b[0m \u001b[0margs\u001b[0m\u001b[0;34m,\u001b[0m \u001b[0moptions\u001b[0m\u001b[0;34m,\u001b[0m\u001b[0;34m\u001b[0m\u001b[0;34m\u001b[0m\u001b[0m\n\u001b[0;32m--> 317\u001b[0;31m                                             progress_bar)\n\u001b[0m\u001b[1;32m    318\u001b[0m             \u001b[0;32melse\u001b[0m\u001b[0;34m:\u001b[0m\u001b[0;34m\u001b[0m\u001b[0;34m\u001b[0m\u001b[0m\n\u001b[1;32m    319\u001b[0m                 res = _mesolve_list_str_td(H, rho0, tlist, c_ops,\n",
      "\u001b[0;32m/opt/conda/lib/python3.6/site-packages/qutip/mesolve.py\u001b[0m in \u001b[0;36m_mesolve_list_func_td\u001b[0;34m(H_list, rho0, tlist, c_list, e_ops, args, opt, progress_bar)\u001b[0m\n\u001b[1;32m    455\u001b[0m     \u001b[0;31m# call generic ODE code\u001b[0m\u001b[0;34m\u001b[0m\u001b[0;34m\u001b[0m\u001b[0;34m\u001b[0m\u001b[0m\n\u001b[1;32m    456\u001b[0m     \u001b[0;31m#\u001b[0m\u001b[0;34m\u001b[0m\u001b[0;34m\u001b[0m\u001b[0;34m\u001b[0m\u001b[0m\n\u001b[0;32m--> 457\u001b[0;31m     \u001b[0;32mreturn\u001b[0m \u001b[0m_generic_ode_solve\u001b[0m\u001b[0;34m(\u001b[0m\u001b[0mr\u001b[0m\u001b[0;34m,\u001b[0m \u001b[0mrho0\u001b[0m\u001b[0;34m,\u001b[0m \u001b[0mtlist\u001b[0m\u001b[0;34m,\u001b[0m \u001b[0me_ops\u001b[0m\u001b[0;34m,\u001b[0m \u001b[0mopt\u001b[0m\u001b[0;34m,\u001b[0m \u001b[0mprogress_bar\u001b[0m\u001b[0;34m)\u001b[0m\u001b[0;34m\u001b[0m\u001b[0;34m\u001b[0m\u001b[0m\n\u001b[0m\u001b[1;32m    458\u001b[0m \u001b[0;34m\u001b[0m\u001b[0m\n\u001b[1;32m    459\u001b[0m \u001b[0;34m\u001b[0m\u001b[0m\n",
      "\u001b[0;32m/opt/conda/lib/python3.6/site-packages/qutip/mesolve.py\u001b[0m in \u001b[0;36m_generic_ode_solve\u001b[0;34m(r, rho0, tlist, e_ops, opt, progress_bar)\u001b[0m\n\u001b[1;32m   1041\u001b[0m \u001b[0;34m\u001b[0m\u001b[0m\n\u001b[1;32m   1042\u001b[0m         \u001b[0;32mif\u001b[0m \u001b[0;32mnot\u001b[0m \u001b[0mr\u001b[0m\u001b[0;34m.\u001b[0m\u001b[0msuccessful\u001b[0m\u001b[0;34m(\u001b[0m\u001b[0;34m)\u001b[0m\u001b[0;34m:\u001b[0m\u001b[0;34m\u001b[0m\u001b[0;34m\u001b[0m\u001b[0m\n\u001b[0;32m-> 1043\u001b[0;31m             raise Exception(\"ODE integration error: Try to increase \"\n\u001b[0m\u001b[1;32m   1044\u001b[0m                             \u001b[0;34m\"the allowed number of substeps by increasing \"\u001b[0m\u001b[0;34m\u001b[0m\u001b[0;34m\u001b[0m\u001b[0m\n\u001b[1;32m   1045\u001b[0m                             \"the nsteps parameter in the Options class.\")\n",
      "\u001b[0;31mException\u001b[0m: ODE integration error: Try to increase the allowed number of substeps by increasing the nsteps parameter in the Options class."
     ]
    }
   ],
   "source": [
    "H = [Hjc, [Hp, pump], [H1, square1]]  # complete Hamiltonian\n",
    "tlist = np.linspace(0, N_repeat*t6, int(1e5))  # discrete time steps for which to store the output\n",
    "psi0 = tensor(basis(Nq,1), basis(N1,0))  # initial state\n",
    "# options.nsteps = 1e5  # max number of steps to take for each interval\n",
    "options.store_states=True\n",
    "\n",
    "result = mesolve(H, psi0, tlist, c_ops, e_ops=e_ops, args=H_args, options=options)"
   ]
  },
  {
   "cell_type": "code",
   "execution_count": 16,
   "metadata": {},
   "outputs": [
    {
     "name": "stdout",
     "output_type": "stream",
     "text": [
      "0.0524986998191\n",
      "6283185.307179586\n"
     ]
    },
    {
     "data": {
      "image/png": "[encoded data removed]",
      "text/plain": [
       "<Figure size 432x288 with 1 Axes>"
      ]
     },
     "metadata": {
      "needs_background": "light"
     },
     "output_type": "display_data"
    }
   ],
   "source": [
    "pulse = square1(tlist, H_args)\n",
    "plt.plot(tlist, pulse)\n",
    "print(g1)"
   ]
  },
  {
   "cell_type": "code",
   "execution_count": null,
   "metadata": {},
   "outputs": [],
   "source": [
    "print(result.expect)"
   ]
  },
  {
   "cell_type": "code",
   "execution_count": null,
   "metadata": {},
   "outputs": [],
   "source": [
    "plt.plot(result.expect[0])"
   ]
  },
  {
   "cell_type": "code",
   "execution_count": null,
   "metadata": {},
   "outputs": [],
   "source": [
    "print(g1-wq)\n",
    "print(1/(g1-wq))\n",
    "print(t6/options.nsteps)"
   ]
  },
  {
   "cell_type": "code",
   "execution_count": null,
   "metadata": {},
   "outputs": [],
   "source": []
  }
 ],
 "metadata": {
  "kernelspec": {
   "display_name": "Python 3",
   "language": "python",
   "name": "python3"
  },
  "language_info": {
   "codemirror_mode": {
    "name": "ipython",
    "version": 3
   },
   "file_extension": ".py",
   "mimetype": "text/x-python",
   "name": "python",
   "nbconvert_exporter": "python",
   "pygments_lexer": "ipython3",
   "version": "3.6.7"
  }
 },
 "nbformat": 4,
 "nbformat_minor": 2
}
