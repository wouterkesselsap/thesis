{
 "cells": [
  {
   "cell_type": "code",
   "execution_count": 1,
   "metadata": {},
   "outputs": [],
   "source": [
    "# Magic commands\n",
    "%matplotlib inline\n",
    "\n",
    "# External packages\n",
    "import os\n",
    "import numpy as np\n",
    "import pickle as pkl\n",
    "import matplotlib.pyplot as plt\n",
    "import multiprocessing as mp\n",
    "from qutip import *\n",
    "from pylab import *\n",
    "from ipywidgets import widgets\n",
    "from IPython.display import display, HTML\n",
    "from datetime import datetime\n",
    "\n",
    "# cQED modules\n",
    "from plotsettings import *\n",
    "from plots import *\n",
    "from supports import *\n",
    "from process import *\n",
    "from calculate import *\n",
    "from envelopes import *\n",
    "from scan import *\n",
    "\n",
    "home = os.getcwd() + \"/\""
   ]
  },
  {
   "cell_type": "code",
   "execution_count": 8,
   "metadata": {},
   "outputs": [],
   "source": [
    "# Device \n",
    "Nq = 2         # number of levels in qubit\n",
    "Nc = 10         # number of levels in resonator 1\n",
    "wq = 6.5 *2*pi  # bare g-e qubit transition frequency\n",
    "wc = 4.0 *2*pi  # bare resonator frequency\n",
    "Ec = 0.2 *2*pi  # anharmonicity (charging energy)\n",
    "g  = 0.2 *2*pi  # coupling between qubit and resonator\n",
    "\n",
    "# Anharmonicity approximation\n",
    "anh_appr = False  # remove off-diagonal elements from H_anh?\n",
    "\n",
    "# Sideband transitions\n",
    "sb = 'blue'  # type of sideband transitions\n",
    "Nt = 1      # number of drive tones\n",
    "\n",
    "# Single-tone\n",
    "eps_list = np.linspace(0.8, 0.8, 1) *2*2*pi\n",
    "wd_list  = np.linspace(5.8829, 5.8829, 1) *2*pi\n",
    "\n",
    "# Double-tone\n",
    "epsfac_list = np.linspace(0.0, 3.0, 2)  # factor with which to scale the drive tone amplitudes\n",
    "wdq         = np.linspace(3.0, 5.0, 2)  # frequency of qubit-friendly drive tone\n",
    "epsq_list   = epsfac_list * 0.025 *2 *2*pi  # amplitude of qubit-friendly drive tone\n",
    "epsc_list   = epsfac_list * 0.317 *2 *2*pi  # amplitude of cavity-friendly drive tone\n",
    "dw     = 0.5 *2*pi               # detuning of wdc from wc\n",
    "wdc    = wc - dw                 # frequency of cavity-friendly drive tone\n",
    "\n",
    "# Time cycle\n",
    "t0 = 0         # start of simulation\n",
    "t1 = t0 + 0    # start of drive and coupling\n",
    "t2 = t1 + 50  # end of drive of drive and coupling\n",
    "t3 = t2 + 0    # end of simulation\n",
    "\n",
    "# Gaussian rise and fall\n",
    "tg = 10         # length of gaussian rise and fall\n",
    "gauss = True    # whether or not to rise and fall with gaussian\n",
    "smooth = False  # whether to start gaussian at 0 or with small jump\n",
    "Q = 3           # number of std's in gaussian rise and fall\n",
    "\n",
    "# Convergent method\n",
    "convergent = False  # use convergent method\n",
    "\n",
    "# Integration\n",
    "method = 'bdf'  # mesolve's integration method, either 'bdf' or 'adams'"
   ]
  },
  {
   "cell_type": "code",
   "execution_count": 9,
   "metadata": {},
   "outputs": [],
   "source": [
    "b, a, nq, nc = ops(Nq, Nc)  # Operators\n",
    "\n",
    "# Individual Hamiltonian terms\n",
    "if anh_appr or Nq == 2:\n",
    "    Hi = wq*nq + wc*nc - Ec/2*b.dag()*b.dag()*b*b  # devices intrinsic\n",
    "else:\n",
    "    Hi = (wq+Ec)*nq + wc*nc - Ec/12*(b + b.dag())**4\n",
    "Hc = g*(a + a.dag())*(b + b.dag())  # coupling"
   ]
  },
  {
   "cell_type": "code",
   "execution_count": 10,
   "metadata": {},
   "outputs": [
    {
     "name": "stdout",
     "output_type": "stream",
     "text": [
      "timestep = 10.0 ps\n"
     ]
    }
   ],
   "source": [
    "# Set the initial state based on the type of sideband transition\n",
    "if sb == 'red':\n",
    "    psi0 = tensor(basis(Nq, 1), basis(Nc, 0))  # Red: qubit excited, cavity in ground state\n",
    "elif sb == 'blue':\n",
    "    psi0 = tensor(basis(Nq, 0), basis(Nc, 0))  # Blue: both qubit and cavity in ground state\n",
    "\n",
    "# Set the expectation and collapse operators for the solver\n",
    "e_ops = [nq, nc]  # expectation operators\n",
    "c_ops = []        # collapse operators\n",
    "\n",
    "# Set the options for the Lindblad ME solver\n",
    "options = Options()\n",
    "options.store_states=True\n",
    "if method == 'bdf':\n",
    "    options.method = 'bdf'\n",
    "    options.rtol = 1e-10\n",
    "    options.atol = 1e-10\n",
    "else:  # adams\n",
    "    options.nsteps = 1000\n",
    "    options.rtol = 1e-10\n",
    "    options.atol = 1e-10\n",
    "    options.max_step = 0\n",
    "\n",
    "# Set the time steps for which to store the output of the solver\n",
    "if not convergent:\n",
    "    Np = 100 *int(t3)  # number of equidistant data points in time\n",
    "    print(\"timestep =\", 1e3*np.round(t3/Np, 5), \"ps\")\n",
    "elif convergent:\n",
    "    Np = 2 *int(t3)    # number of equidistant data points in time\n",
    "    print(\"timestep =\", 1e3*np.round((t3-2*tg)/Np, 5), \"ps\")\n",
    "Np_per_batch = Np/int(np.round(t3/10))  # number of time points per batch"
   ]
  },
  {
   "cell_type": "code",
   "execution_count": 11,
   "metadata": {},
   "outputs": [],
   "source": [
    "data = {\n",
    "    'Nq' : Nq, 'Nc' : Nc, 'wq' : wq, 'wc' : wc, 'Ec' : Ec, 'g'  : g, 'anh_appr' : anh_appr, 'sb' : sb, 'Nt' : Nt,\n",
    "    't0' : t0, 't1' : t1, 't2' : t2, 't3' : t3, 'tg' : tg, 'gauss' : gauss, 'smooth' : smooth, 'Q'  : Q,\n",
    "    'convergent' : convergent, 'Np' : Np\n",
    "}"
   ]
  },
  {
   "cell_type": "code",
   "execution_count": 18,
   "metadata": {},
   "outputs": [],
   "source": [
    "def sbsample(Nq, wq, wc, Ec, g, wd, sb, Nt, H, H_args, psi0, Np_per_batch,\n",
    "             options, home, parallel, *args):\n",
    "    from envelopes import drive\n",
    "    \n",
    "    i = wd[0]\n",
    "    wd = wd[1]\n",
    "    \n",
    "    Nc = 10  # number of levels in resonator 1\n",
    "    \n",
    "    Np = 100*int(H_args['t3'])  # number of discrete time steps for which to store the output\n",
    "    b, a, nq, nc = ops(Nq, Nc)  # Operators\n",
    "    if Nt == 1:\n",
    "        H_args['wd'] = wd\n",
    "    elif Nt == 2:\n",
    "        dw = args[2]\n",
    "        wdq = wd\n",
    "        wdc =  wc - dw\n",
    "        H_args['wdq'] = wdq\n",
    "        H_args['wdc'] = wdc\n",
    "    e_ops = [nq, nc]\n",
    "    c_ops = []\n",
    "        \n",
    "    srcfolder = calculate(H, psi0, e_ops, c_ops, H_args, options, Nc, Np, Np_per_batch,\n",
    "                          home, parallel, verbose=False)\n",
    "    \n",
    "    quants = ['times', 'expect', 'e0', 'g1', 'e1', 'g0', 'coupling']\n",
    "    ID = getID(srcfolder)\n",
    "    combine_batches(srcfolder, quants=quants, return_data=False)\n",
    "    times, states, expect, e0, g1, e1, g0, coupling = load_data(quants, srcfolder)\n",
    "    \n",
    "    if i < 10:\n",
    "        num = \"0\" + str(i)\n",
    "    elif i >= 10:\n",
    "        num = str(i)\n",
    "        \n",
    "    e1g0_macro, e1g0_macro_times = remove_micromotion((e1-g0)[1000:-1000], times[1000:-1000], method='savgol')\n",
    "    e0g1_macro, e0g1_macro_times = remove_micromotion((e0-g1)[1000:-1000], times[1000:-1000], method='savgol')\n",
    "    \n",
    "    e1g0_macro, e1g0_macro_times = remove_micromotion((e1-g0), times, method='savgol')\n",
    "    e0g1_macro, e0g1_macro_times = remove_micromotion((e0-g1), times, method='savgol')\n",
    "\n",
    "    if sb == 'red':\n",
    "        maximum = max(e0g1_macro)\n",
    "        minimum = min(e0g1_macro)\n",
    "        wsb = sideband_freq(e0g1_macro, e0g1_macro_times)\n",
    "    elif sb == 'blue':\n",
    "        maximum = max(e1g0_macro)\n",
    "        minimum = min(e1g0_macro)\n",
    "        wsb = sideband_freq(e1g0_macro, e1g0_macro_times)\n",
    "    \n",
    "    plt.figure()\n",
    "    plt.plot(times, e0-g1)\n",
    "    plt.plot(e0g1_macro_times, e0g1_macro)\n",
    "    plt.show()\n",
    "    \n",
    "    return wsb, minimum, maximum"
   ]
  },
  {
   "cell_type": "code",
   "execution_count": 19,
   "metadata": {},
   "outputs": [
    {
     "name": "stdout",
     "output_type": "stream",
     "text": [
      "1 / 1\n",
      "WARNING: not enough sideband oscillations to determinde frequency,\n",
      "         increase the simulation time\n"
     ]
    },
    {
     "data": {
      "image/png": "[encoded data removed]",
      "text/plain": [
       "<Figure size 432x288 with 1 Axes>"
      ]
     },
     "metadata": {
      "needs_background": "light"
     },
     "output_type": "display_data"
    }
   ],
   "source": [
    "Npool = 2  # number of parallel simulations\n",
    "\n",
    "if Nt == 1:\n",
    "    maxima = np.zeros([len(eps_list), len(wd_list)])\n",
    "    wsbs   = np.zeros([len(eps_list), len(wd_list)])\n",
    "    \n",
    "    for i, eps in enumerate(eps_list):\n",
    "        print(\"{} / {}\".format(i+1, len(eps_list)))\n",
    "        Hd = eps*(b + b.dag())    # single-tone drive\n",
    "        H = [Hi, [Hc, drive_nonosc], [Hd, drive]]  # monochromatic drive\n",
    "        H_args = {'t0' : t0, 't1' : t1, 't2' : t2, 't3' : t3, 'tg' : tg, 'Q'  : Q, 'gauss' : gauss,\n",
    "                  'smooth' : smooth, 'convergent' : convergent, 'Nt' : Nt, 'H' : H}\n",
    "\n",
    "        wds = zip(range(len(wd_list)), wd_list)\n",
    "        pool = mp.Pool(Npool)\n",
    "        result = pool.starmap(sbsample, [(Nq, wq, wc, Ec, g, Wd, sb, Nt, H, H_args, psi0, Np_per_batch, options,\n",
    "                                          home, True, eps) for Wd in wds])\n",
    "        pool.close()\n",
    "        \n",
    "        for j in range(len(wd_list)):\n",
    "            wsbs[i][j] = result[j][0]\n",
    "            if sb == 'red':\n",
    "                maxima[i][j] = result[j][1]\n",
    "            elif sb == 'blue':\n",
    "                maxima[i][j] = result[j][2]\n",
    "    \n",
    "    data['wd_list'] = wd_list\n",
    "    data['eps_list'] = eps_list\n",
    "    \n",
    "elif Nt == 2:\n",
    "    maxima = np.zeros([len(epsq_list), len(wdq_list)])\n",
    "    wsbs   = np.zeros([len(epsq_list), len(wdq_list)])\n",
    "    \n",
    "    for epsq, epsc in zip(epsq_list, epsc_list):\n",
    "        print(\"{} / {}\".format(i+1, len(epsq_list)))\n",
    "        Hdq = epsq*(b + b.dag())  # double-tone qubit-friendly drive\n",
    "        Hdc = epsc*(b + b.dag())  # double-tone cavity-friendly drive\n",
    "        H = [Hi, [Hc, drive_nonosc], [Hdq, driveq], [Hdc, drivec]]  # bichromatic drive\n",
    "        H_args = {'t0' : t0, 't1' : t1, 't2' : t2, 't3' : t3, 'tg' : tg, 'Q'  : Q, 'gauss' : gauss,\n",
    "                  'smooth' : smooth, 'convergent' : convergent, 'Nt' : Nt, 'H' : H}\n",
    "        \n",
    "        wdqs = zip(range(len(wdq_list)), wdq_list)\n",
    "        pool = mp.Pool(Npool)\n",
    "        result = pool.starmap(sbsample, [(Nq, wq, wc, Ec, g, Wdq, sb, Nt, H, H_args, psi0, Np_per_batch, options, home, True,\n",
    "                                          epsq, epsc, dw) for Wdq in wdqs])\n",
    "        pool.close()\n",
    "        \n",
    "        for j in range(len(wdq_list)):\n",
    "            wsbs[i][j] = result[j][0]\n",
    "            if sb == 'red':\n",
    "                maxima[i][j] = result[j][1]\n",
    "            elif sb == 'blue':\n",
    "                maxima[i][j] = result[j][2]\n",
    "    \n",
    "    data['wdq_list'] = wdq_list\n",
    "    data['wdc'] = wdc,\n",
    "    data['epsq_list'] = epsq_list\n",
    "    data['epsc_list'] = epsc_list\n",
    "\n",
    "data['maxima'] = maxima\n",
    "data['wsbs'] = wsbs\n",
    "\n",
    "pklfile = open(os.getcwd() + \"/data/chevron_data_\" + datetime.now().strftime(\"%y%m%d_%H%M%S\"), \"wb\")\n",
    "pickle.dump(data, pklfile)\n",
    "pklfile.close()"
   ]
  },
  {
   "cell_type": "code",
   "execution_count": 52,
   "metadata": {},
   "outputs": [
    {
     "data": {
      "image/png": "[encoded data removed]",
      "text/plain": [
       "<Figure size 432x288 with 2 Axes>"
      ]
     },
     "metadata": {
      "needs_background": "light"
     },
     "output_type": "display_data"
    },
    {
     "data": {
      "image/png": "[encoded data removed]",
      "text/plain": [
       "<Figure size 432x288 with 2 Axes>"
      ]
     },
     "metadata": {
      "needs_background": "light"
     },
     "output_type": "display_data"
    }
   ],
   "source": [
    "plt.pcolor(maxima)\n",
    "plt.colorbar()\n",
    "plt.show()\n",
    "\n",
    "plt.pcolor(wsbs)\n",
    "plt.colorbar()\n",
    "plt.show()"
   ]
  },
  {
   "cell_type": "code",
   "execution_count": null,
   "metadata": {},
   "outputs": [],
   "source": []
  }
 ],
 "metadata": {
  "kernelspec": {
   "display_name": "Python 3",
   "language": "python",
   "name": "python3"
  },
  "language_info": {
   "codemirror_mode": {
    "name": "ipython",
    "version": 3
   },
   "file_extension": ".py",
   "mimetype": "text/x-python",
   "name": "python",
   "nbconvert_exporter": "python",
   "pygments_lexer": "ipython3",
   "version": "3.7.3"
  }
 },
 "nbformat": 4,
 "nbformat_minor": 2
}
