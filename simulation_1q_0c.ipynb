{
 "cells": [
  {
   "cell_type": "code",
   "execution_count": 1,
   "metadata": {},
   "outputs": [],
   "source": [
    "%matplotlib inline\n",
    "import numpy as np\n",
    "import matplotlib.pyplot as plt\n",
    "from qutip import *\n",
    "from scipy.special import erf\n",
    "\n",
    "pi = np.pi\n",
    "exp = np.exp\n",
    "sqrt = np.sqrt\n",
    "hbar = 1.0546e-34  # reduced Planck constant\n",
    "options = Options()"
   ]
  },
  {
   "cell_type": "code",
   "execution_count": 2,
   "metadata": {},
   "outputs": [],
   "source": [
    "Nq = 2  # number of levels in qubit\n",
    "\n",
    "wq = 7e9*2*pi  # qubit frequency\n",
    "wp = wq        # pump frequency\n",
    "\n",
    "kq = 50e3*2*pi  # photon emission frequency of qubit (qubit decay rate)\n",
    "\n",
    "Ec = 200e6*2*pi  # Anharmonicity\n",
    "\n",
    "t0 = 0            # start Gaussian pulse Omega\n",
    "t1 = t0 + 50e-9   # end Gaussian pulse Omega\n",
    "t2 = t1 + 10e-9   # start square pulse at resonator 1\n",
    "t3 = t2 + 300e-9  # end square pulse at resonator 1\n",
    "t4 = t3 + 10e-9   # start square pulse at resonator 2\n",
    "t5 = t4 + 300e-9  # end square pulse at resonator 2\n",
    "t6 = t5 + 10e-9   # t0\n",
    "tg = 10e-9        # Gaussian rise and fall time of square pulse\n",
    "\n",
    "N_repeat = 1  # number of times to repeat cycle\n",
    "Q = 3  # number of std's in Gaussian curves, rises and falls"
   ]
  },
  {
   "cell_type": "code",
   "execution_count": 3,
   "metadata": {},
   "outputs": [],
   "source": [
    "# Convention:\n",
    "# [qubit, resonator 1, resonator 2]\n",
    "\n",
    "# Qubit operators\n",
    "b = destroy(Nq)\n",
    "nq = b.dag()*b\n",
    "sx = sigmax() # x-projection of qubit level\n",
    "sy = sigmay() # y-projection of qubit level\n",
    "sz = sigmaz() # z-projection of qubit level\n",
    "\n",
    "# Jaynes-Cummings Hamiltonian\n",
    "Hjc = - Ec/2*b.dag()*b.dag()*b*b\n",
    "\"\"\"\n",
    "Does the derivative term of the unity operator still\n",
    "have to be added?\n",
    "\"\"\"\n",
    "\n",
    "# Hamiltonian arguments\n",
    "H_args = {\"t0\" : t0, \"t1\" : t1, \"t2\" : t2, \"t3\" : t3, \n",
    "          \"t4\" : t4, \"t5\" : t5, \"t6\" : t6, \"tg\" : tg,\n",
    "          \"Q\"  : Q}"
   ]
  },
  {
   "cell_type": "code",
   "execution_count": 12,
   "metadata": {},
   "outputs": [
    {
     "name": "stdout",
     "output_type": "stream",
     "text": [
      "43982297150.2571\n",
      "150804838.788\n",
      "43831492311.5\n"
     ]
    }
   ],
   "source": [
    "def pump_strength(args):\n",
    "    t0 = args['t0']\n",
    "    t1 = args['t1']\n",
    "    Q  = args['Q']\n",
    "    tau = t1-t0      # pulse duration\n",
    "    std = tau/(2*Q)  # standard deviation\n",
    "    time = lambda t : t/(std*sqrt(2))  # t' to pass to error function\n",
    "    \n",
    "    integral = sqrt(2*pi)*std*erf(time(tau)/2)\n",
    "    Omega = pi/integral\n",
    "    return Omega\n",
    "\n",
    "# Pump Hamiltonian\n",
    "Omega = pump_strength(H_args)\n",
    "H_args['Omega'] = Omega\n",
    "Hp = (wp-Omega)/2*(b + b.dag()) #- wp*b.dag()*b  # including rotating frame approximation\n",
    "print(wp)\n",
    "print(Omega)\n",
    "print(wp-Omega)"
   ]
  },
  {
   "cell_type": "code",
   "execution_count": 9,
   "metadata": {},
   "outputs": [],
   "source": [
    "# Collapse operators, losses\n",
    "cq = sqrt(kq)*b   # qubit\n",
    "c_ops = [cq]\n",
    "\n",
    "# Expectation operators\n",
    "e_ops = [nq, sx, sy, sz]"
   ]
  },
  {
   "cell_type": "code",
   "execution_count": 10,
   "metadata": {},
   "outputs": [],
   "source": [
    "def pump(t, args):\n",
    "    t0 = args['t0']  # start of pulse\n",
    "    t1 = args['t1']  # end of pulse\n",
    "    Q  = args['Q']\n",
    "    Omega = args['Omega']  # coupling between qubit and pump field\n",
    "    \"\"\"\n",
    "    Do not divide through 2pi in order to flip qubit to other state.\n",
    "    \"\"\"\n",
    "    \n",
    "    mu = (t1-t0)/2  # pulse center in time domain\n",
    "    std = (t1-t0)/(2*Q)  # standard deviation\n",
    "    confine = np.heaviside((t-t0), 0) - np.heaviside((t-t1), 0)  # entire pulse\n",
    "    \n",
    "    pulse = Omega*exp(-(t-mu)**2/(2*std**2))*confine\n",
    "    return pulse"
   ]
  },
  {
   "cell_type": "code",
   "execution_count": 11,
   "metadata": {},
   "outputs": [
    {
     "ename": "Exception",
     "evalue": "ODE integration error: Try to increase the allowed number of substeps by increasing the nsteps parameter in the Options class.",
     "output_type": "error",
     "traceback": [
      "\u001b[0;31m---------------------------------------------------------------------------\u001b[0m",
      "\u001b[0;31mException\u001b[0m                                 Traceback (most recent call last)",
      "\u001b[0;32m<ipython-input-11-f02ff2a106bd>\u001b[0m in \u001b[0;36m<module>\u001b[0;34m\u001b[0m\n\u001b[1;32m      5\u001b[0m \u001b[0moptions\u001b[0m\u001b[0;34m.\u001b[0m\u001b[0mstore_states\u001b[0m\u001b[0;34m=\u001b[0m\u001b[0;32mTrue\u001b[0m\u001b[0;34m\u001b[0m\u001b[0;34m\u001b[0m\u001b[0m\n\u001b[1;32m      6\u001b[0m \u001b[0;34m\u001b[0m\u001b[0m\n\u001b[0;32m----> 7\u001b[0;31m \u001b[0mresult\u001b[0m \u001b[0;34m=\u001b[0m \u001b[0mmesolve\u001b[0m\u001b[0;34m(\u001b[0m\u001b[0mH\u001b[0m\u001b[0;34m,\u001b[0m \u001b[0mpsi0\u001b[0m\u001b[0;34m,\u001b[0m \u001b[0mtlist\u001b[0m\u001b[0;34m,\u001b[0m \u001b[0mc_ops\u001b[0m\u001b[0;34m,\u001b[0m \u001b[0me_ops\u001b[0m\u001b[0;34m=\u001b[0m\u001b[0me_ops\u001b[0m\u001b[0;34m,\u001b[0m \u001b[0margs\u001b[0m\u001b[0;34m=\u001b[0m\u001b[0mH_args\u001b[0m\u001b[0;34m,\u001b[0m \u001b[0moptions\u001b[0m\u001b[0;34m=\u001b[0m\u001b[0moptions\u001b[0m\u001b[0;34m)\u001b[0m\u001b[0;34m\u001b[0m\u001b[0;34m\u001b[0m\u001b[0m\n\u001b[0m",
      "\u001b[0;32m/opt/conda/lib/python3.6/site-packages/qutip/mesolve.py\u001b[0m in \u001b[0;36mmesolve\u001b[0;34m(H, rho0, tlist, c_ops, e_ops, args, options, progress_bar, _safe_mode)\u001b[0m\n\u001b[1;32m    315\u001b[0m                 res = _mesolve_list_func_td(H, rho0, tlist, c_ops,\n\u001b[1;32m    316\u001b[0m                                             \u001b[0me_ops\u001b[0m\u001b[0;34m,\u001b[0m \u001b[0margs\u001b[0m\u001b[0;34m,\u001b[0m \u001b[0moptions\u001b[0m\u001b[0;34m,\u001b[0m\u001b[0;34m\u001b[0m\u001b[0;34m\u001b[0m\u001b[0m\n\u001b[0;32m--> 317\u001b[0;31m                                             progress_bar)\n\u001b[0m\u001b[1;32m    318\u001b[0m             \u001b[0;32melse\u001b[0m\u001b[0;34m:\u001b[0m\u001b[0;34m\u001b[0m\u001b[0;34m\u001b[0m\u001b[0m\n\u001b[1;32m    319\u001b[0m                 res = _mesolve_list_str_td(H, rho0, tlist, c_ops,\n",
      "\u001b[0;32m/opt/conda/lib/python3.6/site-packages/qutip/mesolve.py\u001b[0m in \u001b[0;36m_mesolve_list_func_td\u001b[0;34m(H_list, rho0, tlist, c_list, e_ops, args, opt, progress_bar)\u001b[0m\n\u001b[1;32m    455\u001b[0m     \u001b[0;31m# call generic ODE code\u001b[0m\u001b[0;34m\u001b[0m\u001b[0;34m\u001b[0m\u001b[0;34m\u001b[0m\u001b[0m\n\u001b[1;32m    456\u001b[0m     \u001b[0;31m#\u001b[0m\u001b[0;34m\u001b[0m\u001b[0;34m\u001b[0m\u001b[0;34m\u001b[0m\u001b[0m\n\u001b[0;32m--> 457\u001b[0;31m     \u001b[0;32mreturn\u001b[0m \u001b[0m_generic_ode_solve\u001b[0m\u001b[0;34m(\u001b[0m\u001b[0mr\u001b[0m\u001b[0;34m,\u001b[0m \u001b[0mrho0\u001b[0m\u001b[0;34m,\u001b[0m \u001b[0mtlist\u001b[0m\u001b[0;34m,\u001b[0m \u001b[0me_ops\u001b[0m\u001b[0;34m,\u001b[0m \u001b[0mopt\u001b[0m\u001b[0;34m,\u001b[0m \u001b[0mprogress_bar\u001b[0m\u001b[0;34m)\u001b[0m\u001b[0;34m\u001b[0m\u001b[0;34m\u001b[0m\u001b[0m\n\u001b[0m\u001b[1;32m    458\u001b[0m \u001b[0;34m\u001b[0m\u001b[0m\n\u001b[1;32m    459\u001b[0m \u001b[0;34m\u001b[0m\u001b[0m\n",
      "\u001b[0;32m/opt/conda/lib/python3.6/site-packages/qutip/mesolve.py\u001b[0m in \u001b[0;36m_generic_ode_solve\u001b[0;34m(r, rho0, tlist, e_ops, opt, progress_bar)\u001b[0m\n\u001b[1;32m   1041\u001b[0m \u001b[0;34m\u001b[0m\u001b[0m\n\u001b[1;32m   1042\u001b[0m         \u001b[0;32mif\u001b[0m \u001b[0;32mnot\u001b[0m \u001b[0mr\u001b[0m\u001b[0;34m.\u001b[0m\u001b[0msuccessful\u001b[0m\u001b[0;34m(\u001b[0m\u001b[0;34m)\u001b[0m\u001b[0;34m:\u001b[0m\u001b[0;34m\u001b[0m\u001b[0;34m\u001b[0m\u001b[0m\n\u001b[0;32m-> 1043\u001b[0;31m             raise Exception(\"ODE integration error: Try to increase \"\n\u001b[0m\u001b[1;32m   1044\u001b[0m                             \u001b[0;34m\"the allowed number of substeps by increasing \"\u001b[0m\u001b[0;34m\u001b[0m\u001b[0;34m\u001b[0m\u001b[0m\n\u001b[1;32m   1045\u001b[0m                             \"the nsteps parameter in the Options class.\")\n",
      "\u001b[0;31mException\u001b[0m: ODE integration error: Try to increase the allowed number of substeps by increasing the nsteps parameter in the Options class."
     ]
    }
   ],
   "source": [
    "H = [Hjc, [Hp, pump]]  # complete Hamiltonian\n",
    "tlist = np.linspace(0, N_repeat*t6, 1000)  # discrete time steps for which to store the output\n",
    "psi0 = basis(Nq,0)  # initial state\n",
    "options.nsteps = 1e5  # max number of steps to take for each interval\n",
    "options.store_states=True\n",
    "\n",
    "result = mesolve(H, psi0, tlist, c_ops, e_ops=e_ops, args=H_args, options=options)"
   ]
  },
  {
   "cell_type": "code",
   "execution_count": null,
   "metadata": {},
   "outputs": [],
   "source": [
    "pulse = pump(tlist, H_args)\n",
    "plt.plot(tlist, pulse)"
   ]
  },
  {
   "cell_type": "code",
   "execution_count": null,
   "metadata": {},
   "outputs": [],
   "source": [
    "plt.plot(result.expect[3])"
   ]
  },
  {
   "cell_type": "code",
   "execution_count": null,
   "metadata": {},
   "outputs": [],
   "source": [
    "\"\"\"\n",
    "If the qubit is in its excited state it will loose energy due to the collapse operator,\n",
    "but no cavities are simulated. Where does the energy flow to?\n",
    "Apparently, QuTiP does not consider energy conservation?\n",
    "\"\"\""
   ]
  },
  {
   "cell_type": "code",
   "execution_count": null,
   "metadata": {},
   "outputs": [],
   "source": [
    "erf(3)"
   ]
  },
  {
   "cell_type": "code",
   "execution_count": null,
   "metadata": {},
   "outputs": [],
   "source": []
  }
 ],
 "metadata": {
  "kernelspec": {
   "display_name": "Python 3",
   "language": "python",
   "name": "python3"
  },
  "language_info": {
   "codemirror_mode": {
    "name": "ipython",
    "version": 3
   },
   "file_extension": ".py",
   "mimetype": "text/x-python",
   "name": "python",
   "nbconvert_exporter": "python",
   "pygments_lexer": "ipython3",
   "version": "3.6.7"
  }
 },
 "nbformat": 4,
 "nbformat_minor": 2
}
