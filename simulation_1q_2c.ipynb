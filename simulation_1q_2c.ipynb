{
 "cells": [
  {
   "cell_type": "markdown",
   "metadata": {},
   "source": [
    "--- NOTES ---\n",
    "\n",
    "- 1 ns unit for time\n",
    "- Conventions:\n",
    "  - [qubit, resonator 1, resonator 2]\n",
    "  - Qubit, pump: blue\n",
    "  - Resonator 1, coupling 1: green\n",
    "  - Resonator 2, coupling 2: red"
   ]
  },
  {
   "cell_type": "code",
   "execution_count": 1,
   "metadata": {},
   "outputs": [],
   "source": [
    "%matplotlib inline\n",
    "import numpy as np\n",
    "import matplotlib.pyplot as plt\n",
    "import plots\n",
    "import os\n",
    "import shutil\n",
    "import time\n",
    "from datetime import datetime\n",
    "from glob import glob\n",
    "from copy import copy\n",
    "from supports_1q_2c import *\n",
    "from qutip import *\n",
    "from scipy.special import erf\n",
    "from scipy.signal import argrelextrema\n",
    "\n",
    "pi = np.pi\n",
    "exp = np.exp\n",
    "sqrt = np.sqrt\n",
    "hbar = 1.0546e-34*1e-9  # reduced Planck constant\n",
    "All = 'all'\n",
    "options = Options()"
   ]
  },
  {
   "cell_type": "code",
   "execution_count": 2,
   "metadata": {},
   "outputs": [],
   "source": [
    "Nq = 3   # number of levels in qubit\n",
    "N1 = 10  # number of levels in resonator 1\n",
    "N2 = 10  # number of levels in resonator 2\n",
    "\n",
    "wq = 7*2*pi  # qubit frequency\n",
    "wp = wq  # pump frequency\n",
    "w1 = wq  # resonator 1 frequency\n",
    "w2 = wq  # resonator 2 frequency\n",
    "\n",
    "kq = 50e-6*2*pi  # photon emission frequency of qubit (qubit decay rate)\n",
    "k1 = 10e-6*2*pi  # photon emission freqency of resonator 1 (resonator 1 decay rate)\n",
    "k2 = 8e-3*2*pi   # photon emission frequency of resonator 2 (resonator 2 decay rate)\n",
    "\n",
    "g1 = 400e-6*2*pi  # drive frequency resonator 1, coupling between qubit and resonator 1\n",
    "g2 = 3e-3*2*pi    # drive frequency resonator 2, coupling between qubit and resonator 2\n",
    "\n",
    "chi1 = 30e-6*2*pi   # state-dependent frequency shift of resonator 1\n",
    "chi2 = 500e-6*2*pi  # state-dependent frequency shift of resonator 2\n",
    "delta = 0\n",
    "\n",
    "Ec = 0.16*2*pi  # Anharmonicity"
   ]
  },
  {
   "cell_type": "code",
   "execution_count": 3,
   "metadata": {},
   "outputs": [],
   "source": [
    "t0 = 0         # start Gaussian pulse Omega\n",
    "t1 = t0 + 50   # end Gaussian pulse Omega\n",
    "t2 = t1 + 10   # start square pulse at resonator 1\n",
    "t3 = t2 + 100  # end square pulse at resonator 1\n",
    "t4 = t3 + 10   # start square pulse at resonator 2\n",
    "t5 = t4 + 168  # end square pulse at resonator 2\n",
    "t6 = t5 + 10   # t0\n",
    "tg = 10        # Gaussian rise and fall time of square pulse\n",
    "\n",
    "N_repeat = 1  # number of times to repeat cycle\n",
    "Np = int(t6/2)     # number of discrete time steps per cycle for which to store the output\n",
    "Q = 3  # number of std's in Gaussian curves, rises and falls"
   ]
  },
  {
   "cell_type": "code",
   "execution_count": 4,
   "metadata": {},
   "outputs": [],
   "source": [
    "# Qubit operators\n",
    "b = tensor(destroy(Nq), qeye(N1), qeye(N2))\n",
    "nq = b.dag()*b\n",
    "sx = tensor(sigmax(), qeye(N1), qeye(N2)) # x-projection of qubit level\n",
    "sy = tensor(sigmay(), qeye(N1), qeye(N2)) # y-projection of qubit level\n",
    "sz = tensor(sigmaz(), qeye(N1), qeye(N2)) # z-projection of qubit level\n",
    "\n",
    "# Cavity operators\n",
    "a1 = tensor(qeye(Nq), destroy(N1), qeye(N2))\n",
    "a2 = tensor(qeye(Nq), qeye(N1), destroy(N2))\n",
    "n1 = a1.dag()*a1\n",
    "n2 = a2.dag()*a2\n",
    "\n",
    "# Jaynes-Cummings Hamiltonian\n",
    "Hjc = ( (w1-wq)*(w1*a1.dag()*a1) + (w2-wq)*(w2*a2.dag()*a2)\n",
    "      - Ec/2*b.dag()*b.dag()*b*b \n",
    "      + chi1*nq*a1.dag()*a1 + chi2*nq*a2.dag()*a2 - delta*nq )\n",
    "# not the measurement hamiltonian\n",
    "\n",
    "# Coupling Hamiltonians\n",
    "H1 = g1*(a1*b.dag() + b*a1.dag())\n",
    "H2 = g2*(a2*b.dag() + b*a2.dag())\n",
    "\n",
    "# Hamiltonian arguments\n",
    "H_args = {\"t0\" : t0, \"t1\" : t1, \"t2\" : t2, \"t3\" : t3, \n",
    "          \"t4\" : t4, \"t5\" : t5, \"t6\" : t6, \"tg\" : tg,\n",
    "          \"g1\" : g1, \"g2\" : g2, \"Q\"  : Q,  \"Np\" : Np,\n",
    "          \"N_repeat\" : N_repeat}\n",
    "\n",
    "# Pump Hamiltonian\n",
    "Omega = 0.5*pump_strength(H_args)\n",
    "H_args['Omega'] = Omega\n",
    "Hp = Omega/2*(b + b.dag())  # including rotating frame"
   ]
  },
  {
   "cell_type": "code",
   "execution_count": null,
   "metadata": {},
   "outputs": [],
   "source": [
    "# Collapse operators, losses\n",
    "cq = sqrt(kq)*b   # qubit\n",
    "c1 = sqrt(k1)*a1  # resonator 1\n",
    "c2 = sqrt(k2)*a2  # resonator 2\n",
    "c_ops = [cq, c1, c2]\n",
    "\n",
    "# Expectation operators\n",
    "e_ops = [nq, n1, n2]"
   ]
  },
  {
   "cell_type": "code",
   "execution_count": 12,
   "metadata": {},
   "outputs": [],
   "source": [
    "H = [Hjc, [Hp, pump], [H1, square1], [H2, square2]]  # complete Hamiltonian\n",
    "psi0 = tensor(basis(Nq,0), basis(N1,0), basis(N2,0))  # initial state\n",
    "\n",
    "Np_per_batch = Np/2  # number of time points per batch\n",
    "batches = create_batches(0, N_repeat*t6, N_repeat*Np, Np_per_batch)\n",
    "\n",
    "# Select these options for bdf method\n",
    "# options.method = 'bdf'\n",
    "# options.rtol = 1e-14\n",
    "\n",
    "# Select these options for adams method\n",
    "options.nsteps = 10000\n",
    "options.rtol = 10e-9\n",
    "options.max_step = 0.1\n",
    "\n",
    "options.store_states=True\n",
    "\n",
    "# Remove existing progress folder\n",
    "for folder in glob(\"/home/student/thesis/prog_*\"):\n",
    "    shutil.rmtree(folder)\n",
    "\n",
    "# Make new progress folder\n",
    "now = datetime.now().strftime(\"%y_%m_%d_%H_%M_%S\")\n",
    "folder = \"/home/student/thesis/prog_\" + now\n",
    "os.makedirs(folder)\n",
    "\n",
    "# Calculate!\n",
    "for num, tlist in enumerate(batches):\n",
    "    result = mesolve(H, psi0, tlist, c_ops, e_ops=e_ops, args=H_args, options=options)\n",
    "    saveprog(result, num, folder)\n",
    "    psi0 = copy(result.states[-1])\n",
    "times, states, expect = combine_batches(folder)"
   ]
  },
  {
   "cell_type": "code",
   "execution_count": 18,
   "metadata": {},
   "outputs": [
    {
     "data": {
      "text/plain": [
       "<matplotlib.legend.Legend at 0x7f9cd9005978>"
      ]
     },
     "execution_count": 18,
     "metadata": {},
     "output_type": "execute_result"
    },
    {
     "data": {
      "image/png": "[encoded data removed]",
      "text/plain": [
       "<Figure size 432x216 with 1 Axes>"
      ]
     },
     "metadata": {
      "needs_background": "light"
     },
     "output_type": "display_data"
    }
   ],
   "source": [
    "pump_pulse = Omega/(2*pi)*1000*pump(times, H_args)\n",
    "sqr1_pulse = g1/(2*pi)*1000*square1(times, H_args)\n",
    "sqr2_pulse = g2/(2*pi)*1000*square2(times, H_args)\n",
    "plt.figure(figsize=[6,3])\n",
    "plt.plot(times, pump_pulse, color='b', label='Pump $\\\\Omega$ to qubit')\n",
    "plt.plot(times, sqr1_pulse, color='g', label='Coupling $g_1$ to cavity 1')\n",
    "plt.plot(times, sqr2_pulse, color='r', label='Coupling $g_2$ to cavity 2')\n",
    "# plt.xlim([0, 547])\n",
    "plt.ylim([0,12.5])\n",
    "plt.xlabel(\"$t$ [ns]\")\n",
    "plt.ylabel(\"$\\\\Omega$, $g$ [$2\\\\pi$ MHz]\")\n",
    "plt.title(\"Pulse cycle\")\n",
    "plt.legend()"
   ]
  },
  {
   "cell_type": "code",
   "execution_count": 20,
   "metadata": {},
   "outputs": [
    {
     "ename": "IndexError",
     "evalue": "list index out of range",
     "output_type": "error",
     "traceback": [
      "\u001b[0;31m---------------------------------------------------------------------------\u001b[0m",
      "\u001b[0;31mIndexError\u001b[0m                                Traceback (most recent call last)",
      "\u001b[0;32m<ipython-input-20-2477098404c7>\u001b[0m in \u001b[0;36m<module>\u001b[0;34m\u001b[0m\n\u001b[1;32m     17\u001b[0m \u001b[0mplt\u001b[0m\u001b[0;34m.\u001b[0m\u001b[0mtitle\u001b[0m\u001b[0;34m(\u001b[0m\u001b[0;34m\"Cavity 1 population during 1 cycle with extended coupling times\"\u001b[0m\u001b[0;34m)\u001b[0m\u001b[0;34m\u001b[0m\u001b[0;34m\u001b[0m\u001b[0m\n\u001b[1;32m     18\u001b[0m \u001b[0;34m\u001b[0m\u001b[0m\n\u001b[0;32m---> 19\u001b[0;31m \u001b[0mcont\u001b[0m \u001b[0;34m=\u001b[0m \u001b[0mplots\u001b[0m\u001b[0;34m.\u001b[0m\u001b[0mwigner\u001b[0m\u001b[0;34m(\u001b[0m\u001b[0mresult\u001b[0m\u001b[0;34m.\u001b[0m\u001b[0mstates\u001b[0m\u001b[0;34m,\u001b[0m \u001b[0mobj\u001b[0m\u001b[0;34m=\u001b[0m\u001b[0mobj\u001b[0m\u001b[0;34m,\u001b[0m \u001b[0mind\u001b[0m\u001b[0;34m=\u001b[0m\u001b[0mind\u001b[0m\u001b[0;34m)\u001b[0m\u001b[0;34m\u001b[0m\u001b[0;34m\u001b[0m\u001b[0m\n\u001b[0m\u001b[1;32m     20\u001b[0m \u001b[0mplots\u001b[0m\u001b[0;34m.\u001b[0m\u001b[0mdmat_hinton\u001b[0m\u001b[0;34m(\u001b[0m\u001b[0mresult\u001b[0m\u001b[0;34m.\u001b[0m\u001b[0mstates\u001b[0m\u001b[0;34m,\u001b[0m \u001b[0mobj\u001b[0m\u001b[0;34m=\u001b[0m\u001b[0mobj\u001b[0m\u001b[0;34m,\u001b[0m \u001b[0mind\u001b[0m\u001b[0;34m=\u001b[0m\u001b[0mind\u001b[0m\u001b[0;34m)\u001b[0m\u001b[0;34m\u001b[0m\u001b[0;34m\u001b[0m\u001b[0m\n",
      "\u001b[0;32m~/thesis/plots.py\u001b[0m in \u001b[0;36mwigner\u001b[0;34m(rho, obj, ind, x, y)\u001b[0m\n\u001b[1;32m    283\u001b[0m         \u001b[0mdm\u001b[0m \u001b[0;34m=\u001b[0m \u001b[0mrho\u001b[0m\u001b[0;34m\u001b[0m\u001b[0;34m\u001b[0m\u001b[0m\n\u001b[1;32m    284\u001b[0m     \u001b[0;32melse\u001b[0m\u001b[0;34m:\u001b[0m\u001b[0;34m\u001b[0m\u001b[0;34m\u001b[0m\u001b[0m\n\u001b[0;32m--> 285\u001b[0;31m         \u001b[0mdm\u001b[0m \u001b[0;34m=\u001b[0m \u001b[0mrho\u001b[0m\u001b[0;34m[\u001b[0m\u001b[0mind\u001b[0m\u001b[0;34m]\u001b[0m\u001b[0;34m\u001b[0m\u001b[0;34m\u001b[0m\u001b[0m\n\u001b[0m\u001b[1;32m    286\u001b[0m \u001b[0;34m\u001b[0m\u001b[0m\n\u001b[1;32m    287\u001b[0m     \u001b[0;32mif\u001b[0m \u001b[0mobj\u001b[0m \u001b[0;34m!=\u001b[0m \u001b[0;34m'all'\u001b[0m\u001b[0;34m:\u001b[0m\u001b[0;34m\u001b[0m\u001b[0;34m\u001b[0m\u001b[0m\n",
      "\u001b[0;31mIndexError\u001b[0m: list index out of range"
     ]
    },
    {
     "data": {
      "image/png": "[encoded data removed]",
      "text/plain": [
       "<Figure size 432x216 with 1 Axes>"
      ]
     },
     "metadata": {
      "needs_background": "light"
     },
     "output_type": "display_data"
    }
   ],
   "source": [
    "obj = 1    # 0 = qubit, 1 = cavity 1, 2 = cavity 2\n",
    "ind = int(300/2)  # index of tlist\n",
    "\n",
    "plt.figure(figsize=[6,3])\n",
    "plt.plot(times, expect[obj], color='g')\n",
    "for i in range(N_repeat):\n",
    "    plt.fill_between(times[int((i*t6+t0)/2):int((i*t6+t1)/2)], expect[obj][int((i*t6+t0)/2):int((i*t6+t1)/2)], alpha=0.2, color='b')\n",
    "    plt.fill_between(times[int((i*t6+t2)/2):int((i*t6+t3)/2)], expect[obj][int((i*t6+t2)/2):int((i*t6+t3)/2)], alpha=0.2, color='g')\n",
    "    plt.fill_between(times[int((i*t6+t4)/2):int((i*t6+t5)/2)], expect[obj][int((i*t6+t4)/2):int((i*t6+t5)/2)], alpha=0.2, color='r')\n",
    "\n",
    "# VARIABLE PLOT SETTINGS    \n",
    "# plt.xlim([0, 2*1710])\n",
    "plt.ylim([0, 0.52])\n",
    "plt.xlabel(\"$t$ [ns]\")\n",
    "plt.ylabel(\"$n_{}$\".format(obj))\n",
    "# plt.ylabel(\"$n_q$\")\n",
    "plt.title(\"Cavity 1 population during 1 cycle with extended coupling times\")\n",
    "\n",
    "cont = plots.wigner(result.states, obj=obj, ind=ind)\n",
    "plots.dmat_hinton(result.states, obj=obj, ind=ind)"
   ]
  },
  {
   "cell_type": "code",
   "execution_count": null,
   "metadata": {},
   "outputs": [],
   "source": [
    "plt.figure(figsize=[6,3])\n",
    "plt.plot(tlist, result.expect[0], color='b', label='Qubit')\n",
    "for i in range(N_repeat):\n",
    "    plt.fill_between(tlist[int((i*t6+t0)/2):int((i*t6+t1)/2)], result.expect[0][int((i*t6+t0)/2):int((i*t6+t1)/2)], alpha=0.2, color='b')\n",
    "    plt.fill_between(tlist[int((i*t6+t2)/2):int((i*t6+t3)/2)], result.expect[0][int((i*t6+t2)/2):int((i*t6+t3)/2)], alpha=0.2, color='g')\n",
    "    plt.fill_between(tlist[int((i*t6+t4)/2):int((i*t6+t5)/2)], result.expect[0][int((i*t6+t4)/2):int((i*t6+t5)/2)], alpha=0.2, color='r')\n",
    "plt.plot(tlist, result.expect[1], color='g', label='Cavity 1')\n",
    "for i in range(N_repeat):\n",
    "    plt.fill_between(tlist[int((i*t6+t0)/2):int((i*t6+t1)/2)], result.expect[1][int((i*t6+t0)/2):int((i*t6+t1)/2)], alpha=0.2, color='b')\n",
    "    plt.fill_between(tlist[int((i*t6+t2)/2):int((i*t6+t3)/2)], result.expect[1][int((i*t6+t2)/2):int((i*t6+t3)/2)], alpha=0.2, color='g')\n",
    "    plt.fill_between(tlist[int((i*t6+t4)/2):int((i*t6+t5)/2)], result.expect[1][int((i*t6+t4)/2):int((i*t6+t5)/2)], alpha=0.2, color='r')\n",
    "plt.xlim([0, 2*1710])\n",
    "plt.ylim([0, 0.52])\n",
    "plt.xlabel(\"$t$ [ns]\")\n",
    "# plt.ylabel(\"$n_{}$\".format(obj))\n",
    "plt.ylabel(\"$n$\")\n",
    "plt.legend()\n",
    "plt.title(\"Cavity 1 population during 1 cycle with extended coupling times\")"
   ]
  },
  {
   "cell_type": "code",
   "execution_count": null,
   "metadata": {},
   "outputs": [],
   "source": [
    "print(result.expect)"
   ]
  },
  {
   "cell_type": "code",
   "execution_count": null,
   "metadata": {},
   "outputs": [],
   "source": []
  }
 ],
 "metadata": {
  "kernelspec": {
   "display_name": "Python 3",
   "language": "python",
   "name": "python3"
  },
  "language_info": {
   "codemirror_mode": {
    "name": "ipython",
    "version": 3
   },
   "file_extension": ".py",
   "mimetype": "text/x-python",
   "name": "python",
   "nbconvert_exporter": "python",
   "pygments_lexer": "ipython3",
   "version": "3.6.7"
  }
 },
 "nbformat": 4,
 "nbformat_minor": 2
}
