{
 "cells": [
  {
   "cell_type": "code",
   "execution_count": null,
   "metadata": {},
   "outputs": [],
   "source": [
    "%matplotlib inline\n",
    "import numpy as np\n",
    "import matplotlib.pyplot as plt\n",
    "from qutip import *\n",
    "\n",
    "pi = np.pi\n",
    "exp = np.exp"
   ]
  },
  {
   "cell_type": "code",
   "execution_count": null,
   "metadata": {},
   "outputs": [],
   "source": [
    "Nq = 2  # number of levels in qubit\n",
    "N1 = 3  # number of levels in resonator 1\n",
    "N2 = 3  # number of levels in resonator 2\n",
    "\n",
    "wq = 7e9*2*pi  # qubit frequency\n",
    "w1 = wq        # resonator 1 frequency\n",
    "w2 = wq        # resonator 2 frequency\n",
    "wp = wp        # pump frequency\n",
    "\n",
    "kq = 50e3*2*pi\n",
    "k1 = 5e3*2*pi\n",
    "k2 = 6e6*2*pi\n",
    "\n",
    "g1 = 1e6*2*pi  # drive frequency resonator 1\n",
    "g2 = 5e6*2*pi  # drive frequency resonator 2\n",
    "Omega = 1e6*2*pi  # pump frequency\n",
    "\n",
    "Ec = 200e6*2*pi  # Anharmonicity\n",
    "\n",
    "t0 = 0            # start Gaussian pulse Omega\n",
    "t1 = t0 + 50e-9   # end Gaussian pulse Omega\n",
    "t2 = t1 + 10e-9   # start square pulse at resonator 1\n",
    "t3 = t2 + 300e-9  # end square pulse at resonator 1\n",
    "t4 = t3 + 10e-9   # start square pulse at resonator 2\n",
    "t5 = t4 + 300e-9  # end square pulse at resonator 2\n",
    "t6 = t5 + 10e-9   # t0\n",
    "tg = 10e-9        # Gaussian rise and fall time of square pulse\n",
    "\n",
    "N_repeat = 2  # number of times to repeat cycle"
   ]
  },
  {
   "cell_type": "code",
   "execution_count": null,
   "metadata": {},
   "outputs": [],
   "source": [
    "# Transmon operators\n",
    "b = tensor(destroy(Nq), qeye(N1), qeye(N2))\n",
    "n = b.dag()*b\n",
    "\n",
    "# Cavity operators\n",
    "a1 = tensor(qeye(Nq), destroy(N1), qeye(N2))\n",
    "a2 = tensor(qeye(Nq), qeye(N1), destroy(N2))\n",
    "\n",
    "# Jaynes-Cummings Hamiltonian\n",
    "Hjc = ( (w1*a1.dag()*a1) \n",
    "      + (w2*a2.dag()*a2) \n",
    "      + (wq*b.dag()*b) \n",
    "      + Ec/2*b.dag()*b.dag()*b*b )\n",
    "\n",
    "# Coupling Hamiltonians\n",
    "H1 = g1*(a1*b.dag() + b*a1.dag())\n",
    "H2 = g2*(a1*b.dag() + b*a2.dag())\n",
    "\n",
    "# Pump Hamiltonian\n",
    "Hp = Omega/2*(b + b.dag)  # TODO: add rotating frame"
   ]
  },
  {
   "cell_type": "code",
   "execution_count": null,
   "metadata": {},
   "outputs": [],
   "source": []
  },
  {
   "cell_type": "code",
   "execution_count": null,
   "metadata": {},
   "outputs": [],
   "source": []
  }
 ],
 "metadata": {
  "kernelspec": {
   "display_name": "Python 3",
   "language": "python",
   "name": "python3"
  },
  "language_info": {
   "codemirror_mode": {
    "name": "ipython",
    "version": 3
   },
   "file_extension": ".py",
   "mimetype": "text/x-python",
   "name": "python",
   "nbconvert_exporter": "python",
   "pygments_lexer": "ipython3",
   "version": "3.6.7"
  }
 },
 "nbformat": 4,
 "nbformat_minor": 2
}
