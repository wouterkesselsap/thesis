{
 "cells": [
  {
   "cell_type": "code",
   "execution_count": 104,
   "metadata": {},
   "outputs": [],
   "source": [
    "%matplotlib inline\n",
    "import numpy as np\n",
    "import matplotlib.pyplot as plt\n",
    "from qutip import *\n",
    "\n",
    "pi = np.pi\n",
    "exp = np.exp\n",
    "sqrt = np.sqrt"
   ]
  },
  {
   "cell_type": "code",
   "execution_count": 105,
   "metadata": {},
   "outputs": [],
   "source": [
    "Nq = 2  # number of levels in qubit\n",
    "N1 = 3  # number of levels in resonator 1\n",
    "N2 = 3  # number of levels in resonator 2\n",
    "\n",
    "wq = 7e9*2*pi  # qubit frequency\n",
    "w1 = wq        # resonator 1 frequency\n",
    "w2 = wq        # resonator 2 frequency\n",
    "wp = wq        # pump frequency\n",
    "\n",
    "kq = 50e3*2*pi\n",
    "k1 = 5e3*2*pi\n",
    "k2 = 6e6*2*pi\n",
    "\n",
    "g1 = 1e6*2*pi  # drive frequency resonator 1\n",
    "g2 = 5e6*2*pi  # drive frequency resonator 2\n",
    "Omega = 1e6*2*pi  # pump frequency\n",
    "\n",
    "Ec = 200e6*2*pi  # Anharmonicity\n",
    "\n",
    "t0 = 0            # start Gaussian pulse Omega\n",
    "t1 = t0 + 50e-9   # end Gaussian pulse Omega\n",
    "t2 = t1 + 10e-9   # start square pulse at resonator 1\n",
    "t3 = t2 + 300e-9  # end square pulse at resonator 1\n",
    "t4 = t3 + 10e-9   # start square pulse at resonator 2\n",
    "t5 = t4 + 300e-9  # end square pulse at resonator 2\n",
    "t6 = t5 + 10e-9   # t0\n",
    "tg = 10e-9        # Gaussian rise and fall time of square pulse\n",
    "\n",
    "N_repeat = 2  # number of times to repeat cycle"
   ]
  },
  {
   "cell_type": "code",
   "execution_count": 106,
   "metadata": {},
   "outputs": [],
   "source": [
    "# Transmon operators\n",
    "b = tensor(destroy(Nq), qeye(N1), qeye(N2))\n",
    "n = b.dag()*b\n",
    "\n",
    "# Cavity operators\n",
    "a1 = tensor(qeye(Nq), destroy(N1), qeye(N2))\n",
    "a2 = tensor(qeye(Nq), qeye(N1), destroy(N2))\n",
    "\n",
    "# Jaynes-Cummings Hamiltonian\n",
    "Hjc = ( (w1*a1.dag()*a1) \n",
    "      + (w2*a2.dag()*a2) \n",
    "      + (wq*b.dag()*b) \n",
    "      + Ec/2*b.dag()*b.dag()*b*b )\n",
    "\n",
    "# Coupling Hamiltonians\n",
    "H1 = g1*(a1*b.dag() + b*a1.dag())\n",
    "H2 = g2*(a1*b.dag() + b*a2.dag())\n",
    "\n",
    "# Pump Hamiltonian\n",
    "Hp = Omega/2*(b + b.dag)  # TODO: add rotating frame\n",
    "\n",
    "# Hamiltonian arguments\n",
    "H_args = {\"t0\" : t0, \"t1\" : t1, \"t2\" : t2, \"t3\" : t3, \n",
    "          \"t4\" : t4, \"t5\" : t5, \"t6\" : t6, \"tg\" : tg,\n",
    "          \"g1\" : g1, \"g2\" : g2, \"Omega\" : Omega}"
   ]
  },
  {
   "cell_type": "code",
   "execution_count": 107,
   "metadata": {},
   "outputs": [],
   "source": [
    "def gauss(t, args):\n",
    "    t0 = args['t0']  # start of pulse\n",
    "    t1 = args['t1']  # end of pulse\n",
    "    Omega = args['Omega']  # pulse strength\n",
    "    \n",
    "    mu = (t1-t0)/2  # pulse center in time domain\n",
    "    Q = 3  # number of std's in pulse, measure for step at t0 and t1\n",
    "    std = (t1-t0)/(2*Q)  # standard deviation\n",
    "    confine = np.heaviside((t-t0), 0) - np.heaviside((t-t1), 0)  # entire pulse\n",
    "    \n",
    "    pulse = Omega/(2*pi*std**2)*exp(-(t-mu)**2/(2*std**2))*confine\n",
    "    return pulse\n",
    "\n",
    "\n",
    "def square1(t, args):\n",
    "    t2 = args['t2']  # start of pulse\n",
    "    t3 = args['t3']  # end of pulse\n",
    "    tg = args['tg']  # time of Gaussian rise and fall\n",
    "    g1 = args['g1']  # pulse strength\n",
    "    \n",
    "    confine = np.heaviside((t-t2), 0) - np.heaviside((t-t3), 0)  # entire pulse\n",
    "    \n",
    "    # Rise and fall with Gaussian\n",
    "    mu = t2+tg  # center of Gaussian\n",
    "    Q = 3  # number of std's in Gaussian\n",
    "    std = tg/Q  # standard deviation of Gaussian\n",
    "    gauss = lambda mu : 1/sqrt(2*pi*std**2)*exp(-(t-mu)**2/(2*std**2))  # Gaussian\n",
    "    top = lambda std : 1/sqrt(2*pi*std**2)  # height of the Gaussian\n",
    "    scale = g1/top(std)  # scale factor to attach Gaussian to block\n",
    "    \n",
    "    \n",
    "    block = g1*(np.heaviside((t-(t2+tg)), 0) - np.heaviside((t-(t3-tg)), 0))\n",
    "    rise = scale*gauss(t2+tg) * (1-np.heaviside((t-(t2+tg)), 0))\n",
    "    fall = scale*gauss(t3-tg) * (np.heaviside((t-(t3-tg)), 0))\n",
    "    \n",
    "    pulse = (rise + block + fall)*confine\n",
    "    return pulse\n",
    "\n",
    "\n",
    "def square2(t, args):\n",
    "    t4 = args['t4']  # start of pulse\n",
    "    t5 = args['t5']  # end of pulse\n",
    "    tg = args['tg']  # time of Gaussian rise and fall\n",
    "    g2 = args['g2']  # pulse strength\n",
    "    \n",
    "    confine = np.heaviside((t-t4), 0) - np.heaviside((t-t5), 0)  # entire pulse\n",
    "    \n",
    "    # Rise and fall with Gaussian\n",
    "    mu = t4+tg  # center of Gaussian\n",
    "    Q = 3  # number of std's in Gaussian\n",
    "    std = tg/Q  # standard deviation of Gaussian\n",
    "    gauss = lambda mu : 1/sqrt(2*pi*std**2)*exp(-(t-mu)**2/(2*std**2))  # Gaussian\n",
    "    top = lambda std : 1/sqrt(2*pi*std**2)  # height of the Gaussian\n",
    "    scale = g2/top(std)  # scale factor to attach Gaussian to block\n",
    "    \n",
    "    \n",
    "    block = g2*(np.heaviside((t-(t4+tg)), 0) - np.heaviside((t-(t5-tg)), 0))\n",
    "    rise = scale*gauss(t4+tg) * (1-np.heaviside((t-(t4+tg)), 0))\n",
    "    fall = scale*gauss(t5-tg) * (np.heaviside((t-(t5-tg)), 0))\n",
    "    \n",
    "    pulse = (rise + block + fall)*confine\n",
    "    return pulse"
   ]
  },
  {
   "cell_type": "code",
   "execution_count": 108,
   "metadata": {},
   "outputs": [
    {
     "data": {
      "text/plain": [
       "[<matplotlib.lines.Line2D at 0x7f5967a36e80>]"
      ]
     },
     "execution_count": 108,
     "metadata": {},
     "output_type": "execute_result"
    },
    {
     "data": {
      "image/png": "[encoded data removed]",
      "text/plain": [
       "<Figure size 432x288 with 1 Axes>"
      ]
     },
     "metadata": {
      "needs_background": "light"
     },
     "output_type": "display_data"
    }
   ],
   "source": [
    "import matplotlib.pyplot as plt\n",
    "t = np.linspace(0, t6, 1000)\n",
    "pulse = square1(t, H_args) + square2(t, H_args)\n",
    "plt.plot(t, pulse)"
   ]
  },
  {
   "cell_type": "code",
   "execution_count": null,
   "metadata": {},
   "outputs": [],
   "source": []
  },
  {
   "cell_type": "code",
   "execution_count": null,
   "metadata": {},
   "outputs": [],
   "source": []
  }
 ],
 "metadata": {
  "kernelspec": {
   "display_name": "Python 3",
   "language": "python",
   "name": "python3"
  },
  "language_info": {
   "codemirror_mode": {
    "name": "ipython",
    "version": 3
   },
   "file_extension": ".py",
   "mimetype": "text/x-python",
   "name": "python",
   "nbconvert_exporter": "python",
   "pygments_lexer": "ipython3",
   "version": "3.6.7"
  }
 },
 "nbformat": 4,
 "nbformat_minor": 2
}
