{
 "cells": [
  {
   "cell_type": "code",
   "execution_count": 71,
   "metadata": {},
   "outputs": [],
   "source": [
    "from qutip import *\n",
    "from scipy.optimize import minimize\n",
    "import numpy as np\n",
    "from supports import *\n",
    "from plotsettings import *"
   ]
  },
  {
   "cell_type": "code",
   "execution_count": 82,
   "metadata": {},
   "outputs": [],
   "source": [
    "# Device \n",
    "Nq = 10         # number of levels in qubit\n",
    "Nc = 10         # number of levels in resonator 1\n",
    "wc = 4.0928  # bare resonator frequency\n",
    "Ec = 0.15  # anharmonicity (charging energy)\n",
    "# wq = 6.811  # bare resonator frequency\n",
    "\n",
    "wq_dressed_meas = 6.811\n",
    "wc_dressed_meas = 4.0753\n",
    "\n",
    "wq_list  = np.linspace(6.7, 6.9, 21)\n",
    "g_list = np.linspace(0.16, 0.19, 31)\n",
    "Ec_list = np.linspace(0.13, 0.16, 31)\n",
    "\n",
    "b = tensor(destroy(Nq), qeye(Nc))\n",
    "a = tensor(qeye(Nc), destroy(Nq))\n",
    "nq = b.dag()*b\n",
    "nc = a.dag()*a"
   ]
  },
  {
   "cell_type": "code",
   "execution_count": 83,
   "metadata": {},
   "outputs": [],
   "source": [
    "wq_dressed = np.zeros((len(wq_list), len(g_list), len(Ec_list)))\n",
    "wc_dressed = np.zeros((len(wq_list), len(g_list), len(Ec_list)))\n",
    "anharmonicity = np.zeros((len(wq_list), len(g_list), len(Ec_list)))\n",
    "\n",
    "for i, wq in enumerate(wq_list):\n",
    "    for j, g in enumerate(g_list):\n",
    "        for k, Ec in enumerate(Ec_list):\n",
    "            Hi = (wq+Ec)*nq + wc*nc - Ec/12*(b + b.dag())**4  # intrinsic\n",
    "            Hc = g*(a + a.dag())*(b + b.dag())  # coupling\n",
    "            EE = (Hi+Hc).eigenenergies()\n",
    "            wc_dressed[i][j][k] = EE[1]-EE[0]\n",
    "            wq_dressed[i][j][k] = EE[2]-EE[0]\n",
    "            anharmonicity[i][j][k] = 2*(EE[2]-EE[0])-(EE[6]-EE[0])\n",
    "\n",
    "# wq_dressed = np.zeros((len(g_list), len(Ec_list)))\n",
    "# wc_dressed = np.zeros((len(g_list), len(Ec_list)))\n",
    "# anharmonicity = np.zeros((len(g_list), len(Ec_list)))\n",
    "\n",
    "# for j, g in enumerate(g_list):\n",
    "#     for k, Ec in enumerate(Ec_list):\n",
    "#         Hi = (wq+Ec)*nq + wc*nc - Ec/12*(b + b.dag())**4  # intrinsic\n",
    "#         Hc = g*(a + a.dag())*(b + b.dag())  # coupling\n",
    "#         EE = (Hi+Hc).eigenenergies()\n",
    "#         wc_dressed[j][k] = EE[1]-EE[0]\n",
    "#         wq_dressed[j][k] = EE[2]-EE[0]\n",
    "#         anharmonicity[j][k] = 2*EE[2]-EE[6]"
   ]
  },
  {
   "cell_type": "code",
   "execution_count": 84,
   "metadata": {},
   "outputs": [],
   "source": [
    "wq_dressed_squared = np.multiply((wq_dressed-wq_dressed_meas), (wq_dressed-wq_dressed_meas))\n",
    "wc_dressed_squared = np.multiply((wc_dressed-wc_dressed_meas), (wc_dressed-wc_dressed_meas))\n",
    "anharmonicity_squared = np.multiply((anharmonicity-0.15), (anharmonicity-0.15))\n",
    "diffs =  wq_dressed_squared + wc_dressed_squared + anharmonicity_squared"
   ]
  },
  {
   "cell_type": "code",
   "execution_count": 85,
   "metadata": {},
   "outputs": [
    {
     "name": "stdout",
     "output_type": "stream",
     "text": [
      "6.8100000000000005\n",
      "0.185\n",
      "0.138\n"
     ]
    }
   ],
   "source": [
    "I, J, K = np.unravel_index(np.argmin(diffs, axis=None), diffs.shape)\n",
    "wq = wq_list[I]\n",
    "# J, K = np.unravel_index(np.argmin(diffs, axis=None), diffs.shape)\n",
    "g = g_list[J]\n",
    "Ec = Ec_list[K]\n",
    "print(wq)\n",
    "print(g)\n",
    "print(Ec)"
   ]
  },
  {
   "cell_type": "code",
   "execution_count": 86,
   "metadata": {},
   "outputs": [
    {
     "name": "stdout",
     "output_type": "stream",
     "text": [
      "[ 0.          4.07674087  6.81340298  8.15347332 10.88779762 12.23019731\n",
      " 13.47707187 14.96217637 16.30691281 17.548377   19.03653916 19.98088506\n",
      " 20.38361981 21.61965228 23.1108859  24.04805636 24.46031826 25.69089762\n",
      " 26.31470518 27.18521651 28.11518887 28.53700889 29.76211297 30.37713322\n",
      " 31.25953092 32.18228499 32.48255962 32.61388729 33.83329828 34.43970955\n",
      " 35.33383234 36.24934726 36.54608771 36.72215306 37.90445353 38.50245164\n",
      " 38.56329881 39.40881633 40.31637842 40.61073403 41.97559065 42.5653762\n",
      " 42.65301622 43.42286476 44.3833815  44.6764637  44.87133491 46.04437971\n",
      " 46.62849903 46.74385957 48.45030016 48.74323911 49.0067192  49.95437569\n",
      " 50.69183383 50.83566038 52.21438543 52.50626722 52.81102097 53.14015681\n",
      " 54.75493281 54.9282793  56.30185761 56.34050353 56.87975552 57.27183457\n",
      " 58.79010928 59.02160001 60.46710435 60.94763424 61.19764583 61.40191712\n",
      " 62.46057908 63.11546703 64.5941419  64.96017707 65.35447597 65.53055083\n",
      " 67.20564615 68.49304162 68.72157718 69.51063463 69.65777849 71.21141919\n",
      " 72.84936049 73.66612491 73.77892947 74.61415099 76.97742347 77.81519154\n",
      " 77.82365798 81.10409714 81.2032566  81.97544644 85.18857507 86.12911346\n",
      " 88.79081122 90.28177223 94.43423759 98.14898721]\n"
     ]
    }
   ],
   "source": [
    "Hi = (wq+Ec)*nq + wc*nc - Ec/12*(b + b.dag())**4  # intrinsic\n",
    "Hc = g*(a + a.dag())*(b + b.dag())  # coupling\n",
    "EE = (Hi+Hc).eigenenergies()\n",
    "print(EE - EE[0])"
   ]
  },
  {
   "cell_type": "code",
   "execution_count": 105,
   "metadata": {},
   "outputs": [],
   "source": [
    "def model(params):\n",
    "    wq, g, Ec = params\n",
    "    Hi = (wq+Ec)*nq + wc*nc - Ec/12*(b + b.dag())**4  # intrinsic\n",
    "    Hc = g*(a + a.dag())*(b + b.dag())  # coupling\n",
    "    EE = (Hi+Hc).eigenenergies()\n",
    "    wq_dressed = EE[2]-EE[0]\n",
    "    wc_dressed = EE[1]-EE[0]\n",
    "    anharmonicity = 2*(EE[2]-EE[0])-(EE[6]-EE[0])\n",
    "    return (wq_dressed-wq_dressed_meas)**2 + (wc_dressed-wc_dressed_meas)**2 + (anharmonicity-0.15)**2\n",
    "\n",
    "result = minimize(model, [wq, g, Ec])"
   ]
  },
  {
   "cell_type": "code",
   "execution_count": 106,
   "metadata": {},
   "outputs": [
    {
     "name": "stdout",
     "output_type": "stream",
     "text": [
      "      fun: 1.874839273540713e-14\n",
      " hess_inv: array([[1, 0, 0],\n",
      "       [0, 1, 0],\n",
      "       [0, 0, 1]])\n",
      "      jac: array([-5.32680356e-09, -4.76938935e-08, -6.51280830e-08])\n",
      "  message: 'Optimization terminated successfully.'\n",
      "     nfev: 5\n",
      "      nit: 0\n",
      "     njev: 1\n",
      "   status: 0\n",
      "  success: True\n",
      "        x: array([6.80678739, 0.19303658, 0.13835391])\n",
      "\n",
      "[ 0.          4.07530013  6.81099999  8.15059022 10.88373594 12.22587022\n",
      " 13.47200001 14.95645293 16.3011401  17.54135768 19.02915085 19.97286889\n",
      " 20.37639982 21.61067968 23.1018296  24.03770483 24.45164936 25.67996592\n",
      " 26.30349403 27.17448907 28.10249453 28.52688961 29.7492163  30.36314827\n",
      " 31.24712918 32.16724114 32.46808653 32.6023522  33.81843076 34.42298051\n",
      " 35.31975405 36.23194804 36.52896871 36.71193307 37.88760933 38.48301343\n",
      " 38.54580706 39.39318853 40.29661882 40.59118104 41.95676739 42.54326856\n",
      " 42.63525224 43.40027259 44.36125751 44.65467777 44.85072406 46.02314565\n",
      " 46.60376617 46.72602584 48.42579138 48.71940945 48.98981954 49.91777507\n",
      " 50.66452348 50.81791299 52.1897371  52.477451   52.78532455 53.12662608\n",
      " 54.72496382 54.9107389  56.24944247 56.31888335 56.85235156 57.26138059\n",
      " 58.75286238 59.00435976 60.44859386 60.91818651 61.17358464 61.39428975\n",
      " 62.39185009 63.0985769  64.57880982 64.92024563 65.33593172 65.52553549\n",
      " 67.18809973 68.41337196 68.70948204 69.49748832 69.65515927 71.18165549\n",
      " 72.84054778 73.6582572  73.77737821 74.53676216 76.97191611 77.80489976\n",
      " 77.81996776 81.10148448 81.14222548 81.97787832 85.18240928 86.1365168\n",
      " 88.74598266 90.29394099 94.45136644 98.13551118]\n"
     ]
    }
   ],
   "source": [
    "print(result)\n",
    "print(\"\")\n",
    "wq = result.x[0]\n",
    "g  = result.x[1]\n",
    "Ec = result.x[2]\n",
    "Hi = (wq+Ec)*nq + wc*nc - Ec/12*(b + b.dag())**4  # intrinsic\n",
    "Hc = g*(a + a.dag())*(b + b.dag())  # coupling\n",
    "EE = (Hi+Hc).eigenenergies()\n",
    "print(EE - EE[0])"
   ]
  },
  {
   "cell_type": "code",
   "execution_count": 103,
   "metadata": {},
   "outputs": [
    {
     "data": {
      "text/plain": [
       "0.14999996999999965"
      ]
     },
     "execution_count": 103,
     "metadata": {},
     "output_type": "execute_result"
    }
   ],
   "source": [
    "6.81099999*2- 13.47200001"
   ]
  },
  {
   "cell_type": "code",
   "execution_count": 104,
   "metadata": {},
   "outputs": [
    {
     "data": {
      "text/plain": [
       "1.0614525139664805"
      ]
     },
     "execution_count": 104,
     "metadata": {},
     "output_type": "execute_result"
    }
   ],
   "source": [
    "0.19/0.179"
   ]
  },
  {
   "cell_type": "code",
   "execution_count": null,
   "metadata": {},
   "outputs": [],
   "source": []
  }
 ],
 "metadata": {
  "kernelspec": {
   "display_name": "Python 3",
   "language": "python",
   "name": "python3"
  },
  "language_info": {
   "codemirror_mode": {
    "name": "ipython",
    "version": 3
   },
   "file_extension": ".py",
   "mimetype": "text/x-python",
   "name": "python",
   "nbconvert_exporter": "python",
   "pygments_lexer": "ipython3",
   "version": "3.7.3"
  }
 },
 "nbformat": 4,
 "nbformat_minor": 2
}
