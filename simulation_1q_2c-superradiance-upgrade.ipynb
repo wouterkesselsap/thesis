{
 "cells": [
  {
   "cell_type": "markdown",
   "metadata": {},
   "source": [
    "Considering AC stark shift between resonator and qubit during pulse rising and falling time."
   ]
  },
  {
   "cell_type": "code",
   "execution_count": 21,
   "metadata": {},
   "outputs": [],
   "source": [
    "# 1 ns unit for time\n",
    "# parameters based on cQEDMLv17A3\n",
    "\n",
    "%matplotlib inline\n",
    "import numpy as np\n",
    "import matplotlib.pyplot as plt\n",
    "import plots\n",
    "from qutip import *\n",
    "from scipy.special import erf\n",
    "\n",
    "pi = np.pi\n",
    "exp = np.exp  \n",
    "sqrt = np.sqrt\n",
    "hbar = 1.0546e-34*1e-9  # reduced Planck constant\n",
    "All = 'all'\n",
    "options = Options()"
   ]
  },
  {
   "cell_type": "code",
   "execution_count": 59,
   "metadata": {},
   "outputs": [],
   "source": [
    "Nq = 2  # number of levels in qubit\n",
    "N1 = 10  # number of levels in resonator 1\n",
    "N2 = 10  # number of levels in resonator 2\n",
    "\n",
    "wq = 7*2*pi  # qubit frequency\n",
    "wp = wq  # pump frequency\n",
    "w1 = wq  # resonator 1 frequency\n",
    "w2 = wq  # resonator 2 frequency\n",
    "\n",
    "kq = 2*pi*0.000155  # phot on emission frequency of qubit (qubit decay rate)\n",
    "k1 = 2*pi*0.00001   # photon emission freqency of resonator 1 (resonator 1 decay rate)\n",
    "k2 = 2*pi*0.010  # photon emission frequency of resonator 2 (resonator 2 decay rate)\n",
    "\n",
    "g1 = 2*pi*0.0005  # drive frequency resonator 1, coupling between qubit and resonator 1\n",
    "g2 = 2*pi*0.003  # drive fr equency res  onator 2, coupling between qubit and resonator 2\n",
    "chi1 = 50.e-6*2*pi # dispersive-coupling between qubit and resonator1.\n",
    "chi2 = 1.2e-3*2*pi # dispersive-coupling between qubit and resonator2.\n",
    "delta = 0e-3*2*pi # ac stark shift effect during pulse rising and falling.\n",
    "\n",
    "# delta1 = 2.0e-3*2*pi # detuning between qubit and resonator 1.\n",
    "# delta2 = 0.2e-3*2*pi # detuning between qubit and resonator 1.\n",
    "\n",
    "Ec = 0.2*2*pi  # Anharmonicity"
   ]
  },
  {
   "cell_type": "code",
   "execution_count": 60,
   "metadata": {},
   "outputs": [],
   "source": [
    "t0 = 0            # start Gaussian pulse Omega\n",
    "t1 = t0 + 50   # end Gaussian pulse Omega\n",
    "t2 = t1 + 10   # start square pulse at resonator 1\n",
    "t3 = t2 + 100  # end square pulse at resonator 1\n",
    "t4 = t3 + 10   # start square pulse at resonator 2\n",
    "t5 = t4 + 300  # end square pulse at resonator 2\n",
    "t6 = t5 + 10   # t0 \n",
    "tg = 10        # Gaussian rise and fall time of square pulse\n",
    "\n",
    "N_repeat = 3  # number of times to repeat cycle\n",
    "Np = 1000     # number of discrete time steps per cycle for which to store the output\n",
    "Q = 4  # number of std's in Gaussian curves, rises and falls"
   ]
  },
  {
   "cell_type": "code",
   "execution_count": 61,
   "metadata": {},
   "outputs": [],
   "source": [
    "# Convention:\n",
    "# [qubit, resonator 1]\n",
    "\n",
    "# Qubit operators\n",
    "b = tensor(destroy(Nq), qeye(N1), qeye(N2))\n",
    "nq = b.dag()*b\n",
    "sx = tensor(fock_dm(Nq, 0), qeye(N1), qeye(N2)) # x-projection of qubit level\n",
    "sy = tensor(fock_dm(Nq, 1), qeye(N1), qeye(N2)) # y-projection of qubit level\n",
    "sz = tensor(fock_dm(Nq, 2%Nq), qeye(N1), qeye(N2)) # z-projection of qubit level\n",
    "\n",
    "# Cavity operators\n",
    "a1 = tensor(qeye(Nq), destroy(N1), qeye(N2))\n",
    "a2 = tensor(qeye(Nq), qeye(N1), destroy(N2))\n",
    "n1 = a1.dag()*a1\n",
    "n2 = a2.dag()*a2\n",
    "\n",
    "# Hamiltonian 1\n",
    "Hjc = ( (w1-wq)*(w1*a1.dag()*a1) \n",
    "      - Ec/2*b.dag()*b.dag()*b*b )+chi2*nq*a2.dag()*a2+chi1*nq*(a1.dag()*a1)+(delta)*nq \n",
    "\n",
    "# Hamiltonian 2\n",
    "H1 = g1*(a1*b.dag() + b*a1.dag())-(delta)*nq\n",
    "H2 = g2*(a2*b.dag() + b*a2.dag())\n",
    "\n",
    "# Hamiltonian arguments\n",
    "H_args = {\"t0\" : t0, \"t1\" : t1, \"t2\" : t2, \"t3\" : t3, \n",
    "          \"t4\" : t4, \"t5\" : t5, \"t6\" : t6, \"tg\" : tg,\n",
    "          \"g1\" : g1, \"g2\" : g2, \"Q\"  : Q}"
   ]
  },
  {
   "cell_type": "code",
   "execution_count": 62,
   "metadata": {},
   "outputs": [],
   "source": [
    "def pump_strength(args):\n",
    "    t0 = args['t0']\n",
    "    t1 = args['t1']\n",
    "    Q  = args['Q']\n",
    "    tau = t1-t0      # pulse duration\n",
    "    std = tau/(2*Q)  # standard deviation\n",
    "    time = lambda t : t/(std*sqrt(2))  # t' to pass to error function\n",
    "    \n",
    "    \"\"\"\n",
    "    TODO: include qubit decay rate kq\n",
    "    \"\"\"\n",
    "    \n",
    "    integral = sqrt(2*pi)*std*erf(time(tau)/2)\n",
    "    Omega = pi*0.5/integral\n",
    "    return Omega\n",
    "\n",
    "# Pump Hamiltonian\n",
    "Omega = pump_strength(H_args)\n",
    "H_args['Omega'] = Omega\n",
    "Hp = Omega/2*(b + b.dag())  # including rotating frame approximation"
   ]
  },
  {
   "cell_type": "code",
   "execution_count": 63,
   "metadata": {},
   "outputs": [],
   "source": [
    "# Collapse operators, losses\n",
    "cq = sqrt(kq)*b   # qubit\n",
    "c1 = sqrt(k1)*a1  # resonator 1\n",
    "c2 = sqrt(k2)*a2  # resonator 2\n",
    "c_ops = [cq, c1, c2]\n",
    "# c_ops = [c2]\n",
    "\n",
    "\n",
    "# Expectation operators\n",
    "e_ops = [nq, n1, n2, sx, sy, sz]"
   ]
  },
  {
   "cell_type": "code",
   "execution_count": 64,
   "metadata": {},
   "outputs": [],
   "source": [
    "def pump(t, args):\n",
    "    t0 = args['t0']  # start of pulse\n",
    "    t1 = args['t1']  # end of pulse\n",
    "    Q  = args['Q']\n",
    "    \n",
    "    t = t%t6  # repeat cycle\n",
    "    mu = (t1-t0)/2  # pulse center in time domain\n",
    "    std = (t1-t0)/(2*Q)  # standard deviation\n",
    "    confine = np.heaviside((t-t0), 0) - np.heaviside((t-t1), 0)  # entire pulse\n",
    "    \n",
    "    pulse = exp(-(t-mu)**2/(2*std**2))*confine\n",
    "    return pulse"
   ]
  },
  {
   "cell_type": "code",
   "execution_count": 65,
   "metadata": {},
   "outputs": [],
   "source": [
    "def square1(t, args):\n",
    "    t2 = args['t2']  # start of pulse\n",
    "    t3 = args['t3']  # end of pulse\n",
    "    tg = args['tg']  # time of Gaussian rise and fall\n",
    "    Q  = args['Q']\n",
    "    \n",
    "    t = t%t6  # repeat cycle\n",
    "    confine = np.heaviside((t-t2), 0) - np.heaviside((t-t3), 0)  # entire pulse\n",
    "    \n",
    "    # Rise and fall with Gaussian\n",
    "    std = tg/Q  # standard deviation of Gaussian\n",
    "    gauss = lambda mu : exp(-(t-mu)**2/(2*std**2))  # Gaussian\n",
    "    \n",
    "    block = np.heaviside((t-(t2+tg)), 0) - np.heaviside((t-(t3-tg)), 0)\n",
    "    rise = gauss(t2+tg) * (1-np.heaviside((t-(t2+tg)), 0))\n",
    "    fall = gauss(t3-tg) * (np.heaviside((t-(t3-tg)), 0))\n",
    "    \n",
    "    pulse = (rise + block + fall)*confine\n",
    "    return pulse"
   ]
  },
  {
   "cell_type": "code",
   "execution_count": 66,
   "metadata": {},
   "outputs": [],
   "source": [
    "def square2(t, args):\n",
    "    t4 = args['t4']  # start of pulse\n",
    "    t5 = args['t5']  # end of pulse\n",
    "    tg = args['tg']  # time of Gaussian rise and fall\n",
    "    g2 = args['g2']  # pulse strength\n",
    "    Q  = args['Q']\n",
    "    \n",
    "    t = t%t6  # repeat cycle\n",
    "    confine = np.heaviside((t-t4), 0) -  np.heaviside((t-t5), 0)  # entire pulse\n",
    "    \n",
    "    # Rise and fall with Gaussian\n",
    "    std = tg/Q  # standard deviation of Gaussian\n",
    "    gauss = lambda mu : exp(-(t-mu)**2/(2*std**2))  # Gaussian\n",
    "    \n",
    "    block = np.heaviside((t-(t4+tg)), 0) - np.heaviside((t-(t5-tg)), 0)\n",
    "    rise = gauss(t4+tg) * (1-np.heaviside((t-(t4+tg)), 0))\n",
    "    fall = gauss(t5-tg) * (np.heaviside((t-(t5-tg)), 0))\n",
    "    \n",
    "    pulse = (rise + block + fall)*confine\n",
    "    return pulse"
   ]
  },
  {
   "cell_type": "code",
   "execution_count": 67,
   "metadata": {},
   "outputs": [],
   "source": [
    "H = [Hjc, [Hp, pump], [H1, square1], [H2, square2]]  # complete Hamiltonian\n",
    "tlist = np.linspace(0, N_repeat*t6, N_repeat*Np)  # discrete time steps for which to store the output\n",
    "psi0 = tensor(basis(Nq,0), basis(N1,0), basis(N2,0))  # initial state\n",
    "\n",
    "# options=Options()\n",
    "# options.nsteps=3000\n",
    "# options.rtol=10**(-9)\n",
    "# options.store_states=True\n",
    "# options.max_step=0.1\n",
    "\n",
    "options.method = 'bdf'\n",
    "# options.nsteps = 1e5  # max number of steps to take for each interval\n",
    "options.rtol = 1e-9\n",
    "# options.max_step = 0.1\n",
    "options.store_states=True\n",
    "options.order=5\n",
    "\n",
    "result = mesolve(H, psi0, tlist, c_ops, e_ops=e_ops, args=H_args, options=options)"
   ]
  },
  {
   "cell_type": "code",
   "execution_count": 68,
   "metadata": {},
   "outputs": [
    {
     "data": {
      "text/plain": [
       "<matplotlib.legend.Legend at 0xadeb54fe10>"
      ]
     },
     "execution_count": 68,
     "metadata": {},
     "output_type": "execute_result"
    },
    {
     "data": {
      "image/png": "[encoded data removed]",
      "text/plain": [
       "<matplotlib.figure.Figure at 0xade910a1d0>"
      ]
     },
     "metadata": {},
     "output_type": "display_data"
    }
   ],
   "source": [
    "pump_pulse = Omega*pump(tlist, H_args)\n",
    "sqr1_pulse = g1*square1(tlist, H_args)\n",
    "sqr2_pulse = g2*square2(tlist, H_args)\n",
    "plt.plot(tlist, pump_pulse, label='qubit pump')\n",
    "plt.plot(tlist, sqr1_pulse, label='cavity 1')\n",
    "plt.plot(tlist, sqr2_pulse, label='cavity 2')\n",
    "plt.xlim(50,80)\n",
    "plt.ylim(0,0.02)\n",
    "plt.legend()"
   ]
  },
  {
   "cell_type": "code",
   "execution_count": 69,
   "metadata": {
    "scrolled": true
   },
   "outputs": [
    {
     "data": {
      "text/plain": [
       "Text(0,0.5,'$n_q$')"
      ]
     },
     "execution_count": 69,
     "metadata": {},
     "output_type": "execute_result"
    },
    {
     "data": {
      "image/png": "[encoded data removed]",
      "text/plain": [
       "<matplotlib.figure.Figure at 0xade910ac88>"
      ]
     },
     "metadata": {},
     "output_type": "display_data"
    }
   ],
   "source": [
    "plt.plot(tlist, result.expect[0])\n",
    "plt.ylim(0.4,0.5)\n",
    "plt.xlabel(\"$t$\")\n",
    "plt.ylabel(\"$n_q$\")\n",
    "# cont = plots.wigner(result.states, obj=obj, ind=ind)\n",
    "# plots.dmat_hinton(result.states, obj=obj, ind=ind)\n",
    "# plots.dmat_his t(result.states, obj=obj, ind=ind)"
   ]
  },
  {
   "cell_type": "code",
   "execution_count": 70,
   "metadata": {
    "scrolled": true
   },
   "outputs": [
    {
     "data": {
      "text/plain": [
       "Text(0,0.5,'$n_q$')"
      ]
     },
     "execution_count": 70,
     "metadata": {},
     "output_type": "execute_result"
    },
    {
     "data": {
      "image/png": "[encoded data removed]",
      "text/plain": [
       "<matplotlib.figure.Figure at 0xade8e8c278>"
      ]
     },
     "metadata": {},
     "output_type": "display_data"
    }
   ],
   "source": [
    "obj = 0    # 0 =5 qubit, 1 = cavity 1, 2 = cavity 2\n",
    "# ind = 200  # index of tlist\n",
    "\n",
    "plt.plot(tlist, result.expect[1])\n",
    "plt.ylim(0.0,0.05)\n",
    "plt.xlabel(\"$t$\")\n",
    "plt.ylabel(\"$n_q$\")\n",
    "# cont = plots.wigner(result.states, obj=obj, ind=ind)\n",
    "# plots.dmat_hinton(result.states, obj=obj, ind=ind)\n",
    "# plots.dmat_hist(result.states, obj=obj, ind=ind)"
   ]
  },
  {
   "cell_type": "code",
   "execution_count": 71,
   "metadata": {
    "scrolled": false
   },
   "outputs": [
    {
     "name": "stdout",
     "output_type": "stream",
     "text": [
      "0.0328865200932317\n",
      "0.09544684288966707\n",
      "0.186333015922387\n",
      "1.9023089891870546\n",
      "2.7636299850231034\n"
     ]
    }
   ],
   "source": [
    "print(result.expect[1][350])    \n",
    "print(result.expect[1][1350])\n",
    "print(result.expect[1][2350])\n",
    "print((result.expect[1][1350]-result.expect[1][350])/result.expect[1][350])\n",
    "print((result.expect[1][2350]-result.expect[1][1350])/result.expect[1][350])"
   ]
  },
  {
   "cell_type": "code",
   "execution_count": null,
   "metadata": {},
   "outputs": [],
   "source": [
    "obj = 0    # 0 = qubit, 1 = cavity 1, 2 = cavity 2\n",
    "ind = 1000  # index of tlist\n",
    "\n",
    "plt.plot(tlist, result.expect[0])\n",
    "plt.ylim(0.45,.55)\n",
    "plt.xlabel(\"$t$\")\n",
    "plt.ylabel(\"$n_q$\")\n",
    "# cont = plots.wigner(result.states, obj=obj, ind=ind)\n",
    "plots.dmat_hinton(result.states, obj=obj, ind=ind)\n",
    "plots.dmat_hist(result.states, obj=obj, ind=ind)"
   ]
  },
  {
   "cell_type": "code",
   "execution_count": null,
   "metadata": {},
   "outputs": [],
   "source": [
    "a=result.states[1000].ptrace(0)\n",
    "a*a"
   ]
  },
  {
   "cell_type": "code",
   "execution_count": null,
   "metadata": {},
   "outputs": [],
   "source": []
  }
 ],
 "metadata": {
  "kernelspec": {
   "display_name": "Python 3",
   "language": "python",
   "name": "python3"
  },
  "language_info": {
   "codemirror_mode": {
    "name": "ipython",
    "version": 3
   },
   "file_extension": ".py",
   "mimetype": "text/x-python",
   "name": "python",
   "nbconvert_exporter": "python",
   "pygments_lexer": "ipython3",
   "version": "3.6.4"
  }
 },
 "nbformat": 4,
 "nbformat_minor": 2
}
