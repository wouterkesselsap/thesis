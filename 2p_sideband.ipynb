{
 "cells": [
  {
   "cell_type": "markdown",
   "metadata": {},
   "source": [
    "MOTIVATION\n",
    "\n",
    "Detailed simulation of qubit-cavity coupling with two-photon sideband transitions to verify the simplified simulation of the cQED atomic beam experiment.\n",
    "\n",
    "NOTES\n",
    "\n",
    "- 1 ns unit for time\n",
    "- Conventions:\n",
    "  - [qubit, resonator ]\n",
    "  - Qubit: blue\n",
    "  - Resonator: red\n",
    "\n",
    "VALUES\n",
    "- N = 2\n",
    "    - Single tone\n",
    "        - Red sideband transitions\n",
    "            - wq = 6.5, wc = 4 : wsb ~ 1.2975 * 2 * pi\n",
    "            - wq = 4, wc = 6.5 : wsb ~ 1.2500 * 2 * pi (Omega = 0.3)\n",
    "        - Blue sideband transitions\n",
    "            - wq = 6.5, wc = 4 : wsb ~ 5.342 * 2 * pi\n",
    "            - wq = 4, wc = 6.5 : wsb ~ ??? * 2 * pi\n",
    "    - Two tones\n",
    "        - Red sideband transitions\n",
    "            - wq = 6.5, wc = 4 : wsb ~ ??? * 2 * pi\n",
    "            - wq = 4, wc = 6.5 : wsb ~ ??? * 2 * pi\n",
    "        - Blue sideband transitions\n",
    "            - wq = 6.5, wc = 4 : wsb ~ ??? * 2 * pi\n",
    "            - wq = 4, wc = 6.5 : wsb ~ ??? * 2 * pi\n",
    "- N = 3\n",
    "    - Single tone\n",
    "        - Red sideband transitions\n",
    "            - wq = 6.5, wc = 4 : wsb ~ ??? * 2 * pi\n",
    "            - wq = 4, wc = 6.5 : wsb ~ ??? * 2 * pi\n",
    "        - Blue sideband transitions\n",
    "            - wq = 6.5, wc = 4 : wsb ~ ??? * 2 * pi\n",
    "            - wq = 4, wc = 6.5 : wsb ~ ??? * 2 * pi\n",
    "    - Two tones\n",
    "        - Red sideband transitions\n",
    "            - wq = 6.5, wc = 4 : wsb ~ ??? * 2 * pi\n",
    "            - wq = 4, wc = 6.5 : wsb ~ ??? * 2 * pi\n",
    "        - Blue sideband transitions\n",
    "            - wq = 6.5, wc = 4 : wsb ~ ??? * 2 * pi\n",
    "            - wq = 4, wc = 6.5 : wsb ~ ??? * 2 * pi"
   ]
  },
  {
   "cell_type": "code",
   "execution_count": 1,
   "metadata": {},
   "outputs": [],
   "source": [
    "%matplotlib inline\n",
    "import numpy as np\n",
    "import matplotlib.pyplot as plt\n",
    "import plots\n",
    "import os\n",
    "from supports import *\n",
    "from scan import sample\n",
    "from qutip import *\n",
    "from scipy.special import erf\n",
    "from scipy.signal import argrelextrema\n",
    "from ipywidgets import widgets\n",
    "from IPython.display import display\n",
    "\n",
    "home = \"/home/student/thesis/\"\n",
    "options = Options()\n",
    "options.store_states=True"
   ]
  },
  {
   "cell_type": "code",
   "execution_count": 2,
   "metadata": {},
   "outputs": [],
   "source": [
    "Nq = 2   # number of levels in qubit\n",
    "Nc = 10  # number of levels in resonator 1\n",
    "\n",
    "wq = 6.5 *2*pi     # qubit frequency\n",
    "wc = 4 *2*pi       # resonator frequency\n",
    "delta = wq - wc    # detuning\n",
    "Ec = 0.16 *2*pi    # anharmonicity (charging energy)\n",
    "g = 0.2 *2*pi      # coupling between qubit and resonator\n",
    "chi = 30e-6 *2*pi  # photon number-dependent frequency shift of qubit\n",
    "\n",
    "Omega = 0.3 *2 *2*pi  # amplitude of sideband transitions\n",
    "wd = 1.2975*2*pi      # pump drive frequency\n",
    "sb = 'red'          # kind of sideband transitions (required for plotting & saving)\n",
    "\n",
    "wq_mod = wq + Omega**2/(2*(wq-wd)) + Omega**2/(2*(wq+wd))"
   ]
  },
  {
   "cell_type": "code",
   "execution_count": 3,
   "metadata": {},
   "outputs": [
    {
     "name": "stdout",
     "output_type": "stream",
     "text": [
      "timestep = 10.0 ps\n"
     ]
    }
   ],
   "source": [
    "t0 = 0         # start of simulation\n",
    "t1 = t0 + 0   # start of drive\n",
    "t2 = t1 + 250  # end of drive\n",
    "t3 = t2 + 0   # end of simulation\n",
    "tg = 10        # length of gaussian rise and fall\n",
    "\n",
    "smooth = True  # whether or not to rise and fall with gaussian\n",
    "Q = 3          # number of std's in gaussian rise and fall\n",
    "\n",
    "Np = 100*int(t3)     # number of discrete time steps for which to store the output\n",
    "print(\"timestep =\", 1e3*np.round(t3/Np, 5), \"ps\")"
   ]
  },
  {
   "cell_type": "code",
   "execution_count": 4,
   "metadata": {},
   "outputs": [],
   "source": [
    "# Operators\n",
    "b, a, nq, nc = ops(Nq, Nc)\n",
    "\n",
    "# Jaynes-Cummings Hamiltonian\n",
    "Hjc = wq*nq + wc*nc - Ec/2*b.dag()*b.dag()*b*b\n",
    "Hc = g*(a*b + a*b.dag() + b*a.dag() + a.dag()*b.dag())\n",
    "\n",
    "# Sideband transitions\n",
    "Hd = Omega*(b + b.dag())\n",
    "\n",
    "# Hamiltonian arguments\n",
    "H_args = {'t0' : t0, 't1' : t1, 't2' : t2,\n",
    "          't3' : t3, 'tg' : tg, 'Q'  : Q,\n",
    "          'smooth' : smooth, 'wd' : wd}\n",
    "\n",
    "# Expectation operators\n",
    "e_ops = [nq, nc]"
   ]
  },
  {
   "cell_type": "code",
   "execution_count": 5,
   "metadata": {},
   "outputs": [],
   "source": [
    "H = [Hjc, [Hc, drive_nonosc], [Hd, drive]]  # complete Hamiltonian\n",
    "psi0 = tensor(psi_halfpi(Nq), basis(Nc, 0))  # initial state\n",
    "\n",
    "# Select these options for bdf method\n",
    "options.method = 'bdf'\n",
    "options.rtol = 1e-10\n",
    "options.atol = 1e-10\n",
    "\n",
    "# Select these options for adams method\n",
    "# options.nsteps = 1000\n",
    "# options.rtol = 1e-12\n",
    "# options.atol = 1e-12\n",
    "# options.max_step = 0\n",
    "\n",
    "Np_per_batch = Np/50  # number of time points per batch"
   ]
  },
  {
   "cell_type": "code",
   "execution_count": 6,
   "metadata": {},
   "outputs": [
    {
     "data": {
      "text/plain": [
       "' CALCULATE! '"
      ]
     },
     "execution_count": 6,
     "metadata": {},
     "output_type": "execute_result"
    }
   ],
   "source": [
    "\"\"\" CALCULATE! \"\"\"\n",
    "\n",
    "# progfolder = calculate(H, psi0, e_ops, H_args, options, Nc, Np, Np_per_batch, verbose=True)"
   ]
  },
  {
   "cell_type": "code",
   "execution_count": 7,
   "metadata": {},
   "outputs": [
    {
     "name": "stdout",
     "output_type": "stream",
     "text": [
      "Batches combined    in 2.023937 s\n"
     ]
    }
   ],
   "source": [
    "\"\"\" SAVE EVOLUTION TEMPORARILY \"\"\"\n",
    "\n",
    "srcfolder = \"/home/student/thesis/prog_190921_192956\"\n",
    "quants = ['times', 'expect', 'e0', 'g1', 'e1', 'g0']\n",
    "\n",
    "start_comb = datetime.now()\n",
    "new_folder_name = copy(srcfolder)\n",
    "ID = getID(srcfolder)\n",
    "combine_batches(srcfolder, quants=quants, return_data=False)\n",
    "end_comb = datetime.now()\n",
    "print(\"Batches combined    in {} s\".format((end_comb - start_comb).total_seconds()))\n",
    "\n",
    "times, states, expect, e0, g1, e1, g0 = load_data(quants, srcfolder)"
   ]
  },
  {
   "cell_type": "code",
   "execution_count": 14,
   "metadata": {},
   "outputs": [
    {
     "name": "stdout",
     "output_type": "stream",
     "text": [
      "WARNING: not enough sideband oscillations to accurately determinde frequency,\n",
      "         increase the simulation time for a more accurate result\n"
     ]
    }
   ],
   "source": [
    "\"\"\" SIDEBAND COUPLING \"\"\"\n",
    "\n",
    "if 'eo' in quants:\n",
    "    e0_macro, e0_macro_times = remove_micromotion(e0, times, method='savgol')\n",
    "if 'go' in quants:\n",
    "    g0_macro, g0_macro_times = remove_micromotion(g0, times, method='savgol')\n",
    "if 'e1' in quants:\n",
    "    e1_macro, e1_macro_times = remove_micromotion(e1, times, method='savgol')\n",
    "if 'g1' in quants:\n",
    "    g1_macro, g1_macro_times = remove_micromotion(g1, times, method='savgol')\n",
    "if ('e1' in quants and 'g0' in quants):\n",
    "    e1g0_macro, e1g0_macro_times = remove_micromotion(e1-g0, times, method='savgol')\n",
    "if ('e0' in quants and 'g1' in quants):\n",
    "    e0g1_macro, e0g1_macro_times = remove_micromotion(e0-g1, times, method='savgol')\n",
    "\n",
    "if sb == 'red':\n",
    "    wsb = sideband_freq(e0g1_macro, e0g1_macro_times)\n",
    "elif sb == 'blue':\n",
    "    wsb = sideband_freq(e1g0_macro, e1g0_macro_times)"
   ]
  },
  {
   "cell_type": "code",
   "execution_count": 16,
   "metadata": {},
   "outputs": [
    {
     "data": {
      "application/vnd.jupyter.widget-view+json": {
       "model_id": "9c212ee508c54ecaaec31ac1b3a515cf",
       "version_major": 2,
       "version_minor": 0
      },
      "text/plain": [
       "VBox(children=(Button(description='Save data', style=ButtonStyle()), Output()))"
      ]
     },
     "metadata": {},
     "output_type": "display_data"
    }
   ],
   "source": [
    "\"\"\" SAVE DATA FOR GOOD \"\"\"\n",
    "\n",
    "data_saved = False\n",
    "data_button = widgets.Button(description='Save data')\n",
    "data_out = widgets.Output()\n",
    "def data_clicked(b):\n",
    "    data_button.description = 'Data saved!'\n",
    "    with data_out:\n",
    "        global srcfolder\n",
    "        new_folder_name = home + \"data_{}_{}_Nq{}_Om{}_wd{}_wq{}_wc{}_g{}_wsb{}.png\".format(ID, sb, Nq,\n",
    "                             round(Omega/2/pi, 2), round(wd/2/pi, 3), round(wq/2/pi, 2),\n",
    "                             round(wc/2/pi, 2), round(g/2/pi, 2), round(wsb/2/pi, 4))\n",
    "        os.rename(srcfolder, new_folder_name)\n",
    "        print(\"Folder renamed to\", new_folder_name)\n",
    "        srcfolder = new_folder_name\n",
    "data_button.on_click(data_clicked)\n",
    "widgets.VBox([data_button, data_out])"
   ]
  },
  {
   "cell_type": "code",
   "execution_count": 17,
   "metadata": {},
   "outputs": [
    {
     "data": {
      "image/png": "[encoded data removed]",
      "text/plain": [
       "<Figure size 864x216 with 2 Axes>"
      ]
     },
     "metadata": {
      "needs_background": "light"
     },
     "output_type": "display_data"
    }
   ],
   "source": [
    "\"\"\" EXPECTATION VALUES \"\"\"\n",
    "\n",
    "fig, ax1 = plt.subplots(figsize=[12,3])\n",
    "ax1.plot(times, expect[0], color='b', label='Qubit')\n",
    "ax1.plot(times, expect[1], color='r', label='Cavity')\n",
    "ax1.set_xlabel(\"$t$ [ns]\")\n",
    "ax1.set_ylabel(\"$n$\")\n",
    "ax1.tick_params(axis='y')\n",
    "ax1.legend(loc='center left')\n",
    "\n",
    "# ax1.set_xlim([20, 21])\n",
    "\n",
    "drive_coupling = wd/(2*pi)*drive_nonosc(times, H_args)\n",
    "ax2 = ax1.twinx()\n",
    "ax2.plot(times, drive_coupling, color='g', label='Drive, coupling')\n",
    "ax2.set_ylabel('$\\Omega$ [GHz]')\n",
    "ax2.tick_params(axis='y')\n",
    "ax2.legend(loc='center right')\n",
    "\n",
    "plt.show()"
   ]
  },
  {
   "cell_type": "code",
   "execution_count": 19,
   "metadata": {},
   "outputs": [
    {
     "data": {
      "image/png": "[encoded data removed]",
      "text/plain": [
       "<Figure size 864x216 with 2 Axes>"
      ]
     },
     "metadata": {
      "needs_background": "light"
     },
     "output_type": "display_data"
    },
    {
     "data": {
      "application/vnd.jupyter.widget-view+json": {
       "model_id": "9d1d0d1b25cf47628d4807d4899e188d",
       "version_major": 2,
       "version_minor": 0
      },
      "text/plain": [
       "VBox(children=(Button(description='Save figure', style=ButtonStyle()), Output()))"
      ]
     },
     "metadata": {},
     "output_type": "display_data"
    }
   ],
   "source": [
    "\"\"\"COMBINED PROBABILITIES\"\"\"\n",
    "\n",
    "fig, ax1 = plt.subplots(figsize=[12,3])\n",
    "ax1.plot(times, e1-g0, color='b', label='$P(e1) - P(g0)$')\n",
    "# ax1.plot(times, e0-g1, color='r', label='$P(e0) - P(g1)$')\n",
    "ax1.set_xlabel(\"$t$ [ns]\")\n",
    "ax1.set_ylabel(\"$P$\")\n",
    "ax1.tick_params(axis='y')\n",
    "ax1.legend(loc='center left')\n",
    "\n",
    "# ax1.set_xlim([27, 27.02])\n",
    "\n",
    "drive_coupling = wd/(2*pi)*drive_nonosc(times, H_args)\n",
    "ax2 = ax1.twinx()\n",
    "ax2.plot(times, drive_coupling, color='g', label='Drive, coupling')\n",
    "ax2.set_ylabel('$\\Omega$, $g$ [GHz]')\n",
    "ax2.tick_params(axis='y')\n",
    "ax2.legend(loc='center right')\n",
    "\n",
    "fig = plt.gcf()\n",
    "if sb == 'red':\n",
    "    plt.title(\"Red sideband transitions at $\\\\omega_d$ = {} GHz\".format(round(wd/2/pi, 3)))\n",
    "elif sb == 'blue':\n",
    "    plt.title(\"Blue sideband transitions at $\\\\omega_d$ = {} GHz\".format(round(wd/2/pi, 3)))\n",
    "plt.show()\n",
    "\n",
    "fig_button = widgets.Button(description='Save figure')\n",
    "fig_out = widgets.Output()\n",
    "def fig_clicked(b):\n",
    "    fig_button.description = 'Figure saved!'\n",
    "    with fig_out:\n",
    "        print(srcfolder)\n",
    "        fig.savefig(srcfolder + \"/\" +\n",
    "                    \"fig_{}_{}_Nq{}_Om{}_wd{}_wq{}_wc{}_g{}_wsb{}.png\".format(ID, sb, Nq,\n",
    "                        round(Omega/2/pi, 2), round(wd/2/pi, 3), round(wq/2/pi, 2),\n",
    "                        round(wc/2/pi, 2), round(g/2/pi, 2), round(wsb/2/pi, 4)),\n",
    "                     bbox_inches='tight')\n",
    "fig_button.on_click(fig_clicked)\n",
    "widgets.VBox([fig_button, fig_out])"
   ]
  },
  {
   "cell_type": "code",
   "execution_count": 13,
   "metadata": {},
   "outputs": [
    {
     "data": {
      "text/plain": [
       "'SCANNING'"
      ]
     },
     "execution_count": 13,
     "metadata": {},
     "output_type": "execute_result"
    }
   ],
   "source": [
    "\"\"\"SCANNING\"\"\"\n",
    "# WDs = np.linspace(5.34*2*pi, 5.35*2*pi, 11)  # drive freq range to scan\n",
    "# for WD in WDs:\n",
    "#     sample(Nq, wq, wc, WD, smooth, Q, t0, t1, t2, t3, tg, psi0, Np_per_batch, options)"
   ]
  },
  {
   "cell_type": "code",
   "execution_count": null,
   "metadata": {},
   "outputs": [],
   "source": []
  }
 ],
 "metadata": {
  "kernelspec": {
   "display_name": "Python 3",
   "language": "python",
   "name": "python3"
  },
  "language_info": {
   "codemirror_mode": {
    "name": "ipython",
    "version": 3
   },
   "file_extension": ".py",
   "mimetype": "text/x-python",
   "name": "python",
   "nbconvert_exporter": "python",
   "pygments_lexer": "ipython3",
   "version": "3.6.7"
  }
 },
 "nbformat": 4,
 "nbformat_minor": 2
}
