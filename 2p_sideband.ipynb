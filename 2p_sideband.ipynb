{
 "cells": [
  {
   "cell_type": "markdown",
   "metadata": {},
   "source": [
    "MOTIVATION\n",
    "\n",
    "Detailed simulation of qubit-cavity coupling with two-photon sideband transitions to verify the simplified simulation of the cQED atomic beam experiment.\n",
    "\n",
    "Use this notebook to do calculations.\n",
    "For analyzing data, I refer to the notebook analyze.ipynb.\n",
    "\n",
    "NOTES\n",
    "\n",
    "- 1 ns unit for time\n",
    "- Conventions:\n",
    "  - [qubit, resonator ]\n",
    "  - Qubit: blue\n",
    "  - Resonator: red\n",
    "\n",
    "RESULTS\n",
    "- N = 2\n",
    "    - Single tone\n",
    "        - Red sideband transitions\n",
    "            - wq = 6.5, wc = 4, Omega = 0.1*2 : shift ~ 0.0455 * 2pi\n",
    "            - wq = 6.5, wc = 4, Omega = 0.2*2 : shift ~ 0.0641 * 2pi\n",
    "            - wq = 6.5, wc = 4, Omega = 0.5*2 : shift ~ 0.0948 * 2pi\n",
    "            - wq = 4, wc = 6.5 : shift ~ 0.0730 * 2pi\n",
    "        - Blue sideband transitions\n",
    "            - wq = 6.5, wc = 4 : shift ~ 0.1905 * 2pi\n",
    "            - wq = 4, wc = 6.5 : shift ~ -0.146 * 2pi\n",
    "    - Double tone\n",
    "        - Red sideband transitions\n",
    "            - wq = 6.5, wc = 4, dw = 0.2 : shift ~ 0.13439 * 2pi\n",
    "            - wq = 6.5, wc = 4, dw = 0.5 : shift ~ 0.1248 * 2pi\n",
    "        - Blue sideband transitions\n",
    "            - wq = 6.5, wc = 4, dw = 0.2 : shift ~ 0.1235 * 2pi (highest combined probability)\n",
    "            - wq = 6.5, wc = 4, dw = 0.2 : shift ~ 0.1220 * 2pi (cavity peaks at n=1)\n",
    "            - wq = 6.5, wc = 4, dw = 0.5 : shift ~ 0.1204 * 2pi\n",
    "- N = 10\n",
    "    - Single tone\n",
    "        - Red sideband transitions\n",
    "            - wq = 5.5, wc = 2.9 : shift ~ -0.2538 * 2pi\n",
    "        - Blue sideband transitions\n",
    "            - wq = 5.5, wc = 2.9 : shift ~ -0.2248 * 2pi"
   ]
  },
  {
   "cell_type": "code",
   "execution_count": 1,
   "metadata": {},
   "outputs": [],
   "source": [
    "%matplotlib inline\n",
    "import numpy as np\n",
    "import matplotlib.pyplot as plt\n",
    "import multiprocessing as mp\n",
    "from plots import *\n",
    "from supports import *\n",
    "from process import *\n",
    "from calculate import *\n",
    "from envelopes import *\n",
    "from scan import *\n",
    "from qutip import *\n",
    "from ipywidgets import widgets\n",
    "from IPython.display import display\n",
    "\n",
    "home = \"/home/student/thesis/\"\n",
    "options = Options()\n",
    "options.store_states=True"
   ]
  },
  {
   "cell_type": "code",
   "execution_count": 2,
   "metadata": {},
   "outputs": [],
   "source": [
    "Nq = 10   # number of levels in qubit\n",
    "Nc = 10  # number of levels in resonator 1\n",
    "Nt = 2   # number of drive tones\n",
    "\n",
    "wq = 5.5 *2*pi     # qubit frequency\n",
    "wc = 2.9 *2*pi     # resonator frequency\n",
    "delta = wq - wc    # detuning\n",
    "Ec = 0.21 *2*pi    # anharmonicity (charging energy)\n",
    "g = 0.07 *2*pi      # coupling between qubit and resonator\n",
    "\n",
    "sb = 'blue'  # kind of sideband transitions\n",
    "\n",
    "# Single-tone\n",
    "Omega = 0.5 *2 *2*pi  # pump drive amplitude\n",
    "shift = 0.0641 *2*pi  # ac-Stark shift\n",
    "\n",
    "# Double-tone\n",
    "Omegaq = 0.025 *2 *2*pi  # amplitude of qubit-friendly drive tone\n",
    "Omegac = 0.317 *2 *2*pi  # amplitude of cavity-friendly drive tone\n",
    "dw = 0.5 *2*pi\n",
    "shift = 0.1204 *2*pi  # ac-Stark shift"
   ]
  },
  {
   "cell_type": "code",
   "execution_count": 3,
   "metadata": {},
   "outputs": [],
   "source": [
    "if Nt == 1:\n",
    "    if sb == 'red':\n",
    "        if wq > wc:\n",
    "            wd = (wq + shift - wc)/2\n",
    "        elif wq < wc:\n",
    "            wd = (wc - wq - shift)/2\n",
    "    elif sb == 'blue':\n",
    "            wd = (wq + shift + wc)/2\n",
    "#     wd = (wq + wc - 0.104 *2 *2*pi)/2\n",
    "    print(\"wd =\", wd/2/pi)\n",
    "elif Nt == 2:\n",
    "    if sb == 'red':\n",
    "        wdq =  wq + shift - dw\n",
    "        wdc =  wc - dw\n",
    "    elif sb == 'blue':\n",
    "        wdq =  wq + shift + dw\n",
    "        wdc =  wc - dw"
   ]
  },
  {
   "cell_type": "code",
   "execution_count": 4,
   "metadata": {},
   "outputs": [
    {
     "name": "stdout",
     "output_type": "stream",
     "text": [
      "timestep = 10.0 ps\n"
     ]
    }
   ],
   "source": [
    "t0 = 0         # start of simulation\n",
    "t1 = t0 + 0   # start of drive\n",
    "t2 = t1 + 25  # end of drive\n",
    "t3 = t2 + 0   # end of simulation\n",
    "tg = 10        # length of gaussian rise and fall\n",
    "\n",
    "smooth = True  # whether or not to rise and fall with gaussian\n",
    "Q = 3          # number of std's in gaussian rise and fall\n",
    "\n",
    "Np = 100*int(t3)     # number of discrete time steps for which to store the output\n",
    "print(\"timestep =\", 1e3*np.round(t3/Np, 5), \"ps\")"
   ]
  },
  {
   "cell_type": "code",
   "execution_count": 5,
   "metadata": {},
   "outputs": [],
   "source": [
    "# Operators\n",
    "b, a, nq, nc = ops(Nq, Nc)\n",
    "\n",
    "# Jaynes-Cummings Hamiltonian\n",
    "Hjc = wq*nq + wc*nc - Ec/12*(b + b.dag())**4\n",
    "Hc = g*(a*b + a*b.dag() + b*a.dag() + a.dag()*b.dag())\n",
    "\n",
    "# Sideband transitions\n",
    "if Nt == 1:\n",
    "    Hd = Omega*(b + b.dag())\n",
    "elif Nt == 2:\n",
    "    Hdq = Omegaq*(b + b.dag())\n",
    "    Hdc = Omegac*(b + b.dag())\n",
    "\n",
    "# Hamiltonian arguments\n",
    "if Nt == 1:\n",
    "    H_args = {'t0' : t0, 't1' : t1, 't2' : t2, 't3' : t3, 'tg' : tg,\n",
    "              'Q'  : Q, 'smooth' : smooth, 'Nt' : Nt, 'wd' : wd}\n",
    "elif Nt == 2:\n",
    "    H_args = {'t0' : t0, 't1' : t1, 't2' : t2, 't3' : t3, 'tg' : tg,\n",
    "              'Q'  : Q, 'smooth' : smooth, 'Nt' : Nt, 'wdq' : wdq, 'wdc' : wdc}\n",
    "\n",
    "# Expectation operators\n",
    "e_ops = [nq, nc]"
   ]
  },
  {
   "cell_type": "code",
   "execution_count": 6,
   "metadata": {},
   "outputs": [],
   "source": [
    "if Nt == 1:\n",
    "    H = [Hjc, [Hc, drive_nonosc], [Hd, drive]]  # complete Hamiltonian\n",
    "elif Nt == 2:\n",
    "    H = [Hjc, [Hc, drive_nonosc], [Hdq, driveq], [Hdc, drivec]]  # complete Hamiltonian\n",
    "\n",
    "if sb == 'red':\n",
    "    psi0 = tensor(basis(Nq, 1), basis(Nc, 0))  # initial state\n",
    "elif sb == 'blue':\n",
    "    psi0 = tensor(basis(Nq, 0), basis(Nc, 0))  # initial state\n",
    "\n",
    "# Select these options for bdf method\n",
    "options.method = 'bdf'\n",
    "options.rtol = 1e-10\n",
    "options.atol = 1e-10\n",
    "\n",
    "# Select these options for adams method\n",
    "# options.nsteps = 1000\n",
    "# options.rtol = 1e-12\n",
    "# options.atol = 1e-12\n",
    "# options.max_step = 0\n",
    "\n",
    "Np_per_batch = Np/10  # number of time points per batch"
   ]
  },
  {
   "cell_type": "code",
   "execution_count": 9,
   "metadata": {},
   "outputs": [
    {
     "name": "stdout",
     "output_type": "stream",
     "text": [
      "1 / 100 : 1 %\n",
      "2 / 100 : 2 %\n",
      "3 / 100 : 3 %\n",
      "4 / 100 : 4 %\n",
      "5 / 100 : 5 %\n",
      "6 / 100 : 6 %\n",
      "7 / 100 : 7 %\n",
      "8 / 100 : 8 %\n",
      "9 / 100 : 9 %\n",
      "10 / 100 : 10 %\n",
      "11 / 100 : 11 %\n",
      "12 / 100 : 12 %\n",
      "13 / 100 : 13 %\n",
      "14 / 100 : 14 %\n",
      "15 / 100 : 15 %\n",
      "16 / 100 : 16 %\n",
      "17 / 100 : 17 %\n",
      "18 / 100 : 18 %\n",
      "19 / 100 : 19 %\n",
      "20 / 100 : 20 %\n",
      "21 / 100 : 21 %\n",
      "22 / 100 : 22 %\n",
      "23 / 100 : 23 %\n",
      "24 / 100 : 24 %\n",
      "25 / 100 : 25 %\n",
      "26 / 100 : 26 %\n",
      "27 / 100 : 27 %\n",
      "28 / 100 : 28 %\n",
      "29 / 100 : 29 %\n",
      "30 / 100 : 30 %\n",
      "31 / 100 : 31 %\n",
      "32 / 100 : 32 %\n",
      "33 / 100 : 33 %\n",
      "34 / 100 : 34 %\n",
      "35 / 100 : 35 %\n",
      "36 / 100 : 36 %\n",
      "37 / 100 : 37 %\n",
      "38 / 100 : 38 %\n",
      "39 / 100 : 39 %\n",
      "40 / 100 : 40 %\n",
      "41 / 100 : 41 %\n",
      "42 / 100 : 42 %\n",
      "43 / 100 : 43 %\n",
      "44 / 100 : 44 %\n",
      "45 / 100 : 45 %\n",
      "46 / 100 : 46 %\n",
      "47 / 100 : 47 %\n",
      "48 / 100 : 48 %\n",
      "49 / 100 : 49 %\n",
      "50 / 100 : 50 %\n",
      "51 / 100 : 51 %\n",
      "52 / 100 : 52 %\n",
      "53 / 100 : 53 %\n",
      "54 / 100 : 54 %\n",
      "55 / 100 : 55 %\n",
      "56 / 100 : 56 %\n",
      "57 / 100 : 57 %\n",
      "58 / 100 : 58 %\n",
      "59 / 100 : 59 %\n",
      "60 / 100 : 60 %\n",
      "61 / 100 : 61 %\n",
      "62 / 100 : 62 %\n",
      "63 / 100 : 63 %\n",
      "64 / 100 : 64 %\n",
      "65 / 100 : 65 %\n",
      "66 / 100 : 66 %\n",
      "67 / 100 : 67 %\n",
      "68 / 100 : 68 %\n",
      "69 / 100 : 69 %\n",
      "70 / 100 : 70 %\n",
      "71 / 100 : 71 %\n",
      "72 / 100 : 72 %\n",
      "73 / 100 : 73 %\n",
      "74 / 100 : 74 %\n",
      "75 / 100 : 75 %\n",
      "76 / 100 : 76 %\n",
      "77 / 100 : 77 %\n",
      "78 / 100 : 78 %\n",
      "79 / 100 : 79 %\n",
      "80 / 100 : 80 %\n",
      "81 / 100 : 81 %\n",
      "82 / 100 : 82 %\n",
      "83 / 100 : 83 %\n",
      "84 / 100 : 84 %\n",
      "85 / 100 : 85 %\n",
      "86 / 100 : 86 %\n",
      "87 / 100 : 87 %\n",
      "88 / 100 : 88 %\n",
      "89 / 100 : 89 %\n",
      "90 / 100 : 90 %\n",
      "91 / 100 : 91 %\n",
      "92 / 100 : 92 %\n",
      "93 / 100 : 93 %\n",
      "94 / 100 : 94 %\n",
      "95 / 100 : 95 %\n",
      "96 / 100 : 96 %\n",
      "97 / 100 : 97 %\n",
      "98 / 100 : 98 %\n",
      "99 / 100 : 99 %\n",
      "100 / 100 : 100 %\n",
      "Evolution completed in 277.078521 s\n"
     ]
    }
   ],
   "source": [
    "\"\"\" CALCULATE! \"\"\"\n",
    "\n",
    "progfolder = calculate(H, psi0, e_ops, H_args, options, Nc, g, Np, Np_per_batch, verbose=True)"
   ]
  },
  {
   "cell_type": "code",
   "execution_count": 10,
   "metadata": {},
   "outputs": [],
   "source": [
    "# Save parameters\n",
    "if Nt == 1:\n",
    "    saveparams(Nq, Nc, Nt, wq, shift, wc, Ec, g, sb, t0, t1, t2, t3, tg, smooth, Q,\n",
    "               Np, H, psi0, e_ops, options, progfolder, frmt=['pkl', 'txt'], Omega=Omega, wd=wd)\n",
    "elif Nt == 2:\n",
    "    saveparams(Nq, Nc, Nt, wq, shift, wc, Ec, g, sb, t0, t1, t2, t3, tg, smooth, Q,\n",
    "               Np, H, psi0, e_ops, options, progfolder, frmt=['pkl', 'txt'],\n",
    "               Omegaq=Omegaq, Omegac=Omegac, wdq=wdq, wdc=wdc, dw=dw)"
   ]
  },
  {
   "cell_type": "code",
   "execution_count": 11,
   "metadata": {},
   "outputs": [
    {
     "name": "stdout",
     "output_type": "stream",
     "text": [
      "Batches combined    in 4.622454 s\n"
     ]
    }
   ],
   "source": [
    "\"\"\" SAVE EVOLUTION TEMPORARILY \"\"\"\n",
    "\n",
    "srcfolder =  progfolder#\"/home/student/thesis/data_190925_105001_red_Nq2_Nt2_Omq0.05_wdq6.434_Omc0.63_wdc3.8_wq6.5_wc4.0_g0.2_wsb0.0142\"\n",
    "quants = ['times', 'expect', 'e0', 'g1', 'e1', 'g0', 'coupling']\n",
    "\n",
    "start_comb = datetime.now()\n",
    "new_folder_name = copy(srcfolder)\n",
    "ID = getID(srcfolder)\n",
    "combine_batches(srcfolder, quants=quants, return_data=False)\n",
    "end_comb = datetime.now()\n",
    "print(\"Batches combined    in {} s\".format((end_comb - start_comb).total_seconds()))\n",
    "\n",
    "times, states, expect, e0, g1, e1, g0, coupling = load_data(quants, srcfolder)"
   ]
  },
  {
   "cell_type": "code",
   "execution_count": 12,
   "metadata": {},
   "outputs": [
    {
     "name": "stdout",
     "output_type": "stream",
     "text": [
      "wsb = 0.004874780630484236 ± 0.03787235160417578 GHz\n"
     ]
    }
   ],
   "source": [
    "\"\"\" SIDEBAND COUPLING \"\"\"\n",
    "\n",
    "smoothen_method = 'savgol'\n",
    "\n",
    "if 'e0' in quants:\n",
    "    e0_macro, e0_macro_times = remove_micromotion(e0, times, method=smoothen_method)\n",
    "if 'g0' in quants:\n",
    "    g0_macro, g0_macro_times = remove_micromotion(g0, times, method=smoothen_method)\n",
    "if 'e1' in quants:\n",
    "    e1_macro, e1_macro_times = remove_micromotion(e1, times, method=smoothen_method)\n",
    "if 'g1' in quants:\n",
    "    g1_macro, g1_macro_times = remove_micromotion(g1, times, method=smoothen_method)\n",
    "if ('e1' in quants and 'g0' in quants):\n",
    "    e1g0_macro, e1g0_macro_times = remove_micromotion(e1-g0, times, method=smoothen_method)\n",
    "if ('e0' in quants and 'g1' in quants):\n",
    "    e0g1_macro, e0g1_macro_times = remove_micromotion(e0-g1, times, method=smoothen_method)\n",
    "\n",
    "if sb == 'red':\n",
    "    wsb, wsb_ci95 = sideband_freq(e0g1_macro, e0g1_macro_times)\n",
    "elif sb == 'blue':\n",
    "    wsb, wsb_ci95 = sideband_freq(e1g0_macro, e1g0_macro_times)\n",
    "\n",
    "print(\"wsb = {} ± {} GHz\".format(wsb/2/pi, wsb_ci95/2/pi))"
   ]
  },
  {
   "cell_type": "code",
   "execution_count": 13,
   "metadata": {},
   "outputs": [
    {
     "data": {
      "image/png": "[encoded data removed]",
      "text/plain": [
       "<Figure size 1080x216 with 2 Axes>"
      ]
     },
     "metadata": {
      "needs_background": "light"
     },
     "output_type": "display_data"
    }
   ],
   "source": [
    "\"\"\" EXPECTATION VALUES \"\"\"\n",
    "\n",
    "xlim = None\n",
    "ylim = None\n",
    "\n",
    "if sb == 'red':\n",
    "    if Nt == 1:\n",
    "        figqc = sb_expect(times, expect, sb, Nt, H_args, coupling, xlim=xlim, ylim=ylim, figsize=[15,3], wd=wd, wsb=wsb)\n",
    "    elif Nt == 2:\n",
    "        figqc = sb_expect(times, expect, sb, Nt, H_args, coupling, xlim=xlim, ylim=ylim, figsize=[15,3], wsb=wsb)\n",
    "elif sb == 'blue':\n",
    "    if Nt == 1:\n",
    "        figqc = sb_expect(times, expect, sb, Nt, H_args, coupling, xlim=xlim, ylim=ylim, figsize=[15,3], wd=wd, wsb=wsb)\n",
    "    elif Nt == 2:\n",
    "        figqc = sb_expect(times, expect, sb, Nt, H_args, coupling, xlim=xlim, ylim=ylim, figsize=[15,3], wsb=wsb)"
   ]
  },
  {
   "cell_type": "code",
   "execution_count": 14,
   "metadata": {},
   "outputs": [
    {
     "data": {
      "image/png": "[encoded data removed]",
      "text/plain": [
       "<Figure size 1080x216 with 2 Axes>"
      ]
     },
     "metadata": {
      "needs_background": "light"
     },
     "output_type": "display_data"
    }
   ],
   "source": [
    "\"\"\"COMBINED PROBABILITIES\"\"\"\n",
    "\n",
    "xlim = None\n",
    "ylim = None\n",
    "\n",
    "if sb == 'red':\n",
    "    if Nt == 1:\n",
    "        fig = sb_combined_probs(times, sb, Nt, H_args, coupling,\n",
    "                                xlim=xlim, ylim=xlim, figsize=[15,3], e0=e0, g1=g1, wd=wd, wsb=wsb)\n",
    "    elif Nt == 2:\n",
    "        fig = sb_combined_probs(times, sb, Nt, H_args, coupling,\n",
    "                                xlim=xlim, ylim=xlim, figsize=[15,3], e0=e0, g1=g1, wsb=wsb)\n",
    "elif sb == 'blue':\n",
    "    if Nt == 1:\n",
    "        fig = sb_combined_probs(times, sb, Nt, H_args, coupling,\n",
    "                                xlim=xlim, ylim=xlim, figsize=[15,3], e1=e1, g0=g0, wd=wd, wsb=wsb)\n",
    "    elif Nt == 2:\n",
    "        fig = sb_combined_probs(times, sb, Nt, H_args, coupling,\n",
    "                                xlim=xlim, ylim=xlim, figsize=[15,3], e1=e1, g0=g0, wsb=wsb)"
   ]
  },
  {
   "cell_type": "code",
   "execution_count": 17,
   "metadata": {},
   "outputs": [
    {
     "data": {
      "application/vnd.jupyter.widget-view+json": {
       "model_id": "0c061f2845084362bec3b20f50e3a514",
       "version_major": 2,
       "version_minor": 0
      },
      "text/plain": [
       "VBox(children=(Button(description='Save data', style=ButtonStyle()), Output()))"
      ]
     },
     "metadata": {},
     "output_type": "display_data"
    }
   ],
   "source": [
    "\"\"\" SAVE DATA FOR GOOD \"\"\"\n",
    "\n",
    "data_saved = False\n",
    "data_button = widgets.Button(description='Save data')\n",
    "data_out = widgets.Output()\n",
    "def data_clicked(b):\n",
    "    data_button.description = 'Data saved!'\n",
    "    with data_out:\n",
    "        global srcfolder\n",
    "        \n",
    "        parfile = open(srcfolder + \"/parameters.txt\", \"a+\")\n",
    "        parfile.write(\"sideband transition frequency   wsb    : {} = {} GHz\\n\".format(wsb, wsb/2/pi))\n",
    "        parfile.write(\"sideband transition coupling    gsb    : {} = {} GHz\".format(wsb/2, wsb/2/2/pi))\n",
    "        parfile.close()\n",
    "                \n",
    "        if Nt == 1:\n",
    "            new_folder_name = home + \"data_{}_{}_Nq{}_Nt{}_Om{}_wd{}_wq{}_sft{}_wc{}_g{}_wsb{}\".format(\n",
    "                              ID, sb, Nq, Nt, round(Omega/2/pi, 2), round(wd/2/pi, 3), round(wq/2/pi, 2), round(shift/2/pi, 3),\n",
    "                              round(wc/2/pi, 2), round(g/2/pi, 2), round(wsb/2/pi, 4))\n",
    "            figqc.savefig(srcfolder + \"/\" +\n",
    "                        \"fig_qc_{}_{}_Nq{}_Nt{}_Om{}_wd{}_wq{}_sft{}_wc{}_g{}_wsb{}.png\".format(ID, sb, Nq, Nt,\n",
    "                        round(Omega/2/pi, 2), round(wd/2/pi, 3), round(wq/2/pi, 2), round(shift/2/pi, 3), round(wc/2/pi, 2),\n",
    "                        round(g/2/pi, 2), round(wsb/2/pi, 4)), bbox_inches='tight')\n",
    "            fig.savefig(srcfolder + \"/\" +\n",
    "                        \"fig_{}_{}_Nq{}_Nt{}_Om{}_wd{}_wq{}_sft{}_wc{}_g{}_wsb{}.png\".format(ID, sb, Nq, Nt,\n",
    "                        round(Omega/2/pi, 2), round(wd/2/pi, 3), round(wq/2/pi, 2), round(shift/2/pi, 3), round(wc/2/pi, 2),\n",
    "                        round(g/2/pi, 2), round(wsb/2/pi, 4)), bbox_inches='tight')\n",
    "        elif Nt == 2:\n",
    "            new_folder_name = home + \"data_{}_{}_Nq{}_Nt{}_Omq{}_wdq{}_Omc{}_wdc{}_dw{}_wq{}_sft{}_wc{}_g{}_wsb{}\".format(\n",
    "                              ID, sb, Nq, Nt, round(Omegaq/2/pi, 2), round(wdq/2/pi, 3), round(Omegac/2/pi, 2),\n",
    "                              round(wdc/2/pi, 3), round(dw/2/pi, 1), round(wq/2/pi, 2), round(shift/2/pi, 3),\n",
    "                              round(wc/2/pi, 2), round(g/2/pi, 2), round(wsb/2/pi, 4))\n",
    "            figqc.savefig(srcfolder + \"/\" +\n",
    "                        \"fig_qc_{}_{}_Nq{}_Nt{}_Omq{}_wdq{}_Omc{}_wdc{}_wq{}_sft{}_wc{}_dw{}_g{}_wsb{}.png\".format(\n",
    "                        ID, sb, Nq, Nt, round(Omegaq/2/pi, 2), round(wdq/2/pi, 3), round(Omegac/2/pi, 2),\n",
    "                        round(wdc/2/pi, 3), round(dw/2/pi, 1), round(wq/2/pi, 2), round(shift/2/pi, 3), round(wc/2/pi, 2),\n",
    "                        round(g/2/pi, 2), round(wsb/2/pi, 4)), bbox_inches='tight')\n",
    "            fig.savefig(srcfolder + \"/\" +\n",
    "                        \"fig_{}_{}_Nq{}_Nt{}_Omq{}_wdq{}_Omc{}_wdc{}_wq{}_sft{}_wc{}_dw{}_g{}_wsb{}.png\".format(\n",
    "                        ID, sb, Nq, Nt, round(Omegaq/2/pi, 2), round(wdq/2/pi, 3), round(Omegac/2/pi, 2),\n",
    "                        round(wdc/2/pi, 3), round(dw/2/pi, 1), round(wq/2/pi, 2), round(shift/2/pi, 3), round(wc/2/pi, 2),\n",
    "                        round(g/2/pi, 2), round(wsb/2/pi, 4)), bbox_inches='tight')\n",
    "        os.rename(srcfolder, new_folder_name)\n",
    "        print(\"Folder renamed to\", new_folder_name)\n",
    "        srcfolder = new_folder_name\n",
    "data_button.on_click(data_clicked)\n",
    "widgets.VBox([data_button, data_out])"
   ]
  },
  {
   "cell_type": "markdown",
   "metadata": {},
   "source": [
    "# Scanning"
   ]
  },
  {
   "cell_type": "code",
   "execution_count": 27,
   "metadata": {},
   "outputs": [
    {
     "data": {
      "text/plain": [
       "'SCANNING (single tone)'"
      ]
     },
     "execution_count": 27,
     "metadata": {},
     "output_type": "execute_result"
    }
   ],
   "source": [
    "\"\"\" Single-tone \"\"\"\n",
    "# fshifts = np.linspace(0.064*2*pi, 0.066*2*pi, 21)  # drive freq range to scan\n",
    "# for fshift in fshifts:\n",
    "#     sample_single_tone(Nq, wq, wc, Ec, g, Omega, fshift, sb, smooth, Q, t0, t1, t2, t3, tg, psi0, Np_per_batch, options)"
   ]
  },
  {
   "cell_type": "code",
   "execution_count": null,
   "metadata": {},
   "outputs": [],
   "source": [
    "\"\"\" Double-tone \"\"\"\n",
    "from datetime import datetime\n",
    "# T0 = datetime.now()\n",
    "fshifts = np.linspace(-0.3*2*pi, -0.2*2*pi, 2)  # ac-Stark shift range to scan\n",
    "# for fshift in fshifts:\n",
    "#     sample_double_tone(Nq, wq, wc, Ec, g, Omegaq, Omegac, fshift, dw, sb, smooth, Q, t0, t1, t2, t3, tg, psi0, Np_per_batch, options, parallel=False)\n",
    "# T1 = datetime.now()\n",
    "# print(\"T =\", (T1-T0).total_seconds())\n",
    "pool = mp.Pool(2)\n",
    "pool.starmap(sample_double_tone, [(Nq, wq, wc, Ec, g, Omegaq, Omegac,fshift, dw, sb, smooth, Q,\n",
    "                                   t0, t1, t2, t3, tg, psi0, Np_per_batch, options, True)\n",
    "                                   for fshift in fshifts])\n",
    "pool.close\n",
    "T2 = datetime.now()\n",
    "print(\"T =\", (T2-T1).total_seconds())\n",
    "\n",
    "for progf in glob(\"/home/student/thesis/prog_*\"):\n",
    "    shutil.rmtree(progf)"
   ]
  },
  {
   "cell_type": "code",
   "execution_count": null,
   "metadata": {},
   "outputs": [],
   "source": []
  },
  {
   "cell_type": "code",
   "execution_count": null,
   "metadata": {},
   "outputs": [],
   "source": []
  }
 ],
 "metadata": {
  "kernelspec": {
   "display_name": "Python 3",
   "language": "python",
   "name": "python3"
  },
  "language_info": {
   "codemirror_mode": {
    "name": "ipython",
    "version": 3
   },
   "file_extension": ".py",
   "mimetype": "text/x-python",
   "name": "python",
   "nbconvert_exporter": "python",
   "pygments_lexer": "ipython3",
   "version": "3.6.7"
  }
 },
 "nbformat": 4,
 "nbformat_minor": 2
}
