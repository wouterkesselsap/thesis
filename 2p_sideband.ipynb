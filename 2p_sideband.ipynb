{
 "cells": [
  {
   "cell_type": "markdown",
   "metadata": {},
   "source": [
    "MOTIVATION\n",
    "\n",
    "Detailed simulation of qubit-cavity coupling with two-photon sideband transitions to verify the simplified simulation of the cQED atomic beam experiment.\n",
    "\n",
    "NOTES\n",
    "\n",
    "- 1 ns unit for time\n",
    "- Conventions:\n",
    "  - [qubit, resonator ]\n",
    "  - Qubit: blue\n",
    "  - Resonator: red\n",
    "\n",
    "VALUES\n",
    "- Red sideband transitions:\n",
    "    - wq = 6.5, wc = 4 : wsb ~ 1.273 * 2 * pi\n",
    "    - wq = 4, wc = 6.5 : wsb ~ 1.253 * 2 * pi"
   ]
  },
  {
   "cell_type": "code",
   "execution_count": 1,
   "metadata": {},
   "outputs": [],
   "source": [
    "%matplotlib inline\n",
    "import numpy as np\n",
    "import matplotlib.pyplot as plt\n",
    "import plots\n",
    "import os\n",
    "import shutil\n",
    "import time\n",
    "from datetime import datetime\n",
    "from glob import glob\n",
    "from copy import copy\n",
    "from supports import *\n",
    "from automated import automated\n",
    "from qutip import *\n",
    "from scipy.special import erf\n",
    "from scipy.signal import argrelextrema\n",
    "\n",
    "options = Options()\n",
    "options.store_states=True"
   ]
  },
  {
   "cell_type": "code",
   "execution_count": 2,
   "metadata": {},
   "outputs": [
    {
     "name": "stdout",
     "output_type": "stream",
     "text": [
      "<function drive at 0x7f7b934c8488>\n"
     ]
    }
   ],
   "source": [
    "print(drive)"
   ]
  },
  {
   "cell_type": "code",
   "execution_count": 4,
   "metadata": {},
   "outputs": [],
   "source": [
    "Nq = 2   # number of levels in qubit\n",
    "Nc = 10  # number of levels in resonator 1\n",
    "\n",
    "wq = 6.5 *2*pi    # qubit frequency\n",
    "wc = 4 *2*pi    # resonator 1 frequency\n",
    "delta = wq - wc  # detuning\n",
    "Ec = 0.16 *2*pi  # anharmonicity (charging energy)\n",
    "g = 0.2 *2*pi  # drive frequency resonator 1, coupling between qubit and resonator 1\n",
    "chi = 30e-6 *2*pi  # photon number-dependent frequency shift of qubit\n",
    "\n",
    "Omega = 0.3*2*pi  # amplitude of sideband transitions\n",
    "wd = 1.273*2*pi #1/4*(3*wq - wc - sqrt((wq + wc)**2 - 4*Omega**2))  # pump drive frequency\n",
    "\n",
    "wq_mod = wq + Omega**2/(2*(wq-wd)) + Omega**2/(2*(wq+wd))"
   ]
  },
  {
   "cell_type": "code",
   "execution_count": 5,
   "metadata": {},
   "outputs": [
    {
     "name": "stdout",
     "output_type": "stream",
     "text": [
      "timestep = 10.0 ps\n"
     ]
    }
   ],
   "source": [
    "t0 = 0         # start of simulation\n",
    "t1 = t0 + 0   # start of drive\n",
    "t2 = t1 + 1000  # end of drive\n",
    "t3 = t2 + 0   # end of simulation\n",
    "tg = 10        # length of gaussian rise and fall\n",
    "\n",
    "smooth = True  # whether or not to rise and fall with gaussian\n",
    "Q = 4          # number of std's in gaussian rise and fall\n",
    "\n",
    "Np = 100*int(t3)     # number of discrete time steps for which to store the output\n",
    "print(\"timestep =\", 1e3*np.round(t3/Np, 5), \"ps\")"
   ]
  },
  {
   "cell_type": "code",
   "execution_count": 6,
   "metadata": {},
   "outputs": [],
   "source": [
    "# Qubit operators\n",
    "b = tensor(destroy(Nq), qeye(Nc))\n",
    "nq = b.dag()*b\n",
    "\n",
    "# Cavity operators\n",
    "a = tensor(qeye(Nq), destroy(Nc))\n",
    "nc = a.dag()*a\n",
    "\n",
    "# Jaynes-Cummings Hamiltonian\n",
    "Hjc = wq*nq + wc*nc - Ec/2*b.dag()*b.dag()*b*b - chi*nq*nc\n",
    "Hc = g*(a*b + a*b.dag() + b*a.dag() + a.dag()*b.dag())\n",
    "\n",
    "# Sideband transitions\n",
    "Hd = Omega*(b + b.dag())\n",
    "\n",
    "# Hamiltonian arguments\n",
    "H_args = {'t0' : t0, 't1' : t1, 't2' : t2,\n",
    "          't3' : t3, 'tg' : tg, 'Q'  : Q,\n",
    "          'smooth' : smooth, 'wd' : wd}\n",
    "\n",
    "# Expectation operators\n",
    "e_ops = [nq, nc]"
   ]
  },
  {
   "cell_type": "code",
   "execution_count": 7,
   "metadata": {},
   "outputs": [],
   "source": [
    "H = [Hjc, [Hc, drive_nonosc], [Hd, drive]]  # complete Hamiltonian\n",
    "psi0 = tensor(psi_pi(Nq), basis(Nc, 0))  # initial state\n",
    "\n",
    "# Select these options for bdf method\n",
    "# options.method = 'bdf'\n",
    "# options.rtol = 1e-10\n",
    "# options.atol = 1e-10\n",
    "\n",
    "# Select these options for adams method\n",
    "options.nsteps = 1000\n",
    "options.rtol = 1e-12\n",
    "options.atol = 1e-12\n",
    "options.max_step = 0\n",
    "\n",
    "Np_per_batch = Np/40  # number of time points per batch"
   ]
  },
  {
   "cell_type": "code",
   "execution_count": 6,
   "metadata": {},
   "outputs": [
    {
     "name": "stdout",
     "output_type": "stream",
     "text": [
      "1 / 40 : 2 %\n",
      "2 / 40 : 5 %\n",
      "3 / 40 : 8 %\n",
      "4 / 40 : 10 %\n",
      "5 / 40 : 12 %\n",
      "6 / 40 : 15 %\n",
      "7 / 40 : 18 %\n",
      "8 / 40 : 20 %\n",
      "9 / 40 : 22 %\n",
      "10 / 40 : 25 %\n",
      "11 / 40 : 28 %\n",
      "12 / 40 : 30 %\n",
      "13 / 40 : 32 %\n",
      "14 / 40 : 35 %\n",
      "15 / 40 : 38 %\n",
      "16 / 40 : 40 %\n",
      "17 / 40 : 42 %\n",
      "18 / 40 : 45 %\n",
      "19 / 40 : 48 %\n",
      "20 / 40 : 50 %\n",
      "21 / 40 : 52 %\n",
      "22 / 40 : 55 %\n",
      "23 / 40 : 58 %\n",
      "24 / 40 : 60 %\n",
      "25 / 40 : 62 %\n",
      "26 / 40 : 65 %\n",
      "27 / 40 : 68 %\n",
      "28 / 40 : 70 %\n",
      "29 / 40 : 72 %\n",
      "30 / 40 : 75 %\n",
      "31 / 40 : 78 %\n",
      "32 / 40 : 80 %\n",
      "33 / 40 : 82 %\n",
      "34 / 40 : 85 %\n",
      "35 / 40 : 88 %\n",
      "36 / 40 : 90 %\n",
      "37 / 40 : 92 %\n",
      "38 / 40 : 95 %\n",
      "39 / 40 : 98 %\n",
      "40 / 40 : 100 %\n",
      "Evolution completed in 317.791418 s\n"
     ]
    }
   ],
   "source": [
    "batches = create_batches(0, t3, Np, Np_per_batch)\n",
    "\n",
    "# Remove existing progress folder\n",
    "for folder in glob(\"/home/student/thesis/prog_*\"):\n",
    "    shutil.rmtree(folder)\n",
    "\n",
    "# Make new progress folder\n",
    "now = datetime.now()\n",
    "nowstr = now.strftime(\"%y_%m_%d_%H_%M_%S\")\n",
    "folder = \"/home/student/thesis/prog_\" + nowstr\n",
    "os.makedirs(folder)\n",
    "\n",
    "# Calculate!\n",
    "for num, tlist in enumerate(batches):\n",
    "    print(num+1, \"/\", len(batches), \":\", int(np.round(100*(num+1)/len(batches))), \"%\")\n",
    "    result = mesolve(H, psi0, tlist, [], e_ops=e_ops, args=H_args, options=options)\n",
    "    saveprog(result, num, folder)\n",
    "    psi0 = copy(result.states[-1])\n",
    "    del result\n",
    "end_calc = datetime.now()\n",
    "print(\"Evolution completed in {} s\".format((end_calc - now).total_seconds()))"
   ]
  },
  {
   "cell_type": "code",
   "execution_count": 7,
   "metadata": {},
   "outputs": [
    {
     "name": "stdout",
     "output_type": "stream",
     "text": [
      "Batches combined    in 3.295595 s\n"
     ]
    }
   ],
   "source": [
    "srcfolder = folder # \"/home/student/thesis/\"\n",
    "selection = All # (0, t3)\n",
    "reduction = 5\n",
    "\n",
    "combine_batches(srcfolder, selection, reduction,\n",
    "                quants=['times', 'expect'], return_data=False)\n",
    "end_comb = datetime.now()\n",
    "print(\"Batches combined    in {} s\".format((end_comb - end_calc).total_seconds()))"
   ]
  },
  {
   "cell_type": "code",
   "execution_count": 8,
   "metadata": {},
   "outputs": [],
   "source": [
    "tfile = open(srcfolder + \"/times.pkl\", 'rb')\n",
    "tdata = pickle.load(tfile)\n",
    "times = tdata['data']\n",
    "tfile.close()\n",
    "del tdata\n",
    "\n",
    "# sfile = open(srcfolder + \"/states.pkl\", 'rb')\n",
    "# sdata = pickle.load(sfile)\n",
    "# states = sdata['data']\n",
    "# sfile.close()\n",
    "# del sdata\n",
    "\n",
    "efile = open(srcfolder + \"/expect.pkl\", 'rb')\n",
    "edata = pickle.load(efile)\n",
    "expect = edata['data']\n",
    "efile.close()\n",
    "del edata"
   ]
  },
  {
   "cell_type": "code",
   "execution_count": 11,
   "metadata": {},
   "outputs": [
    {
     "data": {
      "image/png": "[encoded data removed]",
      "text/plain": [
       "<Figure size 864x216 with 2 Axes>"
      ]
     },
     "metadata": {
      "needs_background": "light"
     },
     "output_type": "display_data"
    }
   ],
   "source": [
    "fig, ax1 = plt.subplots(figsize=[12,3])\n",
    "ax1.plot(times, expect[0], color='b', label='Qubit')\n",
    "ax1.plot(times, expect[1], color='r', label='Cavity')\n",
    "ax1.set_xlabel(\"$t$ [ns]\")\n",
    "ax1.set_ylabel(\"$n$\")\n",
    "ax1.tick_params(axis='y')\n",
    "ax1.legend(loc='center left')\n",
    "\n",
    "# ax1.set_xlim([10, 70])\n",
    "\n",
    "drive = wd/(2*pi)*drive_nonosc(times, H_args)\n",
    "ax2 = ax1.twinx()\n",
    "ax2.plot(times, drive, color='g', label='Drive, coupling')\n",
    "ax2.set_ylabel('$\\Omega$ [GHz]')\n",
    "ax2.tick_params(axis='y')\n",
    "ax2.legend(loc='center right')\n",
    "\n",
    "plt.show()"
   ]
  },
  {
   "cell_type": "code",
   "execution_count": 2,
   "metadata": {},
   "outputs": [
    {
     "ename": "UnboundLocalError",
     "evalue": "local variable 'drive' referenced before assignment",
     "output_type": "error",
     "traceback": [
      "\u001b[0;31m---------------------------------------------------------------------------\u001b[0m",
      "\u001b[0;31mUnboundLocalError\u001b[0m                         Traceback (most recent call last)",
      "\u001b[0;32m<ipython-input-2-ddfc19dcab08>\u001b[0m in \u001b[0;36m<module>\u001b[0;34m\u001b[0m\n\u001b[1;32m      1\u001b[0m \u001b[0mwds\u001b[0m \u001b[0;34m=\u001b[0m \u001b[0mnp\u001b[0m\u001b[0;34m.\u001b[0m\u001b[0mlinspace\u001b[0m\u001b[0;34m(\u001b[0m\u001b[0;36m1.25\u001b[0m\u001b[0;34m*\u001b[0m\u001b[0;36m2\u001b[0m\u001b[0;34m*\u001b[0m\u001b[0mpi\u001b[0m\u001b[0;34m,\u001b[0m \u001b[0;36m1.3\u001b[0m\u001b[0;34m*\u001b[0m\u001b[0;36m2\u001b[0m\u001b[0;34m*\u001b[0m\u001b[0mpi\u001b[0m\u001b[0;34m,\u001b[0m \u001b[0;36m21\u001b[0m\u001b[0;34m)\u001b[0m\u001b[0;34m\u001b[0m\u001b[0;34m\u001b[0m\u001b[0m\n\u001b[1;32m      2\u001b[0m \u001b[0;32mfor\u001b[0m \u001b[0mwd\u001b[0m \u001b[0;32min\u001b[0m \u001b[0mwds\u001b[0m\u001b[0;34m:\u001b[0m\u001b[0;34m\u001b[0m\u001b[0;34m\u001b[0m\u001b[0m\n\u001b[0;32m----> 3\u001b[0;31m     \u001b[0mautomated\u001b[0m\u001b[0;34m(\u001b[0m\u001b[0mwd\u001b[0m\u001b[0;34m)\u001b[0m\u001b[0;34m\u001b[0m\u001b[0;34m\u001b[0m\u001b[0m\n\u001b[0m",
      "\u001b[0;32m~/thesis/automated.py\u001b[0m in \u001b[0;36mautomated\u001b[0;34m(wd)\u001b[0m\n\u001b[1;32m     65\u001b[0m     \u001b[0me_ops\u001b[0m \u001b[0;34m=\u001b[0m \u001b[0;34m[\u001b[0m\u001b[0mnq\u001b[0m\u001b[0;34m,\u001b[0m \u001b[0mnc\u001b[0m\u001b[0;34m]\u001b[0m\u001b[0;34m\u001b[0m\u001b[0;34m\u001b[0m\u001b[0m\n\u001b[1;32m     66\u001b[0m \u001b[0;34m\u001b[0m\u001b[0m\n\u001b[0;32m---> 67\u001b[0;31m     \u001b[0mH\u001b[0m \u001b[0;34m=\u001b[0m \u001b[0;34m[\u001b[0m\u001b[0mHjc\u001b[0m\u001b[0;34m,\u001b[0m \u001b[0;34m[\u001b[0m\u001b[0mHc\u001b[0m\u001b[0;34m,\u001b[0m \u001b[0mdrive_nonosc\u001b[0m\u001b[0;34m]\u001b[0m\u001b[0;34m,\u001b[0m \u001b[0;34m[\u001b[0m\u001b[0mHd\u001b[0m\u001b[0;34m,\u001b[0m \u001b[0mdrive\u001b[0m\u001b[0;34m]\u001b[0m\u001b[0;34m]\u001b[0m  \u001b[0;31m# complete Hamiltonian\u001b[0m\u001b[0;34m\u001b[0m\u001b[0;34m\u001b[0m\u001b[0m\n\u001b[0m\u001b[1;32m     68\u001b[0m     \u001b[0mpsi0\u001b[0m \u001b[0;34m=\u001b[0m \u001b[0mtensor\u001b[0m\u001b[0;34m(\u001b[0m\u001b[0mpsi_0pi\u001b[0m\u001b[0;34m(\u001b[0m\u001b[0mNq\u001b[0m\u001b[0;34m)\u001b[0m\u001b[0;34m,\u001b[0m \u001b[0mbasis\u001b[0m\u001b[0;34m(\u001b[0m\u001b[0mNc\u001b[0m\u001b[0;34m,\u001b[0m \u001b[0;36m1\u001b[0m\u001b[0;34m)\u001b[0m\u001b[0;34m)\u001b[0m  \u001b[0;31m# initial state\u001b[0m\u001b[0;34m\u001b[0m\u001b[0;34m\u001b[0m\u001b[0m\n\u001b[1;32m     69\u001b[0m \u001b[0;34m\u001b[0m\u001b[0m\n",
      "\u001b[0;31mUnboundLocalError\u001b[0m: local variable 'drive' referenced before assignment"
     ]
    }
   ],
   "source": [
    "wds = np.linspace(1.25*2*pi, 1.3*2*pi, 21)\n",
    "for wd in wds:\n",
    "    automated(wd)"
   ]
  },
  {
   "cell_type": "code",
   "execution_count": null,
   "metadata": {},
   "outputs": [],
   "source": []
  }
 ],
 "metadata": {
  "kernelspec": {
   "display_name": "Python 3",
   "language": "python",
   "name": "python3"
  },
  "language_info": {
   "codemirror_mode": {
    "name": "ipython",
    "version": 3
   },
   "file_extension": ".py",
   "mimetype": "text/x-python",
   "name": "python",
   "nbconvert_exporter": "python",
   "pygments_lexer": "ipython3",
   "version": "3.6.7"
  }
 },
 "nbformat": 4,
 "nbformat_minor": 2
}
