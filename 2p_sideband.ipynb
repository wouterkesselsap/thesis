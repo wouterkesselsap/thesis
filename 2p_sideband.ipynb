{
 "cells": [
  {
   "cell_type": "markdown",
   "metadata": {},
   "source": [
    "MOTIVATION\n",
    "\n",
    "Detailed simulation of qubit-cavity coupling with two-photon sideband transitions to verify the simplified simulation of the cQED atomic beam experiment.\n",
    "\n",
    "NOTES\n",
    "\n",
    "- 1 ns unit for time\n",
    "- Conventions:\n",
    "  - [qubit, resonator ]\n",
    "  - Qubit: blue\n",
    "  - Resonator: red"
   ]
  },
  {
   "cell_type": "code",
   "execution_count": 1,
   "metadata": {},
   "outputs": [],
   "source": [
    "%matplotlib inline\n",
    "import numpy as np\n",
    "import matplotlib.pyplot as plt\n",
    "import plots\n",
    "import os\n",
    "import shutil\n",
    "import time\n",
    "from datetime import datetime\n",
    "from glob import glob\n",
    "from copy import copy\n",
    "from supports import *\n",
    "from qutip import *\n",
    "from scipy.special import erf\n",
    "from scipy.signal import argrelextrema\n",
    "\n",
    "options = Options()\n",
    "options.store_states=True"
   ]
  },
  {
   "cell_type": "code",
   "execution_count": 197,
   "metadata": {},
   "outputs": [],
   "source": [
    "Nq = 2   # number of levels in qubit\n",
    "Nc = 10  # number of levels in resonator 1\n",
    "\n",
    "wq = 6.5*2*pi    # qubit frequency\n",
    "wc = 4*2*pi    # resonator 1 frequency\n",
    "delta = wq - wc  # detuning\n",
    "Ec = 0.16*2*pi  # Anharmonicity (charging energy)\n",
    "g = 0.2*2*pi  # drive frequency resonator 1, coupling between qubit and resonator 1\n",
    "\n",
    "Omega = 0.3*2*pi  # amplitude of sideband transitions\n",
    "wsb = 1.273*2*pi #1/4*(3*wq - wc - sqrt((wq + wc)**2 - 4*Omega**2))  # pump drive frequency"
   ]
  },
  {
   "cell_type": "code",
   "execution_count": 206,
   "metadata": {},
   "outputs": [
    {
     "name": "stdout",
     "output_type": "stream",
     "text": [
      "timestep = 10.0 ps\n"
     ]
    }
   ],
   "source": [
    "T = 500  # simulation time [ns]\n",
    "Np = 100*int(T)     # number of discrete time steps for which to store the output\n",
    "print(\"timestep =\", 1e3*np.round(T/Np, 5), \"ps\")"
   ]
  },
  {
   "cell_type": "code",
   "execution_count": 207,
   "metadata": {},
   "outputs": [],
   "source": [
    "# Qubit operators\n",
    "b = tensor(destroy(Nq), qeye(Nc))\n",
    "nq = b.dag()*b\n",
    "\n",
    "# Cavity operators\n",
    "a = tensor(qeye(Nq), destroy(Nc))\n",
    "nc = a.dag()*a\n",
    "\n",
    "# Jaynes-Cummings Hamiltonian\n",
    "Hjc = wq*nq + wc*nc - Ec/2*b.dag()*b.dag()*b*b - g*(a*b.dag() + b*a.dag())\n",
    "\n",
    "# Sideband transitions\n",
    "Hsb = Omega*(b + b.dag())\n",
    "\n",
    "# Hamiltonian arguments\n",
    "H_args = {'T' : T, 'wsb' : wsb}\n",
    "\n",
    "# Expectation operators\n",
    "e_ops = [nq, nc]"
   ]
  },
  {
   "cell_type": "code",
   "execution_count": 208,
   "metadata": {},
   "outputs": [],
   "source": [
    "H = [Hjc, [Hsb, sideband]]  # complete Hamiltonian\n",
    "psi0 = tensor(psi_pi(Nq), basis(Nc, 0))  # initial state\n",
    "\n",
    "# Select these options for bdf method\n",
    "# options.method = 'bdf'\n",
    "# options.rtol = 1e-10\n",
    "# options.atol = 1e-10\n",
    "\n",
    "# Select these options for adams method\n",
    "options.nsteps = 1000\n",
    "options.rtol = 1e-12\n",
    "options.atol = 1e-12\n",
    "options.max_step = 0\n",
    "\n",
    "Np_per_batch = Np/10  # number of time points per batch"
   ]
  },
  {
   "cell_type": "code",
   "execution_count": 209,
   "metadata": {},
   "outputs": [
    {
     "name": "stdout",
     "output_type": "stream",
     "text": [
      "1 / 10 : 10 %\n",
      "2 / 10 : 20 %\n",
      "3 / 10 : 30 %\n",
      "4 / 10 : 40 %\n",
      "5 / 10 : 50 %\n",
      "6 / 10 : 60 %\n",
      "7 / 10 : 70 %\n",
      "8 / 10 : 80 %\n",
      "9 / 10 : 90 %\n",
      "10 / 10 : 100 %\n",
      "Evolution completed in 57.121186 s\n"
     ]
    }
   ],
   "source": [
    "batches = create_batches(0, T, Np, Np_per_batch)\n",
    "\n",
    "# Remove existing progress folder\n",
    "for folder in glob(\"/home/student/thesis/prog_*\"):\n",
    "    shutil.rmtree(folder)\n",
    "\n",
    "# Make new progress folder\n",
    "now = datetime.now()\n",
    "nowstr = now.strftime(\"%y_%m_%d_%H_%M_%S\")\n",
    "folder = \"/home/student/thesis/prog_\" + nowstr\n",
    "os.makedirs(folder)\n",
    "\n",
    "# Calculate!\n",
    "for num, tlist in enumerate(batches):\n",
    "    print(num+1, \"/\", len(batches), \":\", int(np.round(100*(num+1)/len(batches))), \"%\")\n",
    "    result = mesolve(H, psi0, tlist, [], e_ops=e_ops, args=H_args, options=options)\n",
    "    saveprog(result, num, folder)\n",
    "    psi0 = copy(result.states[-1])\n",
    "    del result\n",
    "end_calc = datetime.now()\n",
    "print(\"Evolution completed in {} s\".format((end_calc - now).total_seconds()))"
   ]
  },
  {
   "cell_type": "code",
   "execution_count": 210,
   "metadata": {},
   "outputs": [
    {
     "name": "stdout",
     "output_type": "stream",
     "text": [
      "Batches combined    in 1.901531 s\n"
     ]
    }
   ],
   "source": [
    "srcfolder = folder # \"/home/student/thesis/\"\n",
    "selection = All # (0, T)\n",
    "reduction = 5\n",
    "\n",
    "combine_batches(srcfolder, selection, reduction,\n",
    "                quants=['times', 'expect'], return_data=False)\n",
    "end_comb = datetime.now()\n",
    "print(\"Batches combined    in {} s\".format((end_comb - end_calc).total_seconds()))"
   ]
  },
  {
   "cell_type": "code",
   "execution_count": 211,
   "metadata": {},
   "outputs": [],
   "source": [
    "tfile = open(srcfolder + \"/times.pkl\", 'rb')\n",
    "tdata = pickle.load(tfile)\n",
    "times = tdata['data']\n",
    "tfile.close()\n",
    "del tdata\n",
    "\n",
    "# sfile = open(srcfolder + \"/states.pkl\", 'rb')\n",
    "# sdata = pickle.load(sfile)\n",
    "# states = sdata['data']\n",
    "# sfile.close()\n",
    "# del sdata\n",
    "\n",
    "efile = open(srcfolder + \"/expect.pkl\", 'rb')\n",
    "edata = pickle.load(efile)\n",
    "expect = edata['data']\n",
    "efile.close()\n",
    "del edata"
   ]
  },
  {
   "cell_type": "code",
   "execution_count": 212,
   "metadata": {},
   "outputs": [],
   "source": [
    "# obj = 0    # 0 = qubit, 1 = cavity\n",
    "\n",
    "# plt.figure(figsize=[6,3])\n",
    "# if obj == 0:\n",
    "#     plt.plot(times, expect[obj], color='b', label='Qubit')\n",
    "# elif obj == 1:\n",
    "#     plt.plot(times, expect[obj], color='r', label='Cavity')\n",
    "\n",
    "# # VARIABLE PLOT SETTINGS    \n",
    "# # plt.xlim([0, 10])\n",
    "# # plt.ylim([0, 0.52])\n",
    "\n",
    "# plt.xlabel(\"$t$ [ns]\")\n",
    "# if obj > 0:\n",
    "#     plt.ylabel(\"$n_c$\")\n",
    "#     plt.title(\"Cavity population\")\n",
    "# else:\n",
    "#     plt.ylabel(\"$n_q$\")\n",
    "#     plt.title(\"Qubit population\")\n",
    "# plt.legend()"
   ]
  },
  {
   "cell_type": "code",
   "execution_count": 215,
   "metadata": {},
   "outputs": [
    {
     "data": {
      "image/png": "[encoded data removed]",
      "text/plain": [
       "<Figure size 864x216 with 1 Axes>"
      ]
     },
     "metadata": {
      "needs_background": "light"
     },
     "output_type": "display_data"
    }
   ],
   "source": [
    "plt.figure(figsize=[12,3])\n",
    "plt.plot(times, expect[0], color='b', label='Qubit')\n",
    "plt.plot(times, expect[1], color='r', label='Cavity')\n",
    "# plt.xlim([180, 210])\n",
    "# plt.ylim([0, 2.8])\n",
    "plt.xlabel(\"$t$ [ns]\")\n",
    "plt.ylabel(\"$n$\")\n",
    "plt.legend()\n",
    "plt.title(\"Qubit & cavity population\")\n",
    "plt.show()"
   ]
  },
  {
   "cell_type": "code",
   "execution_count": null,
   "metadata": {},
   "outputs": [],
   "source": []
  }
 ],
 "metadata": {
  "kernelspec": {
   "display_name": "Python 3",
   "language": "python",
   "name": "python3"
  },
  "language_info": {
   "codemirror_mode": {
    "name": "ipython",
    "version": 3
   },
   "file_extension": ".py",
   "mimetype": "text/x-python",
   "name": "python",
   "nbconvert_exporter": "python",
   "pygments_lexer": "ipython3",
   "version": "3.6.7"
  }
 },
 "nbformat": 4,
 "nbformat_minor": 2
}
