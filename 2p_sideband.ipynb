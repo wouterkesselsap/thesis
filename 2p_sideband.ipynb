{
 "cells": [
  {
   "cell_type": "markdown",
   "metadata": {},
   "source": [
    "MOTIVATION\n",
    "\n",
    "Detailed simulation of qubit-cavity coupling with two-photon sideband transitions to verify the simplified simulation of the cQED atomic beam experiment.\n",
    "\n",
    "Use this notebook to do calculations.\n",
    "For analyzing data, I refer to the notebook analyze.ipynb.\n",
    "\n",
    "NOTES\n",
    "\n",
    "- 1 ns unit for time\n",
    "- Conventions:\n",
    "  - [qubit, resonator ]\n",
    "  - Qubit: blue\n",
    "  - Resonator: red\n",
    "\n",
    "Results can be found in the logbook."
   ]
  },
  {
   "cell_type": "code",
   "execution_count": 1,
   "metadata": {},
   "outputs": [],
   "source": [
    "%matplotlib inline\n",
    "# %matplotlib notebook\n",
    "import os\n",
    "import numpy as np\n",
    "import matplotlib.pyplot as plt\n",
    "import multiprocessing as mp\n",
    "from qutip import *\n",
    "from ipywidgets import widgets\n",
    "from IPython.display import display\n",
    "\n",
    "from plots import *\n",
    "from supports import *\n",
    "from process import *\n",
    "from calculate import *\n",
    "from envelopes import *\n",
    "from scan import *\n",
    "\n",
    "home = os.getcwd() + \"/\"\n",
    "options = Options()\n",
    "options.store_states=True"
   ]
  },
  {
   "cell_type": "markdown",
   "metadata": {},
   "source": [
    "# 1. Parameters"
   ]
  },
  {
   "cell_type": "code",
   "execution_count": 2,
   "metadata": {},
   "outputs": [
    {
     "name": "stdout",
     "output_type": "stream",
     "text": [
      "timestep = 800.0 ps\n"
     ]
    }
   ],
   "source": [
    "# Devices \n",
    "Nq = 2          # number of levels in qubit\n",
    "Nc = 10          # number of levels in resonator 1\n",
    "wq = 6.5 *2*pi   # g-e qubit transition frequency\n",
    "wc = 4.0 *2*pi   # bare resonator frequency\n",
    "Ec = 0.2 *2*pi  # anharmonicity (charging energy)\n",
    "g  = 0.2 *2*pi    # coupling between qubit and resonator\n",
    "\n",
    "# Sideband transitions\n",
    "sb = 'blue'  # type of sideband transitions\n",
    "Nt = 1      # number of drive tones\n",
    "\n",
    "# Single-tone\n",
    "Omega = 0.3 *2 *2*pi   # pump drive amplitude\n",
    "shift1 = 0.1905 *2*pi  # qubit transition frequency shift\n",
    "\n",
    "# Double-tone\n",
    "Omfac = 1                        # factor with which to scale the drive tone amplitudes\n",
    "Omegaq = Omfac * 0.025 *2 *2*pi  # amplitude of qubit-friendly drive tone\n",
    "Omegac = Omfac * 0.317 *2 *2*pi  # amplitude of cavity-friendly drive tone\n",
    "dw = 0.5 *2*pi                   # detuning from wc\n",
    "shift2 = 0.1248 *2*pi           # qubit frequency shift\n",
    "\n",
    "# Time cycle\n",
    "t0 = 0         # start of simulation\n",
    "t1 = t0 + 0    # start of drive\n",
    "t2 = t1 + 100  # end of drive\n",
    "t3 = t2 + 0    # end of simulation\n",
    "\n",
    "# Gaussian rise and fall\n",
    "tg = 10         # length of gaussian rise and fall\n",
    "gauss = True    # whether or not to rise and fall with gaussian\n",
    "smooth = False  # whether to start gaussian at 0 or with small jump\n",
    "Q = 3           # number of std's in gaussian rise and fall\n",
    "\n",
    "# Convergent method\n",
    "tc = 5              # timestep when using convergent method\n",
    "convergent = True  # use convergent method\n",
    "\n",
    "# Integration\n",
    "method = 'bdf'        # integration method, either 'bdf' or 'adams'\n",
    "Np = 1 *int(t3)      # number of discrete time steps for which to store the output\n",
    "\n",
    "if not convergent:\n",
    "    print(\"timestep =\", 1e3*np.round(t3/Np, 5), \"ps\")\n",
    "elif convergent:\n",
    "    print(\"timestep =\", 1e3*np.round((t3-2*tg)/Np, 5), \"ps\")"
   ]
  },
  {
   "cell_type": "markdown",
   "metadata": {},
   "source": [
    "## Autofill"
   ]
  },
  {
   "cell_type": "code",
   "execution_count": 3,
   "metadata": {},
   "outputs": [
    {
     "name": "stdout",
     "output_type": "stream",
     "text": [
      "drive freq wd = 5.345249999999999 GHz\n",
      "bare HO qubit freq wqb = 6.500000000000001 GHz\n"
     ]
    }
   ],
   "source": [
    "if Nt == 1:\n",
    "    shift = shift1\n",
    "    if sb == 'red':\n",
    "        if wq > wc:\n",
    "            wd = (wq + shift - wc)/2\n",
    "        elif wq < wc:\n",
    "            wd = (wc - wq - shift)/2\n",
    "    elif sb == 'blue':\n",
    "            wd = (wq + shift + wc)/2\n",
    "    print(\"drive freq wd =\", wd/2/pi, \"GHz\")\n",
    "elif Nt == 2:\n",
    "    shift = shift2\n",
    "    if sb == 'red':\n",
    "        wdq =  wq + shift - dw\n",
    "        wdc =  wc - dw\n",
    "    elif sb == 'blue':\n",
    "        wdq =  wq + shift + dw\n",
    "        wdc =  wc - dw\n",
    "    print(\"qubit-friendly drive freq  wdq =\", wdq/2/pi, \"GHz\")\n",
    "    print(\"cavity-friendly drive freq wdc =\", wdc/2/pi, \"GHz\")\n",
    "\n",
    "if Nq == 2:\n",
    "    wqb = wq  # bare harmonic qubit transition frequency for TLS\n",
    "elif Nq > 2:\n",
    "    wqb = wq + Ec  # bare harmonic qubit transition frequency for transmon\n",
    "print(\"bare HO qubit freq wqb =\", wqb/2/pi, \"GHz\")"
   ]
  },
  {
   "cell_type": "code",
   "execution_count": 4,
   "metadata": {},
   "outputs": [],
   "source": [
    "b, a, nq, nc = ops(Nq, Nc)  # Operators\n",
    "\n",
    "# Hamiltonian\n",
    "Hjc = wqb*nq + wc*nc - Ec/12*(b + b.dag())**4           # devices intrinsic #-Ec/2*b.dag()*b.dag()*b*b\n",
    "Hc = g*(a*b + a*b.dag() + b*a.dag() + a.dag()*b.dag())  # coupling\n",
    "nac = g/(4*Ec)*(100/2)**(-1/4)                          # ac-gate bias number\n",
    "Hac = 4*Ec*nac**2*(a*a + a.dag()*a.dag())               # accurate ac-gate bias addition\n",
    "if Nt == 1:\n",
    "    Hd = Omega*(b + b.dag())    # single-tone drive\n",
    "elif Nt == 2:\n",
    "    Hdq = Omegaq*(b + b.dag())  # double-tone qubit-friendly drive\n",
    "    Hdc = Omegac*(b + b.dag())  # double-tone cavity-friendly drive\n",
    "\n",
    "if Nt == 1:\n",
    "    H_args = {'t0' : t0, 't1' : t1, 't2' : t2, 't3' : t3, 'tg' : tg, 'tc' : tc, 'Q'  : Q,\n",
    "              'gauss' : gauss, 'smooth' : smooth, 'convergent' : convergent, 'Nt' : Nt, 'wd' : wd}\n",
    "elif Nt == 2:\n",
    "    H_args = {'t0' : t0, 't1' : t1, 't2' : t2, 't3' : t3, 'tg' : tg, 'tc' : tc, 'Q'  : Q, \n",
    "              'gauss' : gauss, 'smooth' : smooth, 'convergent' : convergent, 'Nt' : Nt, 'wdq' : wdq, 'wdc' : wdc}\n",
    "\n",
    "e_ops = [nq, nc]  # expectation operators"
   ]
  },
  {
   "cell_type": "code",
   "execution_count": 5,
   "metadata": {},
   "outputs": [],
   "source": [
    "if Nt == 1:\n",
    "    H = [Hjc, [Hc, drive_nonosc], [Hd, drive]]  # complete Hamiltonian\n",
    "elif Nt == 2:\n",
    "    H = [Hjc, [Hc, drive_nonosc], [Hdq, driveq], [Hdc, drivec]]  # complete Hamiltonian\n",
    "\n",
    "if sb == 'red':\n",
    "    psi0 = tensor(basis(Nq, 1), basis(Nc, 0))  # initial state\n",
    "elif sb == 'blue':\n",
    "    psi0 = tensor(basis(Nq, 0), basis(Nc, 0))  # initial state\n",
    "\n",
    "# Select these options for bdf method\n",
    "if method == 'bdf':\n",
    "    options.method = 'bdf'\n",
    "    options.rtol = 1e-10\n",
    "    options.atol = 1e-10\n",
    "else:\n",
    "    options.nsteps = 1000\n",
    "    options.rtol = 1e-10\n",
    "    options.atol = 1e-10\n",
    "    options.max_step = 0\n",
    "\n",
    "Np_per_batch = Np/int(np.round(t3/10))  # number of time points per batch"
   ]
  },
  {
   "cell_type": "markdown",
   "metadata": {},
   "source": [
    "# 2. Calculate"
   ]
  },
  {
   "cell_type": "code",
   "execution_count": 6,
   "metadata": {},
   "outputs": [
    {
     "name": "stdout",
     "output_type": "stream",
     "text": [
      "Progress: |██████████████████████████████████████████████████| 100.0%\n",
      "Evolution completed in 352.493656 s\n"
     ]
    }
   ],
   "source": [
    "progfolder = calculate(H, psi0, e_ops, H_args, options, Nc, Np, Np_per_batch, home,\n",
    "                       parallel=False, verbose=True, refinement=10)"
   ]
  },
  {
   "cell_type": "markdown",
   "metadata": {},
   "source": [
    "# 3. Process results"
   ]
  },
  {
   "cell_type": "code",
   "execution_count": 7,
   "metadata": {},
   "outputs": [],
   "source": [
    "# Save the parameters that are used\n",
    "if Nt == 1:\n",
    "    saveparams(Nq, Nc, Nt, wq, shift, wc, Ec, g, sb, t0, t1, t2, t3, tg, tc, gauss, smooth, Q, convergent,\n",
    "               Np, H, psi0, e_ops, options, progfolder, frmt=['pkl', 'txt'], Omega=Omega, wd=wd)\n",
    "elif Nt == 2:\n",
    "    saveparams(Nq, Nc, Nt, wq, shift, wc, Ec, g, sb, t0, t1, t2, t3, tg, tc, gauss, smooth,\n",
    "               Q, convergent, Np, H, psi0, e_ops, options, progfolder, frmt=['pkl', 'txt'],\n",
    "               Omegaq=Omegaq, Omegac=Omegac, wdq=wdq, wdc=wdc, dw=dw)"
   ]
  },
  {
   "cell_type": "code",
   "execution_count": 8,
   "metadata": {},
   "outputs": [
    {
     "name": "stdout",
     "output_type": "stream",
     "text": [
      "Batches combined    in 0.023984 s\n"
     ]
    }
   ],
   "source": [
    "# Select & load data to RAM, combine batches\n",
    "\n",
    "srcfolder =  progfolder  # path to the folder to get the data from\n",
    "quants = ['times', 'expect', 'e0', 'g1', 'e1', 'g0', 'coupling']  # quantities to save\n",
    "\n",
    "start_comb = datetime.now()\n",
    "new_folder_name = copy(srcfolder)\n",
    "ID = getID(srcfolder)  # unique simulation ID\n",
    "\n",
    "# Get the parameters that are used\n",
    "Nq, Nc, Nt, wq, shift, wc, Ec, g, sb, t0, t1, t2, t3, tg, tc, gauss, smooth, Q, convergent, Np, H, psi0, e_ops, options, Omega, wd, Omegaq, Omegac, dw, wdq, wdc = getparams(srcfolder)\n",
    "if Nt == 1:\n",
    "    H_args = {'t0' : t0, 't1' : t1, 't2' : t2, 't3' : t3, 'tg' : tg, 'tc' : tc, 'Q'  : Q,\n",
    "              'gauss' : gauss, 'smooth' : smooth, 'convergent' : convergent, 'Nt' : Nt, 'wd' : wd}\n",
    "elif Nt == 2:\n",
    "    H_args = {'t0' : t0, 't1' : t1, 't2' : t2, 't3' : t3, 'tg' : tg, 'tc' : tc, 'Q'  : Q,\n",
    "              'gauss' : gauss, 'smooth' : smooth,  'convergent' : convergent, 'Nt' : Nt, 'wdq' : wdq, 'wdc' : wdc}\n",
    "if Nq == 2:\n",
    "    wqb = wq  # bare harmonic qubit transition frequency\n",
    "elif Nq > 2:\n",
    "    wqb = wq + Ec  # bare harmonic qubit transition frequency\n",
    "\n",
    "# Combine all batches per quantity\n",
    "combine_batches(srcfolder, quants=quants, return_data=False)\n",
    "print(\"Batches combined    in {} s\".format((datetime.now() - start_comb).total_seconds()))\n",
    "\n",
    "times, states, expect, e0, g1, e1, g0, coupling = load_data(quants, srcfolder)  # load to RAM"
   ]
  },
  {
   "cell_type": "code",
   "execution_count": 9,
   "metadata": {},
   "outputs": [
    {
     "ename": "ValueError",
     "evalue": "If mode is 'interp', window_length must be less than or equal to the size of x.",
     "output_type": "error",
     "traceback": [
      "\u001b[1;31m---------------------------------------------------------------------------\u001b[0m",
      "\u001b[1;31mValueError\u001b[0m                                Traceback (most recent call last)",
      "\u001b[1;32m<ipython-input-9-5f0f0fd33c6e>\u001b[0m in \u001b[0;36m<module>\u001b[1;34m()\u001b[0m\n\u001b[0;32m      3\u001b[0m \u001b[1;33m\u001b[0m\u001b[0m\n\u001b[0;32m      4\u001b[0m \u001b[1;32mif\u001b[0m \u001b[1;34m'e0'\u001b[0m \u001b[1;32min\u001b[0m \u001b[0mquants\u001b[0m\u001b[1;33m:\u001b[0m\u001b[1;33m\u001b[0m\u001b[0m\n\u001b[1;32m----> 5\u001b[1;33m     \u001b[0me0_macro\u001b[0m\u001b[1;33m,\u001b[0m \u001b[0me0_macro_times\u001b[0m \u001b[1;33m=\u001b[0m \u001b[0mremove_micromotion\u001b[0m\u001b[1;33m(\u001b[0m\u001b[0me0\u001b[0m\u001b[1;33m,\u001b[0m \u001b[0mtimes\u001b[0m\u001b[1;33m,\u001b[0m \u001b[0mmethod\u001b[0m\u001b[1;33m=\u001b[0m\u001b[0msmoothen_method\u001b[0m\u001b[1;33m)\u001b[0m\u001b[1;33m\u001b[0m\u001b[0m\n\u001b[0m\u001b[0;32m      6\u001b[0m \u001b[1;32mif\u001b[0m \u001b[1;34m'g0'\u001b[0m \u001b[1;32min\u001b[0m \u001b[0mquants\u001b[0m\u001b[1;33m:\u001b[0m\u001b[1;33m\u001b[0m\u001b[0m\n\u001b[0;32m      7\u001b[0m     \u001b[0mg0_macro\u001b[0m\u001b[1;33m,\u001b[0m \u001b[0mg0_macro_times\u001b[0m \u001b[1;33m=\u001b[0m \u001b[0mremove_micromotion\u001b[0m\u001b[1;33m(\u001b[0m\u001b[0mg0\u001b[0m\u001b[1;33m,\u001b[0m \u001b[0mtimes\u001b[0m\u001b[1;33m,\u001b[0m \u001b[0mmethod\u001b[0m\u001b[1;33m=\u001b[0m\u001b[0msmoothen_method\u001b[0m\u001b[1;33m)\u001b[0m\u001b[1;33m\u001b[0m\u001b[0m\n",
      "\u001b[1;32m~\\Documents\\TU\\TN\\Master\\Thesis project\\code\\thesis\\calculate.py\u001b[0m in \u001b[0;36mremove_micromotion\u001b[1;34m(x, times, method, window_length, order, **kwargs)\u001b[0m\n\u001b[0;32m    348\u001b[0m \u001b[1;33m\u001b[0m\u001b[0m\n\u001b[0;32m    349\u001b[0m     \u001b[1;32melif\u001b[0m \u001b[0mmethod\u001b[0m \u001b[1;33m==\u001b[0m \u001b[1;34m'savgol'\u001b[0m\u001b[1;33m:\u001b[0m\u001b[1;33m\u001b[0m\u001b[0m\n\u001b[1;32m--> 350\u001b[1;33m         \u001b[0mxnew\u001b[0m \u001b[1;33m=\u001b[0m \u001b[0msavgol_filter\u001b[0m\u001b[1;33m(\u001b[0m\u001b[0mx\u001b[0m\u001b[1;33m,\u001b[0m \u001b[0mwindow_length\u001b[0m\u001b[1;33m,\u001b[0m \u001b[0morder\u001b[0m\u001b[1;33m)\u001b[0m\u001b[1;33m\u001b[0m\u001b[0m\n\u001b[0m\u001b[0;32m    351\u001b[0m \u001b[1;33m\u001b[0m\u001b[0m\n\u001b[0;32m    352\u001b[0m     \u001b[1;32melif\u001b[0m \u001b[0mmethod\u001b[0m \u001b[1;33m==\u001b[0m \u001b[1;34m'lowpass'\u001b[0m\u001b[1;33m:\u001b[0m\u001b[1;33m\u001b[0m\u001b[0m\n",
      "\u001b[1;32m~\\Anaconda3\\lib\\site-packages\\scipy\\signal\\_savitzky_golay.py\u001b[0m in \u001b[0;36msavgol_filter\u001b[1;34m(x, window_length, polyorder, deriv, delta, axis, mode, cval)\u001b[0m\n\u001b[0;32m    335\u001b[0m     \u001b[1;32mif\u001b[0m \u001b[0mmode\u001b[0m \u001b[1;33m==\u001b[0m \u001b[1;34m\"interp\"\u001b[0m\u001b[1;33m:\u001b[0m\u001b[1;33m\u001b[0m\u001b[0m\n\u001b[0;32m    336\u001b[0m         \u001b[1;32mif\u001b[0m \u001b[0mwindow_length\u001b[0m \u001b[1;33m>\u001b[0m \u001b[0mx\u001b[0m\u001b[1;33m.\u001b[0m\u001b[0msize\u001b[0m\u001b[1;33m:\u001b[0m\u001b[1;33m\u001b[0m\u001b[0m\n\u001b[1;32m--> 337\u001b[1;33m             raise ValueError(\"If mode is 'interp', window_length must be less \"\n\u001b[0m\u001b[0;32m    338\u001b[0m                              \"than or equal to the size of x.\")\n\u001b[0;32m    339\u001b[0m \u001b[1;33m\u001b[0m\u001b[0m\n",
      "\u001b[1;31mValueError\u001b[0m: If mode is 'interp', window_length must be less than or equal to the size of x."
     ]
    }
   ],
   "source": [
    "# Determine the sideband transition frequency\n",
    "smoothen_method = 'savgol'  # method to remove micromotion, either 'savgol', 'bisect', or 'lowpass'\n",
    "\n",
    "if 'e0' in quants:\n",
    "    e0_macro, e0_macro_times = remove_micromotion(e0, times, method=smoothen_method)\n",
    "if 'g0' in quants:\n",
    "    g0_macro, g0_macro_times = remove_micromotion(g0, times, method=smoothen_method)\n",
    "if 'e1' in quants:\n",
    "    e1_macro, e1_macro_times = remove_micromotion(e1, times, method=smoothen_method)\n",
    "if 'g1' in quants:\n",
    "    g1_macro, g1_macro_times = remove_micromotion(g1, times, method=smoothen_method)\n",
    "if ('e1' in quants and 'g0' in quants):\n",
    "    e1g0_macro, e1g0_macro_times = remove_micromotion(e1-g0, times, method=smoothen_method)\n",
    "if ('e0' in quants and 'g1' in quants):\n",
    "    e0g1_macro, e0g1_macro_times = remove_micromotion(e0-g1, times, method=smoothen_method)\n",
    "\n",
    "if sb == 'red':\n",
    "    wsb = sideband_freq(e0g1_macro, e0g1_macro_times)\n",
    "elif sb == 'blue':\n",
    "    wsb = sideband_freq(e1g0_macro, e1g0_macro_times)\n",
    "\n",
    "print(\"sideband transition freq   wsb = {} GHz\".format(wsb/2/pi))\n",
    "if wsb > 0:\n",
    "    print(\"sideband transition period Tsb = {} ns\".format(2*pi/wsb))"
   ]
  },
  {
   "cell_type": "markdown",
   "metadata": {},
   "source": [
    "# 4. Plot"
   ]
  },
  {
   "cell_type": "code",
   "execution_count": 10,
   "metadata": {},
   "outputs": [
    {
     "data": {
      "image/png": "[encoded data removed]",
      "text/plain": [
       "<matplotlib.figure.Figure at 0x22b48e09438>"
      ]
     },
     "metadata": {},
     "output_type": "display_data"
    }
   ],
   "source": [
    "# Plot expectation values\n",
    "xlim = None  # range of horizontal axis\n",
    "ylim = None  # range of vertical axis\n",
    "figsize = [15,3]\n",
    "\n",
    "if sb == 'red':\n",
    "    if Nt == 1:\n",
    "        figqc = sb_expect(times, expect, sb, Nt, H_args, coupling, xlim=xlim, ylim=ylim, figsize=figsize,\n",
    "                          wsb=wsb, Omega=Omega, wd=wd)\n",
    "    elif Nt == 2:\n",
    "        figqc = sb_expect(times, expect, sb, Nt, H_args, coupling, xlim=xlim, ylim=ylim, figsize=figsize,\n",
    "                          wsb=wsb, Omegaq=Omegaq, Omegac=Omegac)\n",
    "elif sb == 'blue':\n",
    "    if Nt == 1:\n",
    "        figqc = sb_expect(times, expect, sb, Nt, H_args, coupling, xlim=xlim, ylim=ylim, figsize=figsize,\n",
    "                          wsb=wsb, Omega=Omega, wd=wd)\n",
    "    elif Nt == 2:\n",
    "        figqc = sb_expect(times, expect, sb, Nt, H_args, coupling, xlim=xlim, ylim=ylim, figsize=figsize,\n",
    "                          wsb=wsb, Omegaq=Omegaq, Omegac=Omegac)"
   ]
  },
  {
   "cell_type": "code",
   "execution_count": 11,
   "metadata": {},
   "outputs": [
    {
     "data": {
      "image/png": "[encoded data removed]",
      "text/plain": [
       "<matplotlib.figure.Figure at 0x22b4a1d0518>"
      ]
     },
     "metadata": {},
     "output_type": "display_data"
    }
   ],
   "source": [
    "# Plot combined probabilities\n",
    "xlim = None  # range of horizontal axis\n",
    "ylim = None  # range of vertical axis\n",
    "figsize = [15,3]\n",
    "\n",
    "if sb == 'red':\n",
    "    if Nt == 1:\n",
    "        fig = sb_combined_probs(times, sb, Nt, H_args, coupling, xlim=xlim, ylim=xlim, figsize=figsize,\n",
    "                                e0=e0, g1=g1, wd=wd, wsb=wsb, Omega=Omega)\n",
    "    elif Nt == 2:\n",
    "        fig = sb_combined_probs(times, sb, Nt, H_args, coupling, xlim=xlim, ylim=xlim, figsize=figsize,\n",
    "                                e0=e0, g1=g1, wsb=wsb, Omegaq=Omegaq, Omegac=Omegac)\n",
    "elif sb == 'blue':\n",
    "    if Nt == 1:\n",
    "        fig = sb_combined_probs(times, sb, Nt, H_args, coupling, xlim=xlim, ylim=xlim, figsize=figsize,\n",
    "                                e1=e1, g0=g0, wd=wd, wsb=wsb, Omega=Omega)\n",
    "    elif Nt == 2:\n",
    "        fig = sb_combined_probs(times, sb, Nt, H_args, coupling, xlim=xlim, ylim=xlim, figsize=figsize,\n",
    "                                e1=e1, g0=g0, wsb=wsb, Omegaq=Omegaq, Omegac=Omegac)"
   ]
  },
  {
   "cell_type": "markdown",
   "metadata": {},
   "source": [
    "# 5. Save data and plots"
   ]
  },
  {
   "cell_type": "code",
   "execution_count": 210,
   "metadata": {},
   "outputs": [
    {
     "data": {
      "application/vnd.jupyter.widget-view+json": {
       "model_id": "6663c1cfae164707a7af4f36a06a1e99",
       "version_major": 2,
       "version_minor": 0
      },
      "text/html": [
       "<p>Failed to display Jupyter Widget of type <code>VBox</code>.</p>\n",
       "<p>\n",
       "  If you're reading this message in the Jupyter Notebook or JupyterLab Notebook, it may mean\n",
       "  that the widgets JavaScript is still loading. If this message persists, it\n",
       "  likely means that the widgets JavaScript library is either not installed or\n",
       "  not enabled. See the <a href=\"https://ipywidgets.readthedocs.io/en/stable/user_install.html\">Jupyter\n",
       "  Widgets Documentation</a> for setup instructions.\n",
       "</p>\n",
       "<p>\n",
       "  If you're reading this message in another frontend (for example, a static\n",
       "  rendering on GitHub or <a href=\"https://nbviewer.jupyter.org/\">NBViewer</a>),\n",
       "  it may mean that your frontend doesn't currently support widgets.\n",
       "</p>\n"
      ],
      "text/plain": [
       "VBox(children=(Button(description='Save data', style=ButtonStyle()), Output()))"
      ]
     },
     "metadata": {},
     "output_type": "display_data"
    }
   ],
   "source": [
    "# Save all data and plots with a single click on the button!\n",
    "data_saved = False\n",
    "data_button = widgets.Button(description='Save data')\n",
    "data_out = widgets.Output()\n",
    "def data_clicked(b):\n",
    "    data_button.description = 'Data saved!'\n",
    "    with data_out:\n",
    "        global srcfolder\n",
    "        \n",
    "        parfile = open(srcfolder + \"/parameters.txt\", \"a+\")\n",
    "        parfile.write(\"sideband transition frequency   wsb    : {} = {} GHz\\n\".format(wsb, wsb/2/pi))\n",
    "        parfile.write(\"sideband transition coupling    gsb    : {} = {} GHz\".format(wsb/2, wsb/2/2/pi))\n",
    "        parfile.close()\n",
    "                \n",
    "        if Nt == 1:\n",
    "            new_folder_name = home + \"data/data_{}_{}_Nq{}_Nt{}_Om{}_wd{}_wq{}_wc{}_wsb{}\".format(\n",
    "                              ID, sb, Nq, Nt, round(Omega/2/pi, 2), round(wd/2/pi, 3), round(wq/2/pi, 2),\n",
    "                              round(wc/2/pi, 2), round(wsb/2/pi, 4))\n",
    "            figqc.savefig(srcfolder + \"/\" + \"figqc_{}.png\".format(ID, bbox_inches='tight'))\n",
    "            fig.savefig(srcfolder + \"/\" + \"fig_{}.png\".format(ID, bbox_inches='tight'))\n",
    "        elif Nt == 2:\n",
    "            new_folder_name = home + \"data/data_{}_{}_Nq{}_Nt{}_Omq{}_wdq{}_Omc{}_wdc{}_dw{}_wq{}_wc{}_wsb{}\".format(\n",
    "                              ID, sb, Nq, Nt, round(Omegaq/2/pi, 2), round(wdq/2/pi, 3), round(Omegac/2/pi, 2),\n",
    "                              round(wdc/2/pi, 3), round(dw/2/pi, 1), round(wq/2/pi, 2),\n",
    "                              round(wc/2/pi, 2), round(wsb/2/pi, 4))\n",
    "            figqc.savefig(srcfolder + \"/\" + \"figqc_{}.png\".format(ID, bbox_inches='tight'))\n",
    "            fig.savefig(srcfolder + \"/\" + \"fig_{}.png\".format(ID, bbox_inches='tight'))\n",
    "        os.rename(srcfolder, new_folder_name)\n",
    "        print(\"Folder renamed to\", new_folder_name)\n",
    "        srcfolder = new_folder_name\n",
    "data_button.on_click(data_clicked)\n",
    "widgets.VBox([data_button, data_out])"
   ]
  },
  {
   "cell_type": "markdown",
   "metadata": {},
   "source": [
    "# Scanning\n",
    "\n",
    "IMPORTANT NOTE: All cells from 1. Parameters (including Autofill) should be run prior to each of the scanning cells below, every single time one of the cells below is run."
   ]
  },
  {
   "cell_type": "markdown",
   "metadata": {},
   "source": [
    "## A. Sideband transitions"
   ]
  },
  {
   "cell_type": "code",
   "execution_count": 166,
   "metadata": {},
   "outputs": [
    {
     "name": "stdout",
     "output_type": "stream",
     "text": [
      "Done.\n"
     ]
    }
   ],
   "source": [
    "fshifts = np.linspace(-0.0990*2*pi, -0.1*2*pi, 11)  # qubit frequency shift range to scan\n",
    "Npool = 6                                       # number of parallel simulations\n",
    "\n",
    "for progf in glob(home + \"temp/prog_*\"):\n",
    "    shutil.rmtree(progf)  # delete all existing progfiles\n",
    "for figure in glob(home + \"temp/fig*\"):\n",
    "    os.remove(figure)  # delete all existing figures\n",
    "fshifts = zip(range(len(fshifts)), fshifts)\n",
    "pool = mp.Pool(Npool)\n",
    "if Nt == 1:\n",
    "    pool.starmap(sbsample, [(Nq, wq, wc, Ec, g, fshift, sb, Nt, H, H_args, psi0, Np_per_batch, options, home, True,\n",
    "                             Omega) for fshift in fshifts])\n",
    "elif Nt == 2:\n",
    "    pool.starmap(sbsample, [(Nq, wq, wc, Ec, g, fshift, sb, Nt, H, H_args, psi0, Np_per_batch, options, home, True,\n",
    "                             Omegaq, Omegac, dw) for fshift in fshifts])\n",
    "pool.close()\n",
    "for progf in glob(home + \"temp/prog_*\"):\n",
    "    shutil.rmtree(progf)  # delete all progfiles\n",
    "print(\"Done.\")"
   ]
  },
  {
   "cell_type": "markdown",
   "metadata": {},
   "source": [
    "## B. Qubit frequency shift"
   ]
  },
  {
   "cell_type": "code",
   "execution_count": 20,
   "metadata": {},
   "outputs": [
    {
     "name": "stdout",
     "output_type": "stream",
     "text": [
      "Done.\n"
     ]
    }
   ],
   "source": [
    "wps = np.linspace(wq-0.018*2*pi, wq-0.019*2*pi, 11)  # probe frequency range to scan\n",
    "Npool = 6                                       # number of parallel simulations\n",
    "drive_on = True\n",
    "\n",
    "for progf in glob(home + \"temp/prog_*\"):\n",
    "    shutil.rmtree(progf)  # delete all existing progfiles\n",
    "for figure in glob(home + \"temp/fig*\"):\n",
    "    os.remove(figure)  # delete all existing figures\n",
    "wps = zip(range(len(wps)), wps)\n",
    "pool = mp.Pool(Npool)\n",
    "b, nq = ops(Nq)\n",
    "Hq = wqb*nq -Ec/12*(b + b.dag())**4            # qubit intrinsic\n",
    "Omegap = 0.005  # amplitude of probe tone\n",
    "Hp = Omegap*(b + b.dag())\n",
    "if Nt == 1:\n",
    "    Hd = Omega*(b + b.dag())  # single-tone drive\n",
    "    H = [Hq, [Hd, drive], [Hp, probe]]  # complete Hamiltonian\n",
    "elif Nt == 2:\n",
    "    Hdq = Omegaq*(b + b.dag())  # double-tone qubit-friendly drive\n",
    "    Hdc = Omegac*(b + b.dag())  # double-tone cavity-friendly drive\n",
    "    H = [Hq, [Hdq, driveq], [Hdc, drivec], [Hp, probe]]  # complete Hamiltonian\n",
    "if not drive_on:\n",
    "    H = [Hq, [Hp, probe]]  # complete Hamiltonian\n",
    "psi0 = basis(Nq, 0)\n",
    "pool.starmap(qfs, [(Nq, wq, Ec, wp, H, H_args, psi0, Nc, Np, Np_per_batch, options, home, True)\n",
    "                   for wp in wps])\n",
    "pool.close()\n",
    "for progf in glob(home + \"temp/prog_*\"):\n",
    "    shutil.rmtree(progf)  # delete all progfiles\n",
    "print(\"Done.\")"
   ]
  },
  {
   "cell_type": "markdown",
   "metadata": {},
   "source": [
    "## C. Cavity frequency shift"
   ]
  },
  {
   "cell_type": "code",
   "execution_count": 27,
   "metadata": {},
   "outputs": [
    {
     "name": "stdout",
     "output_type": "stream",
     "text": [
      "Done.\n"
     ]
    }
   ],
   "source": [
    "wps = np.linspace(wc-0.01*2*pi, wc+0.01*2*pi, 21)  # probe frequency range to scan\n",
    "Npool = 6                                       # number of parallel simulations\n",
    "drive_on = True\n",
    "\n",
    "for progf in glob(home + \"temp/prog_*\"):\n",
    "    shutil.rmtree(progf)  # delete all existing progfiles\n",
    "for figure in glob(home + \"temp/fig*\"):\n",
    "    os.remove(figure)  # delete all existing figures\n",
    "wps = zip(range(len(wps)), wps)\n",
    "pool = mp.Pool(Npool)\n",
    "Omegap = 0.005  # amplitude of probe tone\n",
    "Hp = Omegap*(b + b.dag())\n",
    "if Nt == 1:\n",
    "    H = [Hjc, [Hc, drive_nonosc], [Hd, drive], [Hp, probe]]  # complete Hamiltonian\n",
    "elif Nt == 2:\n",
    "    H = [Hjc, [Hc, drive_nonosc], [Hdq, driveq], [Hdc, drivec], [Hp, probe]]  # complete Hamiltonian\n",
    "if not drive_on:\n",
    "    H = [Hjc, [Hp, probe]]  # complete Hamiltonian\n",
    "psi0 = tensor(basis(Nq, 0), basis(Nc, 0))  # initial state\n",
    "pool.starmap(cfs, [(Nq, Nc, wc, Ec, wp, H, H_args, psi0, Np_per_batch, options, home, True)\n",
    "                               for wp in wps])\n",
    "pool.close()\n",
    "for progf in glob(home + \"temp/prog_*\"):\n",
    "    shutil.rmtree(progf)  # delete all progfiles\n",
    "print(\"Done.\")"
   ]
  },
  {
   "cell_type": "code",
   "execution_count": null,
   "metadata": {},
   "outputs": [],
   "source": []
  }
 ],
 "metadata": {
  "kernelspec": {
   "display_name": "Python 3",
   "language": "python",
   "name": "python3"
  },
  "language_info": {
   "codemirror_mode": {
    "name": "ipython",
    "version": 3
   },
   "file_extension": ".py",
   "mimetype": "text/x-python",
   "name": "python",
   "nbconvert_exporter": "python",
   "pygments_lexer": "ipython3",
   "version": "3.6.4"
  }
 },
 "nbformat": 4,
 "nbformat_minor": 2
}
