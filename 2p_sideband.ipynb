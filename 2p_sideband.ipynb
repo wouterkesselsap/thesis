{
 "cells": [
  {
   "cell_type": "markdown",
   "metadata": {},
   "source": [
    "MOTIVATION\n",
    "\n",
    "Detailed simulation of qubit-cavity coupling with two-photon sideband transitions to verify the simplified simulation of the cQED atomic beam experiment.\n",
    "\n",
    "NOTES\n",
    "\n",
    "- 1 ns unit for time\n",
    "- Conventions:\n",
    "  - [qubit, resonator ]\n",
    "  - Qubit: blue\n",
    "  - Resonator: red\n",
    "\n",
    "VALUES\n",
    "- N = 2\n",
    "    - Single tone\n",
    "        - Red sideband transitions\n",
    "            - wq = 6.5, wc = 4 : wsb ~ 1.2975 * 2 * pi\n",
    "            - wq = 4, wc = 6.5 : wsb ~ 1.2500 * 2 * pi (Omega = 0.3)\n",
    "        - Blue sideband transitions\n",
    "            - wq = 6.5, wc = 4 : wsb ~ 5.342 * 2 * pi\n",
    "            - wq = 4, wc = 6.5 : wsb ~ ??? * 2 * pi\n",
    "    - Two tones\n",
    "        - Red sideband transitions\n",
    "            - wq = 6.5, wc = 4 : wsb ~ ??? * 2 * pi\n",
    "            - wq = 4, wc = 6.5 : wsb ~ ??? * 2 * pi\n",
    "        - Blue sideband transitions\n",
    "            - wq = 6.5, wc = 4 : wsb ~ ??? * 2 * pi\n",
    "            - wq = 4, wc = 6.5 : wsb ~ ??? * 2 * pi\n",
    "- N = 3\n",
    "    - Single tone\n",
    "        - Red sideband transitions\n",
    "            - wq = 6.5, wc = 4 : wsb ~ ??? * 2 * pi\n",
    "            - wq = 4, wc = 6.5 : wsb ~ ??? * 2 * pi\n",
    "        - Blue sideband transitions\n",
    "            - wq = 6.5, wc = 4 : wsb ~ ??? * 2 * pi\n",
    "            - wq = 4, wc = 6.5 : wsb ~ ??? * 2 * pi\n",
    "    - Two tones\n",
    "        - Red sideband transitions\n",
    "            - wq = 6.5, wc = 4 : wsb ~ ??? * 2 * pi\n",
    "            - wq = 4, wc = 6.5 : wsb ~ ??? * 2 * pi\n",
    "        - Blue sideband transitions\n",
    "            - wq = 6.5, wc = 4 : wsb ~ ??? * 2 * pi\n",
    "            - wq = 4, wc = 6.5 : wsb ~ ??? * 2 * pi"
   ]
  },
  {
   "cell_type": "code",
   "execution_count": 1,
   "metadata": {},
   "outputs": [],
   "source": [
    "%matplotlib inline\n",
    "import numpy as np\n",
    "import matplotlib.pyplot as plt\n",
    "import plots\n",
    "import os\n",
    "from supports import *\n",
    "from scan import sample\n",
    "from qutip import *\n",
    "from scipy.special import erf\n",
    "from scipy.signal import argrelextrema\n",
    "from ipywidgets import widgets\n",
    "from IPython.display import display\n",
    "\n",
    "home = \"/home/student/thesis/\"\n",
    "options = Options()\n",
    "options.store_states=True"
   ]
  },
  {
   "cell_type": "code",
   "execution_count": 2,
   "metadata": {},
   "outputs": [],
   "source": [
    "Nq = 2   # number of levels in qubit\n",
    "Nc = 10  # number of levels in resonator 1\n",
    "\n",
    "wq = 6.5 *2*pi     # qubit frequency\n",
    "wc = 4 *2*pi       # resonator frequency\n",
    "delta = wq - wc    # detuning\n",
    "Ec = 0.16 *2*pi    # anharmonicity (charging energy)\n",
    "g = 0.2 *2*pi      # coupling between qubit and resonator\n",
    "chi = 30e-6 *2*pi  # photon number-dependent frequency shift of qubit\n",
    "\n",
    "Omega = 0.3 *2 *2*pi  # amplitude of sideband transitions\n",
    "wd = 5.342*2*pi      # pump drive frequency\n",
    "sb = 'blue'          # kind of sideband transitions (required for plotting & saving)\n",
    "\n",
    "wq_mod = wq + Omega**2/(2*(wq-wd)) + Omega**2/(2*(wq+wd))"
   ]
  },
  {
   "cell_type": "code",
   "execution_count": 3,
   "metadata": {},
   "outputs": [
    {
     "name": "stdout",
     "output_type": "stream",
     "text": [
      "timestep = 10.0 ps\n"
     ]
    }
   ],
   "source": [
    "t0 = 0         # start of simulation\n",
    "t1 = t0 + 0   # start of drive\n",
    "t2 = t1 + 50  # end of drive\n",
    "t3 = t2 + 0   # end of simulation\n",
    "tg = 10        # length of gaussian rise and fall\n",
    "\n",
    "smooth = True  # whether or not to rise and fall with gaussian\n",
    "Q = 3          # number of std's in gaussian rise and fall\n",
    "\n",
    "Np = 100*int(t3)     # number of discrete time steps for which to store the output\n",
    "print(\"timestep =\", 1e3*np.round(t3/Np, 5), \"ps\")"
   ]
  },
  {
   "cell_type": "code",
   "execution_count": 4,
   "metadata": {},
   "outputs": [],
   "source": [
    "# Operators\n",
    "b, a, nq, nc = ops(Nq, Nc)\n",
    "\n",
    "# Jaynes-Cummings Hamiltonian\n",
    "Hjc = wq*nq + wc*nc - Ec/2*b.dag()*b.dag()*b*b\n",
    "Hc = g*(a*b + a*b.dag() + b*a.dag() + a.dag()*b.dag())\n",
    "\n",
    "# Sideband transitions\n",
    "Hd = Omega*(b + b.dag())\n",
    "\n",
    "# Hamiltonian arguments\n",
    "H_args = {'t0' : t0, 't1' : t1, 't2' : t2,\n",
    "          't3' : t3, 'tg' : tg, 'Q'  : Q,\n",
    "          'smooth' : smooth, 'wd' : wd}\n",
    "\n",
    "# Expectation operators\n",
    "e_ops = [nq, nc]"
   ]
  },
  {
   "cell_type": "code",
   "execution_count": 5,
   "metadata": {},
   "outputs": [],
   "source": [
    "H = [Hjc, [Hc, drive_nonosc], [Hd, drive]]  # complete Hamiltonian\n",
    "psi0 = tensor(psi_pi(Nq), basis(Nc, 1))  # initial state\n",
    "\n",
    "# Select these options for bdf method\n",
    "options.method = 'bdf'\n",
    "options.rtol = 1e-10\n",
    "options.atol = 1e-10\n",
    "\n",
    "# Select these options for adams method\n",
    "# options.nsteps = 1000\n",
    "# options.rtol = 1e-12\n",
    "# options.atol = 1e-12\n",
    "# options.max_step = 0\n",
    "\n",
    "Np_per_batch = Np/50  # number of time points per batch"
   ]
  },
  {
   "cell_type": "code",
   "execution_count": 6,
   "metadata": {},
   "outputs": [
    {
     "name": "stdout",
     "output_type": "stream",
     "text": [
      "1 / 50 : 2 %\n",
      "2 / 50 : 4 %\n",
      "3 / 50 : 6 %\n",
      "4 / 50 : 8 %\n",
      "5 / 50 : 10 %\n",
      "6 / 50 : 12 %\n",
      "7 / 50 : 14 %\n",
      "8 / 50 : 16 %\n",
      "9 / 50 : 18 %\n",
      "10 / 50 : 20 %\n",
      "11 / 50 : 22 %\n",
      "12 / 50 : 24 %\n",
      "13 / 50 : 26 %\n",
      "14 / 50 : 28 %\n",
      "15 / 50 : 30 %\n",
      "16 / 50 : 32 %\n",
      "17 / 50 : 34 %\n",
      "18 / 50 : 36 %\n",
      "19 / 50 : 38 %\n",
      "20 / 50 : 40 %\n",
      "21 / 50 : 42 %\n",
      "22 / 50 : 44 %\n",
      "23 / 50 : 46 %\n",
      "24 / 50 : 48 %\n",
      "25 / 50 : 50 %\n",
      "26 / 50 : 52 %\n",
      "27 / 50 : 54 %\n",
      "28 / 50 : 56 %\n",
      "29 / 50 : 58 %\n",
      "30 / 50 : 60 %\n",
      "31 / 50 : 62 %\n",
      "32 / 50 : 64 %\n",
      "33 / 50 : 66 %\n",
      "34 / 50 : 68 %\n",
      "35 / 50 : 70 %\n",
      "36 / 50 : 72 %\n",
      "37 / 50 : 74 %\n",
      "38 / 50 : 76 %\n",
      "39 / 50 : 78 %\n",
      "40 / 50 : 80 %\n",
      "41 / 50 : 82 %\n",
      "42 / 50 : 84 %\n",
      "43 / 50 : 86 %\n",
      "44 / 50 : 88 %\n",
      "45 / 50 : 90 %\n",
      "46 / 50 : 92 %\n",
      "47 / 50 : 94 %\n",
      "48 / 50 : 96 %\n",
      "49 / 50 : 98 %\n",
      "50 / 50 : 100 %\n",
      "Evolution completed in 20.924245 s\n"
     ]
    }
   ],
   "source": [
    "\"\"\" CALCULATE! \"\"\"\n",
    "\n",
    "progfolder = calculate(H, psi0, e_ops, H_args, options, Nc, Np, Np_per_batch, verbose=True)"
   ]
  },
  {
   "cell_type": "code",
   "execution_count": 30,
   "metadata": {},
   "outputs": [
    {
     "ename": "FileNotFoundError",
     "evalue": "[Errno 2] No such file or directory: '/home/student/thesis/prog_190920_161621/ID.pkl'",
     "output_type": "error",
     "traceback": [
      "\u001b[0;31m---------------------------------------------------------------------------\u001b[0m",
      "\u001b[0;31mFileNotFoundError\u001b[0m                         Traceback (most recent call last)",
      "\u001b[0;32m<ipython-input-30-e4a8fd68afb1>\u001b[0m in \u001b[0;36m<module>\u001b[0;34m\u001b[0m\n\u001b[1;32m      6\u001b[0m \u001b[0mstart_comb\u001b[0m \u001b[0;34m=\u001b[0m \u001b[0mdatetime\u001b[0m\u001b[0;34m.\u001b[0m\u001b[0mnow\u001b[0m\u001b[0;34m(\u001b[0m\u001b[0;34m)\u001b[0m\u001b[0;34m\u001b[0m\u001b[0;34m\u001b[0m\u001b[0m\n\u001b[1;32m      7\u001b[0m \u001b[0mnew_folder_name\u001b[0m \u001b[0;34m=\u001b[0m \u001b[0mcopy\u001b[0m\u001b[0;34m(\u001b[0m\u001b[0msrcfolder\u001b[0m\u001b[0;34m)\u001b[0m\u001b[0;34m\u001b[0m\u001b[0;34m\u001b[0m\u001b[0m\n\u001b[0;32m----> 8\u001b[0;31m \u001b[0mID\u001b[0m \u001b[0;34m=\u001b[0m \u001b[0mgetID\u001b[0m\u001b[0;34m(\u001b[0m\u001b[0msrcfolder\u001b[0m\u001b[0;34m)\u001b[0m\u001b[0;34m\u001b[0m\u001b[0;34m\u001b[0m\u001b[0m\n\u001b[0m\u001b[1;32m      9\u001b[0m \u001b[0mcombine_batches\u001b[0m\u001b[0;34m(\u001b[0m\u001b[0msrcfolder\u001b[0m\u001b[0;34m,\u001b[0m \u001b[0mquants\u001b[0m\u001b[0;34m=\u001b[0m\u001b[0mquants\u001b[0m\u001b[0;34m,\u001b[0m \u001b[0mreturn_data\u001b[0m\u001b[0;34m=\u001b[0m\u001b[0;32mFalse\u001b[0m\u001b[0;34m)\u001b[0m\u001b[0;34m\u001b[0m\u001b[0;34m\u001b[0m\u001b[0m\n\u001b[1;32m     10\u001b[0m \u001b[0mend_comb\u001b[0m \u001b[0;34m=\u001b[0m \u001b[0mdatetime\u001b[0m\u001b[0;34m.\u001b[0m\u001b[0mnow\u001b[0m\u001b[0;34m(\u001b[0m\u001b[0;34m)\u001b[0m\u001b[0;34m\u001b[0m\u001b[0;34m\u001b[0m\u001b[0m\n",
      "\u001b[0;32m~/thesis/supports.py\u001b[0m in \u001b[0;36mgetID\u001b[0;34m(folder)\u001b[0m\n\u001b[1;32m    287\u001b[0m \u001b[0;32mdef\u001b[0m \u001b[0mgetID\u001b[0m\u001b[0;34m(\u001b[0m\u001b[0mfolder\u001b[0m\u001b[0;34m)\u001b[0m\u001b[0;34m:\u001b[0m\u001b[0;34m\u001b[0m\u001b[0;34m\u001b[0m\u001b[0m\n\u001b[1;32m    288\u001b[0m     \u001b[0mfile\u001b[0m \u001b[0;34m=\u001b[0m \u001b[0mfolder\u001b[0m \u001b[0;34m+\u001b[0m \u001b[0;34m\"/ID.pkl\"\u001b[0m\u001b[0;34m\u001b[0m\u001b[0;34m\u001b[0m\u001b[0m\n\u001b[0;32m--> 289\u001b[0;31m     \u001b[0minfile\u001b[0m \u001b[0;34m=\u001b[0m \u001b[0mopen\u001b[0m\u001b[0;34m(\u001b[0m\u001b[0mfile\u001b[0m\u001b[0;34m,\u001b[0m \u001b[0;34m'rb'\u001b[0m\u001b[0;34m)\u001b[0m\u001b[0;34m\u001b[0m\u001b[0;34m\u001b[0m\u001b[0m\n\u001b[0m\u001b[1;32m    290\u001b[0m     \u001b[0mID\u001b[0m \u001b[0;34m=\u001b[0m \u001b[0mpickle\u001b[0m\u001b[0;34m.\u001b[0m\u001b[0mload\u001b[0m\u001b[0;34m(\u001b[0m\u001b[0minfile\u001b[0m\u001b[0;34m)\u001b[0m\u001b[0;34m\u001b[0m\u001b[0;34m\u001b[0m\u001b[0m\n\u001b[1;32m    291\u001b[0m     \u001b[0minfile\u001b[0m\u001b[0;34m.\u001b[0m\u001b[0mclose\u001b[0m\u001b[0;34m(\u001b[0m\u001b[0;34m)\u001b[0m\u001b[0;34m\u001b[0m\u001b[0;34m\u001b[0m\u001b[0m\n",
      "\u001b[0;31mFileNotFoundError\u001b[0m: [Errno 2] No such file or directory: '/home/student/thesis/prog_190920_161621/ID.pkl'"
     ]
    }
   ],
   "source": [
    "\"\"\" SAVE EVOLUTION \"\"\"\n",
    "\n",
    "srcfolder = progfolder #\"/home/student/thesis/blue\"\n",
    "quants = ['times', 'expect', 'e0', 'g1', 'e1', 'g0']\n",
    "\n",
    "start_comb = datetime.now()\n",
    "new_folder_name = copy(srcfolder)\n",
    "ID = getID(srcfolder)\n",
    "combine_batches(srcfolder, quants=quants, return_data=False)\n",
    "end_comb = datetime.now()\n",
    "print(\"Batches combined    in {} s\".format((end_comb - start_comb).total_seconds()))\n",
    "\n",
    "times, states, expect, e0, g1, e1, g0 = load_data(quants, srcfolder)"
   ]
  },
  {
   "cell_type": "code",
   "execution_count": 24,
   "metadata": {},
   "outputs": [
    {
     "name": "stdout",
     "output_type": "stream",
     "text": [
      "WARNING: not enough sideband oscillations to determinde frequency,\n",
      "         increase the simulation time\n"
     ]
    }
   ],
   "source": [
    "\"\"\" SIDEBAND COUPLING \"\"\"\n",
    "\n",
    "if 'eo' in quants:\n",
    "    e0_macro, e0_macro_times = remove_micromotion(e0, times, method='artificial')\n",
    "if 'go' in quants:\n",
    "    g0_macro, g0_macro_times = remove_micromotion(g0, times, method='artificial')\n",
    "if 'e1' in quants:\n",
    "    e1_macro, e1_macro_times = remove_micromotion(e1, times, method='artificial')\n",
    "if 'g1' in quants:\n",
    "    g1_macro, g1_macro_times = remove_micromotion(g1, times, method='artificial')\n",
    "if ('e1' in quants and 'g0' in quants):\n",
    "    e1g0_macro, e1g0_macro_times = remove_micromotion(e1-g0, times, method='artificial')\n",
    "if ('e0' in quants and 'g1' in quants):\n",
    "    e0g1_macro, e0g1_macro_times = remove_micromotion(e0-g1, times, method='artificial')\n",
    "\n",
    "if sb == 'red':\n",
    "    wsb = sideband_freq(e0g1_macro, e0g1_macro_times)\n",
    "elif sb == 'blue':\n",
    "    wsb = sideband_freq(e1g0_macro, e1g0_macro_times)"
   ]
  },
  {
   "cell_type": "code",
   "execution_count": 29,
   "metadata": {},
   "outputs": [
    {
     "name": "stdout",
     "output_type": "stream",
     "text": [
      "/home/student/thesis/prog_190920_161621\n"
     ]
    },
    {
     "data": {
      "application/vnd.jupyter.widget-view+json": {
       "model_id": "3d5a710aa53444e4b30a3c697fecea3d",
       "version_major": 2,
       "version_minor": 0
      },
      "text/plain": [
       "VBox(children=(Button(description='Save data', style=ButtonStyle()), Output()))"
      ]
     },
     "metadata": {},
     "output_type": "display_data"
    }
   ],
   "source": [
    "data_button = widgets.Button(description='Save data')\n",
    "data_out = widgets.Output()\n",
    "print(srcfolder)\n",
    "def data_clicked(b):\n",
    "    data_button.description = 'Data saved!'\n",
    "    with data_out:\n",
    "        global new_folder_name\n",
    "        new_folder_name = home + \"data_{}_{}_Nq{}_Om{}_wd{}_wq{}_wc{}_g{}_wsb{}.png\".format(ID, sb, Nq,\n",
    "                             round(Omega/2/pi, 2), round(wd/2/pi, 3), round(wq/2/pi, 2),\n",
    "                             round(wc/2/pi, 2), round(g/2/pi, 2), round(wsb/2/pi, 4))\n",
    "        os.rename(srcfolder, new_folder_name)\n",
    "data_button.on_click(data_clicked)\n",
    "widgets.VBox([data_button, data_out])"
   ]
  },
  {
   "cell_type": "code",
   "execution_count": 10,
   "metadata": {},
   "outputs": [
    {
     "data": {
      "image/png": "[encoded data removed]",
      "text/plain": [
       "<Figure size 864x216 with 2 Axes>"
      ]
     },
     "metadata": {
      "needs_background": "light"
     },
     "output_type": "display_data"
    }
   ],
   "source": [
    "\"\"\" EXPECTATION VALUES \"\"\"\n",
    "\n",
    "fig, ax1 = plt.subplots(figsize=[12,3])\n",
    "ax1.plot(times, expect[0], color='b', label='Qubit')\n",
    "ax1.plot(times, expect[1], color='r', label='Cavity')\n",
    "ax1.set_xlabel(\"$t$ [ns]\")\n",
    "ax1.set_ylabel(\"$n$\")\n",
    "ax1.tick_params(axis='y')\n",
    "ax1.legend(loc='center left')\n",
    "\n",
    "# ax1.set_xlim([20, 21])\n",
    "\n",
    "drive_coupling = wd/(2*pi)*drive_nonosc(times, H_args)\n",
    "ax2 = ax1.twinx()\n",
    "ax2.plot(times, drive_coupling, color='g', label='Drive, coupling')\n",
    "ax2.set_ylabel('$\\Omega$ [GHz]')\n",
    "ax2.tick_params(axis='y')\n",
    "ax2.legend(loc='center right')\n",
    "\n",
    "plt.show()"
   ]
  },
  {
   "cell_type": "code",
   "execution_count": 17,
   "metadata": {},
   "outputs": [
    {
     "data": {
      "image/png": "[encoded data removed]",
      "text/plain": [
       "<Figure size 864x216 with 2 Axes>"
      ]
     },
     "metadata": {
      "needs_background": "light"
     },
     "output_type": "display_data"
    },
    {
     "name": "stdout",
     "output_type": "stream",
     "text": [
      "/home/student/thesis/prog_190920_161621\n"
     ]
    },
    {
     "data": {
      "application/vnd.jupyter.widget-view+json": {
       "model_id": "369516dfdb764028ad7aab1aa6326659",
       "version_major": 2,
       "version_minor": 0
      },
      "text/plain": [
       "VBox(children=(Button(description='Save figure', style=ButtonStyle()), Output()))"
      ]
     },
     "metadata": {},
     "output_type": "display_data"
    }
   ],
   "source": [
    "\"\"\"COMBINED PROBABILITIES\"\"\"\n",
    "\n",
    "fig, ax1 = plt.subplots(figsize=[12,3])\n",
    "ax1.plot(times, e1-g0, color='b', label='$P(e1) - P(g0)$')\n",
    "# ax1.plot(times, e0-g1, color='r', label='$P(e0) - P(g1)$')\n",
    "ax1.set_xlabel(\"$t$ [ns]\")\n",
    "ax1.set_ylabel(\"$P$\")\n",
    "ax1.tick_params(axis='y')\n",
    "ax1.legend(loc='center left')\n",
    "\n",
    "# ax1.set_xlim([27, 27.02])\n",
    "\n",
    "drive_coupling = wd/(2*pi)*drive_nonosc(times, H_args)\n",
    "ax2 = ax1.twinx()\n",
    "ax2.plot(times, drive_coupling, color='g', label='Drive, coupling')\n",
    "ax2.set_ylabel('$\\Omega$, $g$ [GHz]')\n",
    "ax2.tick_params(axis='y')\n",
    "ax2.legend(loc='center right')\n",
    "\n",
    "fig = plt.gcf()\n",
    "if sb == 'red':\n",
    "    plt.title(\"Red sideband transitions at $\\\\omega_d$ = {} GHz\".format(round(wd/2/pi, 3)))\n",
    "elif sb == 'blue':\n",
    "    plt.title(\"Blue sideband transitions at $\\\\omega_d$ = {} GHz\".format(round(wd/2/pi, 3)))\n",
    "plt.show()\n",
    "\n",
    "fig_button = widgets.Button(description='Save figure')\n",
    "fig_out = widgets.Output()\n",
    "print(srcfolder)\n",
    "def fig_clicked(b):\n",
    "    fig_button.description = 'Figure saved!'\n",
    "    with fig_out:\n",
    "        print(srcfolder)\n",
    "        fig.savefig(srcfolder + \"/\" +\n",
    "                    \"fig_{}_{}_Nq{}_Om{}_wd{}_wq{}_wc{}_g{}_wsb{}.png\".format(ID, sb, Nq,\n",
    "                        round(Omega/2/pi, 2), round(wd/2/pi, 3), round(wq/2/pi, 2),\n",
    "                        round(wc/2/pi, 2), round(g/2/pi, 2), round(wsb/2/pi, 4)),\n",
    "                     bbox_inches='tight')\n",
    "fig_button.on_click(fig_clicked)\n",
    "widgets.VBox([fig_button, fig_out])"
   ]
  },
  {
   "cell_type": "code",
   "execution_count": 12,
   "metadata": {},
   "outputs": [
    {
     "data": {
      "text/plain": [
       "'SCANNING'"
      ]
     },
     "execution_count": 12,
     "metadata": {},
     "output_type": "execute_result"
    }
   ],
   "source": [
    "\"\"\"SCANNING\"\"\"\n",
    "# WDs = np.linspace(5.34*2*pi, 5.35*2*pi, 11)  # drive freq range to scan\n",
    "# for WD in WDs:\n",
    "#     sample(Nq, wq, wc, WD, smooth, Q, t0, t1, t2, t3, tg, psi0, Np_per_batch, options)"
   ]
  },
  {
   "cell_type": "code",
   "execution_count": null,
   "metadata": {},
   "outputs": [],
   "source": []
  }
 ],
 "metadata": {
  "kernelspec": {
   "display_name": "Python 3",
   "language": "python",
   "name": "python3"
  },
  "language_info": {
   "codemirror_mode": {
    "name": "ipython",
    "version": 3
   },
   "file_extension": ".py",
   "mimetype": "text/x-python",
   "name": "python",
   "nbconvert_exporter": "python",
   "pygments_lexer": "ipython3",
   "version": "3.6.7"
  }
 },
 "nbformat": 4,
 "nbformat_minor": 2
}
