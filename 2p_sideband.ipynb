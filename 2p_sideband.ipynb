{
 "cells": [
  {
   "cell_type": "markdown",
   "metadata": {},
   "source": [
    "MOTIVATION\n",
    "\n",
    "Detailed simulation of qubit-cavity coupling with two-photon sideband transitions to verify the simplified simulation of the cQED atomic beam experiment.\n",
    "\n",
    "NOTES\n",
    "\n",
    "- 1 ns unit for time\n",
    "- Conventions:\n",
    "  - [qubit, resonator ]\n",
    "  - Qubit: blue\n",
    "  - Resonator: red\n",
    "\n",
    "VALUES\n",
    "- N = 2\n",
    "    - Single tone\n",
    "        - Red sideband transitions\n",
    "            - wq = 6.5, wc = 4 : wsb ~ 1.2766 * 2 * pi (Omega = 0.3)\n",
    "            - wq = 4, wc = 6.5 : wsb ~ 1.2500 * 2 * pi (Omega = 0.3)\n",
    "        - Blue sideband transitions\n",
    "            - wq = 6.5, wc = 4 : wsb ~ ??? * 2 * pi\n",
    "            - wq = 4, wc = 6.5 : wsb ~ ??? * 2 * pi\n",
    "    - Two tones\n",
    "        - Red sideband transitions\n",
    "            - wq = 6.5, wc = 4 : wsb ~ ??? * 2 * pi\n",
    "            - wq = 4, wc = 6.5 : wsb ~ ??? * 2 * pi\n",
    "        - Blue sideband transitions\n",
    "            - wq = 6.5, wc = 4 : wsb ~ ??? * 2 * pi\n",
    "            - wq = 4, wc = 6.5 : wsb ~ ??? * 2 * pi\n",
    "- N = 3\n",
    "    - Single tone\n",
    "        - Red sideband transitions\n",
    "            - wq = 6.5, wc = 4 : wsb ~ ??? * 2 * pi\n",
    "            - wq = 4, wc = 6.5 : wsb ~ ??? * 2 * pi\n",
    "        - Blue sideband transitions\n",
    "            - wq = 6.5, wc = 4 : wsb ~ ??? * 2 * pi\n",
    "            - wq = 4, wc = 6.5 : wsb ~ ??? * 2 * pi\n",
    "    - Two tones\n",
    "        - Red sideband transitions\n",
    "            - wq = 6.5, wc = 4 : wsb ~ ??? * 2 * pi\n",
    "            - wq = 4, wc = 6.5 : wsb ~ ??? * 2 * pi\n",
    "        - Blue sideband transitions\n",
    "            - wq = 6.5, wc = 4 : wsb ~ ??? * 2 * pi\n",
    "            - wq = 4, wc = 6.5 : wsb ~ ??? * 2 * pi"
   ]
  },
  {
   "cell_type": "code",
   "execution_count": 1,
   "metadata": {},
   "outputs": [],
   "source": [
    "%matplotlib inline\n",
    "import numpy as np\n",
    "import matplotlib.pyplot as plt\n",
    "import plots\n",
    "import os\n",
    "import shutil\n",
    "import time\n",
    "from datetime import datetime\n",
    "from glob import glob\n",
    "from copy import copy\n",
    "from supports import *\n",
    "from scan import sample\n",
    "from qutip import *\n",
    "from scipy.special import erf\n",
    "from scipy.signal import argrelextrema\n",
    "\n",
    "options = Options()\n",
    "options.store_states=True"
   ]
  },
  {
   "cell_type": "code",
   "execution_count": 2,
   "metadata": {},
   "outputs": [],
   "source": [
    "Nq = 2   # number of levels in qubit\n",
    "Nc = 10  # number of levels in resonator 1\n",
    "\n",
    "wq = 6.5 *2*pi     # qubit frequency\n",
    "wc = 4 *2*pi       # resonator frequency\n",
    "delta = wq - wc    # detuning\n",
    "Ec = 0.16 *2*pi    # anharmonicity (charging energy)\n",
    "g = 0.2 *2*pi      # coupling between qubit and resonator\n",
    "chi = 30e-6 *2*pi  # photon number-dependent frequency shift of qubit\n",
    "\n",
    "Omega = 0.3 *2 *2*pi  # amplitude of sideband transitions\n",
    "wd = 1.2766*2*pi      # pump drive frequency\n",
    "\n",
    "wq_mod = wq + Omega**2/(2*(wq-wd)) + Omega**2/(2*(wq+wd))"
   ]
  },
  {
   "cell_type": "code",
   "execution_count": 12,
   "metadata": {},
   "outputs": [
    {
     "name": "stdout",
     "output_type": "stream",
     "text": [
      "timestep = 10.0 ps\n"
     ]
    }
   ],
   "source": [
    "t0 = 0         # start of simulation\n",
    "t1 = t0 + 0   # start of drive\n",
    "t2 = t1 + 150  # end of drive\n",
    "t3 = t2 + 0   # end of simulation\n",
    "tg = 10        # length of gaussian rise and fall\n",
    "\n",
    "smooth = True  # whether or not to rise and fall with gaussian\n",
    "Q = 3          # number of std's in gaussian rise and fall\n",
    "\n",
    "Np = 100*int(t3)     # number of discrete time steps for which to store the output\n",
    "print(\"timestep =\", 1e3*np.round(t3/Np, 5), \"ps\")"
   ]
  },
  {
   "cell_type": "code",
   "execution_count": 4,
   "metadata": {},
   "outputs": [],
   "source": [
    "# Qubit operators\n",
    "b = tensor(destroy(Nq), qeye(Nc))\n",
    "nq = b.dag()*b\n",
    "\n",
    "# Cavity operators\n",
    "a = tensor(qeye(Nq), destroy(Nc))\n",
    "nc = a.dag()*a\n",
    "\n",
    "# Jaynes-Cummings Hamiltonian\n",
    "Hjc = wq*nq + wc*nc - Ec/2*b.dag()*b.dag()*b*b - chi*nq*nc\n",
    "Hc = g*(a*b + a*b.dag() + b*a.dag() + a.dag()*b.dag())\n",
    "\n",
    "# Sideband transitions\n",
    "Hd = Omega*(b + b.dag())\n",
    "\n",
    "# Hamiltonian arguments\n",
    "H_args = {'t0' : t0, 't1' : t1, 't2' : t2,\n",
    "          't3' : t3, 'tg' : tg, 'Q'  : Q,\n",
    "          'smooth' : smooth, 'wd' : wd}\n",
    "\n",
    "# Expectation operators\n",
    "e_ops = [nq, nc]"
   ]
  },
  {
   "cell_type": "code",
   "execution_count": 5,
   "metadata": {},
   "outputs": [],
   "source": [
    "H = [Hjc, [Hc, drive_nonosc], [Hd, drive]]  # complete Hamiltonian\n",
    "psi0 = tensor(psi_pi(Nq), basis(Nc, 0))  # initial state\n",
    "\n",
    "# Select these options for bdf method\n",
    "options.method = 'bdf'\n",
    "options.rtol = 1e-10\n",
    "options.atol = 1e-10\n",
    "\n",
    "# Select these options for adams method\n",
    "# options.nsteps = 1000\n",
    "# options.rtol = 1e-12\n",
    "# options.atol = 1e-12\n",
    "# options.max_step = 0\n",
    "\n",
    "Np_per_batch = Np/30  # number of time points per batch"
   ]
  },
  {
   "cell_type": "code",
   "execution_count": 6,
   "metadata": {},
   "outputs": [
    {
     "name": "stdout",
     "output_type": "stream",
     "text": [
      "1 / 30 : 3 %\n",
      "2 / 30 : 7 %\n",
      "3 / 30 : 10 %\n",
      "4 / 30 : 13 %\n",
      "5 / 30 : 17 %\n",
      "6 / 30 : 20 %\n",
      "7 / 30 : 23 %\n",
      "8 / 30 : 27 %\n",
      "9 / 30 : 30 %\n",
      "10 / 30 : 33 %\n",
      "11 / 30 : 37 %\n",
      "12 / 30 : 40 %\n",
      "13 / 30 : 43 %\n",
      "14 / 30 : 47 %\n",
      "15 / 30 : 50 %\n",
      "16 / 30 : 53 %\n",
      "17 / 30 : 57 %\n",
      "18 / 30 : 60 %\n",
      "19 / 30 : 63 %\n",
      "20 / 30 : 67 %\n",
      "21 / 30 : 70 %\n",
      "22 / 30 : 73 %\n",
      "23 / 30 : 77 %\n",
      "24 / 30 : 80 %\n",
      "25 / 30 : 83 %\n",
      "26 / 30 : 87 %\n",
      "27 / 30 : 90 %\n",
      "28 / 30 : 93 %\n",
      "29 / 30 : 97 %\n",
      "30 / 30 : 100 %\n",
      "Evolution completed in 116.140078 s\n"
     ]
    }
   ],
   "source": [
    "batches = create_batches(0, t3, Np, Np_per_batch)\n",
    "\n",
    "# Remove existing progress folder\n",
    "for folder in glob(\"/home/student/thesis/prog_*\"):\n",
    "    shutil.rmtree(folder)\n",
    "\n",
    "# Make new progress folder\n",
    "now = datetime.now()\n",
    "nowstr = now.strftime(\"%y_%m_%d_%H_%M_%S\")\n",
    "folder = \"/home/student/thesis/prog_\" + nowstr\n",
    "os.makedirs(folder)\n",
    "\n",
    "# Calculate!\n",
    "for num, tlist in enumerate(batches):\n",
    "    print(num+1, \"/\", len(batches), \":\", int(np.round(100*(num+1)/len(batches))), \"%\")\n",
    "    result = mesolve(H, psi0, tlist, c_ops=[], e_ops=e_ops, args=H_args, options=options)\n",
    "    e0, g1, e1, g0 = combined_probs(result.states, Nc)\n",
    "    saveprog(result, e0, g1, e1, g0, num, folder)\n",
    "    psi0 = copy(result.states[-1])\n",
    "    del result, e0, g1, e1, g0\n",
    "end_calc = datetime.now()\n",
    "print(\"Evolution completed in {} s\".format((end_calc - now).total_seconds()))"
   ]
  },
  {
   "cell_type": "code",
   "execution_count": 7,
   "metadata": {},
   "outputs": [
    {
     "name": "stdout",
     "output_type": "stream",
     "text": [
      "Batches combined    in 2.41986 s\n"
     ]
    }
   ],
   "source": [
    "srcfolder = folder # \"/home/student/thesis/\"\n",
    "selection = All # (0, t3)\n",
    "reduction = 5\n",
    "quants = ['times', 'expect', 'e0', 'g1', 'e1', 'g0']\n",
    "\n",
    "start_comb = datetime.now()\n",
    "combine_batches(srcfolder, selection, reduction,\n",
    "                quants=quants, return_data=False)\n",
    "end_comb = datetime.now()\n",
    "print(\"Batches combined    in {} s\".format((end_comb - start_comb).total_seconds()))\n",
    "\n",
    "times, states, expect, e0, g1, e1, g0 = load_data(quants, srcfolder)"
   ]
  },
  {
   "cell_type": "code",
   "execution_count": 8,
   "metadata": {},
   "outputs": [
    {
     "data": {
      "image/png": "[encoded data removed]",
      "text/plain": [
       "<Figure size 864x216 with 2 Axes>"
      ]
     },
     "metadata": {
      "needs_background": "light"
     },
     "output_type": "display_data"
    }
   ],
   "source": [
    "\"\"\"EXPECTATION VALUES\"\"\"\n",
    "\n",
    "fig, ax1 = plt.subplots(figsize=[12,3])\n",
    "ax1.plot(times, expect[0], color='b', label='Qubit')\n",
    "ax1.plot(times, expect[1], color='r', label='Cavity')\n",
    "ax1.set_xlabel(\"$t$ [ns]\")\n",
    "ax1.set_ylabel(\"$n$\")\n",
    "ax1.tick_params(axis='y')\n",
    "ax1.legend(loc='center left')\n",
    "\n",
    "# ax1.set_xlim([0, 5])\n",
    "\n",
    "drive = wd/(2*pi)*drive_nonosc(times, H_args)\n",
    "ax2 = ax1.twinx()\n",
    "ax2.plot(times, drive, color='g', label='Drive, coupling')\n",
    "ax2.set_ylabel('$\\Omega$ [GHz]')\n",
    "ax2.tick_params(axis='y')\n",
    "ax2.legend(loc='center right')\n",
    "\n",
    "plt.show()"
   ]
  },
  {
   "cell_type": "code",
   "execution_count": 9,
   "metadata": {},
   "outputs": [
    {
     "data": {
      "image/png": "[encoded data removed]",
      "text/plain": [
       "<Figure size 864x216 with 2 Axes>"
      ]
     },
     "metadata": {
      "needs_background": "light"
     },
     "output_type": "display_data"
    }
   ],
   "source": [
    "\"\"\"COMBINED PROBABILITIES\"\"\"\n",
    "\n",
    "fig, ax1 = plt.subplots(figsize=[12,3])\n",
    "ax1.plot(times, e0-g1, color='b', label='$P(e0) - P(g1)$')\n",
    "# ax1.plot(times, e1-g0, color='r', label='$P(e1) - P(g0)$')\n",
    "ax1.set_xlabel(\"$t$ [ns]\")\n",
    "ax1.set_ylabel(\"$P$\")\n",
    "ax1.tick_params(axis='y')\n",
    "ax1.legend(loc='center left')\n",
    "\n",
    "# ax1.set_xlim([0, 5])\n",
    "\n",
    "drive = wd/(2*pi)*drive_nonosc(times, H_args)\n",
    "ax2 = ax1.twinx()\n",
    "ax2.plot(times, drive, color='g', label='Drive, coupling')\n",
    "ax2.set_ylabel('$\\Omega$ [GHz]')\n",
    "ax2.tick_params(axis='y')\n",
    "ax2.legend(loc='center right')\n",
    "\n",
    "plt.show()"
   ]
  },
  {
   "cell_type": "code",
   "execution_count": 13,
   "metadata": {},
   "outputs": [
    {
     "ename": "FileNotFoundError",
     "evalue": "[Errno 2] No such file or directory: '/home/student/thesis/prog_19_09_16_19_11_49/e0g1.pkl'",
     "output_type": "error",
     "traceback": [
      "\u001b[0;31m---------------------------------------------------------------------------\u001b[0m",
      "\u001b[0;31mFileNotFoundError\u001b[0m                         Traceback (most recent call last)",
      "\u001b[0;32m<ipython-input-13-876f90789e9a>\u001b[0m in \u001b[0;36m<module>\u001b[0;34m\u001b[0m\n\u001b[1;32m      2\u001b[0m \u001b[0mwds\u001b[0m \u001b[0;34m=\u001b[0m \u001b[0mnp\u001b[0m\u001b[0;34m.\u001b[0m\u001b[0mlinspace\u001b[0m\u001b[0;34m(\u001b[0m\u001b[0;36m1.27\u001b[0m\u001b[0;34m*\u001b[0m\u001b[0;36m2\u001b[0m\u001b[0;34m*\u001b[0m\u001b[0mpi\u001b[0m\u001b[0;34m,\u001b[0m \u001b[0;36m1.28\u001b[0m\u001b[0;34m*\u001b[0m\u001b[0;36m2\u001b[0m\u001b[0;34m*\u001b[0m\u001b[0mpi\u001b[0m\u001b[0;34m,\u001b[0m \u001b[0;36m6\u001b[0m\u001b[0;34m)\u001b[0m\u001b[0;34m\u001b[0m\u001b[0;34m\u001b[0m\u001b[0m\n\u001b[1;32m      3\u001b[0m \u001b[0;32mfor\u001b[0m \u001b[0mwd\u001b[0m \u001b[0;32min\u001b[0m \u001b[0mwds\u001b[0m\u001b[0;34m:\u001b[0m\u001b[0;34m\u001b[0m\u001b[0;34m\u001b[0m\u001b[0m\n\u001b[0;32m----> 4\u001b[0;31m     \u001b[0msample\u001b[0m\u001b[0;34m(\u001b[0m\u001b[0mNq\u001b[0m\u001b[0;34m,\u001b[0m \u001b[0mwq\u001b[0m\u001b[0;34m,\u001b[0m \u001b[0mwc\u001b[0m\u001b[0;34m,\u001b[0m \u001b[0mwd\u001b[0m\u001b[0;34m,\u001b[0m \u001b[0msmooth\u001b[0m\u001b[0;34m,\u001b[0m \u001b[0mQ\u001b[0m\u001b[0;34m,\u001b[0m \u001b[0mt0\u001b[0m\u001b[0;34m,\u001b[0m \u001b[0mt1\u001b[0m\u001b[0;34m,\u001b[0m \u001b[0mt2\u001b[0m\u001b[0;34m,\u001b[0m \u001b[0mt3\u001b[0m\u001b[0;34m,\u001b[0m \u001b[0mtg\u001b[0m\u001b[0;34m,\u001b[0m \u001b[0mpsi0\u001b[0m\u001b[0;34m,\u001b[0m \u001b[0mNp_per_batch\u001b[0m\u001b[0;34m,\u001b[0m \u001b[0moptions\u001b[0m\u001b[0;34m)\u001b[0m\u001b[0;34m\u001b[0m\u001b[0;34m\u001b[0m\u001b[0m\n\u001b[0m",
      "\u001b[0;32m~/thesis/scan.py\u001b[0m in \u001b[0;36msample\u001b[0;34m(Nq, wq, wc, wd, smooth, Q, t0, t1, t2, t3, tg, psi0, Np_per_batch, options)\u001b[0m\n\u001b[1;32m    102\u001b[0m     \u001b[0;32mdel\u001b[0m \u001b[0medata\u001b[0m\u001b[0;34m\u001b[0m\u001b[0;34m\u001b[0m\u001b[0m\n\u001b[1;32m    103\u001b[0m \u001b[0;34m\u001b[0m\u001b[0m\n\u001b[0;32m--> 104\u001b[0;31m     \u001b[0mpfile\u001b[0m \u001b[0;34m=\u001b[0m \u001b[0mopen\u001b[0m\u001b[0;34m(\u001b[0m\u001b[0msrcfolder\u001b[0m \u001b[0;34m+\u001b[0m \u001b[0;34m\"/e0g1.pkl\"\u001b[0m\u001b[0;34m,\u001b[0m \u001b[0;34m'rb'\u001b[0m\u001b[0;34m)\u001b[0m\u001b[0;34m\u001b[0m\u001b[0;34m\u001b[0m\u001b[0m\n\u001b[0m\u001b[1;32m    105\u001b[0m     \u001b[0mpdata\u001b[0m \u001b[0;34m=\u001b[0m \u001b[0mpickle\u001b[0m\u001b[0;34m.\u001b[0m\u001b[0mload\u001b[0m\u001b[0;34m(\u001b[0m\u001b[0mpfile\u001b[0m\u001b[0;34m)\u001b[0m\u001b[0;34m\u001b[0m\u001b[0;34m\u001b[0m\u001b[0m\n\u001b[1;32m    106\u001b[0m     \u001b[0me0g1\u001b[0m \u001b[0;34m=\u001b[0m \u001b[0mpdata\u001b[0m\u001b[0;34m[\u001b[0m\u001b[0;34m'data'\u001b[0m\u001b[0;34m]\u001b[0m\u001b[0;34m\u001b[0m\u001b[0;34m\u001b[0m\u001b[0m\n",
      "\u001b[0;31mFileNotFoundError\u001b[0m: [Errno 2] No such file or directory: '/home/student/thesis/prog_19_09_16_19_11_49/e0g1.pkl'"
     ]
    }
   ],
   "source": [
    "\"\"\"SCANNING\"\"\"\n",
    "wds = np.linspace(1.27*2*pi, 1.28*2*pi, 6)\n",
    "for wd in wds:\n",
    "    sample(Nq, wq, wc, wd, smooth, Q, t0, t1, t2, t3, tg, psi0, Np_per_batch, options)"
   ]
  },
  {
   "cell_type": "code",
   "execution_count": null,
   "metadata": {},
   "outputs": [],
   "source": []
  }
 ],
 "metadata": {
  "kernelspec": {
   "display_name": "Python 3",
   "language": "python",
   "name": "python3"
  },
  "language_info": {
   "codemirror_mode": {
    "name": "ipython",
    "version": 3
   },
   "file_extension": ".py",
   "mimetype": "text/x-python",
   "name": "python",
   "nbconvert_exporter": "python",
   "pygments_lexer": "ipython3",
   "version": "3.6.7"
  }
 },
 "nbformat": 4,
 "nbformat_minor": 2
}
