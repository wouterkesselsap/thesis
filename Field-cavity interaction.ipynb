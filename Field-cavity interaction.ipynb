{
 "cells": [
  {
   "cell_type": "markdown",
   "metadata": {},
   "source": [
    "# Field-cavity interaction"
   ]
  },
  {
   "cell_type": "markdown",
   "metadata": {},
   "source": [
    "To investigate how much the photon is accumulated in the cavity while the cavity is driven by external field."
   ]
  },
  {
   "cell_type": "code",
   "execution_count": 1,
   "metadata": {},
   "outputs": [],
   "source": [
    "# 1 ns unit for time\n",
    "\n",
    "%matplotlib inline\n",
    "import numpy as np\n",
    "import matplotlib.pyplot as plt\n",
    "import plots\n",
    "from qutip import *\n",
    "from scipy.special import erf\n",
    "\n",
    "pi = np.pi\n",
    "exp = np.exp\n",
    "sqrt = np.sqrt\n",
    "hbar = 1.0546e-34*1e-9  # reduced Planck constant\n",
    "All = 'all'\n",
    "options = Options()"
   ]
  },
  {
   "cell_type": "code",
   "execution_count": 57,
   "metadata": {},
   "outputs": [],
   "source": [
    "Nq = 2  # number of levels in qubit\n",
    "N1 = 10  # number of levels in resonator 1\n",
    "\n",
    "wq = 7*2*pi  # qubit frequency\n",
    "wp = wq        # pump frequency\n",
    "w1 = wq        # resonator 1 frequency\n",
    "\n",
    "kq = 150e-6*2*pi  # photon emission frequency of qubit (qubit decay rate)\n",
    "k1 = 10e-6*2*pi   # photon emission freqency of resonator 1 (resonator 1 decay rate)\n",
    "\n",
    "chi = 30e-6*2*pi # dispersive-coupling between qubit and resonator.\n",
    "g1 = 500e-6*2*pi  # drive frequency resonator 1, coupling between qubit and resonator 1.\n",
    "delta = 0.0e-3*2*pi # detuning between qubit and resonator 1.\n",
    "\n",
    "Ec = 0.2*2*pi  # Anharmonicity"
   ]
  },
  {
   "cell_type": "code",
   "execution_count": 58,
   "metadata": {},
   "outputs": [],
   "source": [
    "t0 = 0            # start Gaussian pulse Omega\n",
    "t1 = t0 + 60   # end Gaussian pulse Omega\n",
    "t2 = t1 + 10   # start square pulse at resonator 1\n",
    "t3 = t2 + 2970  # end square pulse at resonator 1\n",
    "t4 = t3 + 0   # start square pulse at resonator 2\n",
    "t5 = t4 + 0  # end square pulse at resonator 2\n",
    "t6 = t5 + 0   # t0\n",
    "tg = 10        # Gaussian rise and fall time of square pulse\n",
    "\n",
    "N_repeat = 1  # number of times to repeat cycle\n",
    "Np = 3000     # number of discrete time steps per cycle for which to store the output\n",
    "Q = 3  # number of std's in Gaussian curves, rises and falls"
   ]
  },
  {
   "cell_type": "code",
   "execution_count": 59,
   "metadata": {},
   "outputs": [],
   "source": [
    "# Convention:\n",
    "# [qubit, resonator 1]\n",
    "\n",
    "# Qubit operators\n",
    "b = tensor(destroy(Nq), qeye(N1))\n",
    "nq = b.dag()*b\n",
    "sx = tensor(sigmax(), qeye(N1)) # x-projection of qubit level\n",
    "sy = tensor(sigmay(), qeye(N1)) # y-projection of qubit level\n",
    "sz = tensor(sigmaz(), qeye(N1)) # z-projection of qubit level\n",
    "\n",
    "# Cavity operators\n",
    "a1 = tensor(qeye(Nq), destroy(N1))\n",
    "n1 = a1.dag()*a1\n",
    "\n",
    "# Jaynes-Cummings Hamiltonian\n",
    "# Hjc = ( (w1-wq)*(w1*a1.dag()*a1) \n",
    "#       - Ec/2*b.dag()*b.dag()*b*b )\n",
    "\n",
    "Hjc = ( (w1-wq)*(w1*a1.dag()*a1) \n",
    "      - Ec/2*b.dag()*b.dag()*b*b + chi*nq*(a1.dag()*a1) + delta*nq)\n",
    "\n",
    "# Coupling Hamiltonians\n",
    "H1 = g1*(a1*b.dag() + b*a1.dag())\n",
    "\n",
    "# Hamiltonian arguments\n",
    "H_args = {\"t0\" : t0, \"t1\" : t1, \"t2\" : t2, \"t3\" : t3, \n",
    "          \"t4\" : t4, \"t5\" : t5, \"t6\" : t6, \"tg\" : tg,\n",
    "          \"g1\" : g1, \"Q\"  : Q}"
   ]
  },
  {
   "cell_type": "code",
   "execution_count": 60,
   "metadata": {},
   "outputs": [],
   "source": [
    "def pump_strength(args):\n",
    "    t0 = args['t0']\n",
    "    t1 = args['t1']\n",
    "    Q  = args['Q']\n",
    "    tau = t1-t0      # pulse duration\n",
    "    std = tau/(2*Q)  # standard deviation\n",
    "    time = lambda t : t/(std*sqrt(2))  # t' to pass to error function\n",
    "    \n",
    "    \"\"\"\n",
    "    TODO: include qubit decay rate kq\n",
    "    \"\"\"\n",
    "    \n",
    "    integral = sqrt(2*pi)*std*erf(time(tau)/2)\n",
    "    Omega = pi/integral\n",
    "    return Omega\n",
    "\n",
    "# Pump Hamiltonian\n",
    "Omega = pump_strength(H_args)\n",
    "H_args['Omega'] = Omega\n",
    "Hp = 0*Omega/2*(b + b.dag())  # including rotating frame approximation"
   ]
  },
  {
   "cell_type": "code",
   "execution_count": 61,
   "metadata": {},
   "outputs": [],
   "source": [
    "# Collapse operators, losses\n",
    "cq = sqrt(kq)*b   # qubit\n",
    "c1 = sqrt(k1)*a1  # resonator 1\n",
    "c_ops = [cq, c1]\n",
    "\n",
    "# Expectation operators\n",
    "e_ops = [nq, n1, sx, sy, sz]"
   ]
  },
  {
   "cell_type": "code",
   "execution_count": 62,
   "metadata": {},
   "outputs": [],
   "source": [
    "def pump(t, args):\n",
    "    t0 = args['t0']  # start of pulse\n",
    "    t1 = args['t1']  # end of pulse\n",
    "    Q  = args['Q']\n",
    "    \n",
    "    t = t%t6  # repeat cycle\n",
    "    mu = (t1-t0)/2  # pulse center in time domain\n",
    "    std = (t1-t0)/(2*Q)  # standard deviation\n",
    "    confine = np.heaviside((t-t0), 0) - np.heaviside((t-t1), 0)  # entire pulse\n",
    "    \n",
    "    pulse = exp(-(t-mu)**2/(2*std**2))*confine\n",
    "    return pulse"
   ]
  },
  {
   "cell_type": "code",
   "execution_count": 63,
   "metadata": {},
   "outputs": [],
   "source": [
    "def square1(t, args):\n",
    "    t2 = args['t2']  # start of pulse\n",
    "    t3 = args['t3']  # end of pulse\n",
    "    tg = args['tg']  # time of Gaussian rise and fall\n",
    "    Q  = args['Q']\n",
    "    \n",
    "    t = t%t6  # repeat cycle\n",
    "    confine = np.heaviside((t-t2), 0) - np.heaviside((t-t3), 0)  # entire pulse\n",
    "    \n",
    "    # Rise and fall with Gaussian\n",
    "    std = tg/Q  # standard deviation of Gaussian\n",
    "    gauss = lambda mu : exp(-(t-mu)**2/(2*std**2))  # Gaussian\n",
    "    \n",
    "    block = np.heaviside((t-(t2+tg)), 0) - np.heaviside((t-(t3-tg)), 0)\n",
    "    rise = gauss(t2+tg) * (1-np.heaviside((t-(t2+tg)), 0))\n",
    "    fall = gauss(t3-tg) * (np.heaviside((t-(t3-tg)), 0))\n",
    "    \n",
    "    pulse = (rise + block + fall)*confine\n",
    "    return pulse"
   ]
  },
  {
   "cell_type": "code",
   "execution_count": 132,
   "metadata": {},
   "outputs": [],
   "source": [
    "H = [Hjc, [Hp, pump], [H1, square1]]  # complete Hamiltonian\n",
    "tlist = np.linspace(0, N_repeat*t6, N_repeat*Np)  # discrete time steps for which to store the output\n",
    "psi0 = tensor(basis(Nq,1), basis(N1,1))  # initial state\n",
    "\n",
    "options.method = 'bdf'\n",
    "# options.nsteps = 1e5  # max number of steps to take for each interval\n",
    "options.rtol = 1e-9\n",
    "# options.max_step = 0.1\n",
    "options.store_states=True\n",
    "\n",
    "result = mesolve(H, psi0, tlist, c_ops, e_ops=e_ops, args=H_args, options=options)"
   ]
  },
  {
   "cell_type": "code",
   "execution_count": 133,
   "metadata": {},
   "outputs": [
    {
     "data": {
      "text/plain": [
       "<matplotlib.legend.Legend at 0x656bcc76d8>"
      ]
     },
     "execution_count": 133,
     "metadata": {},
     "output_type": "execute_result"
    },
    {
     "data": {
      "image/png": "[encoded data removed]",
      "text/plain": [
       "<matplotlib.figure.Figure at 0x656ce93c18>"
      ]
     },
     "metadata": {},
     "output_type": "display_data"
    }
   ],
   "source": [
    "pump_pulse = Omega*pump(tlist, H_args)\n",
    "sqr1_pulse = g1*square1(tlist, H_args)\n",
    "plt.plot(tlist, pump_pulse, label='qubit pump')\n",
    "plt.plot(tlist, sqr1_pulse, label='cavity 1')\n",
    "plt.legend()"
   ]
  },
  {
   "cell_type": "code",
   "execution_count": 134,
   "metadata": {
    "scrolled": true
   },
   "outputs": [
    {
     "data": {
      "text/plain": [
       "(0, 1)"
      ]
     },
     "execution_count": 134,
     "metadata": {},
     "output_type": "execute_result"
    },
    {
     "data": {
      "image/png": "[encoded data removed]",
      "text/plain": [
       "<matplotlib.figure.Figure at 0x6567c907f0>"
      ]
     },
     "metadata": {},
     "output_type": "display_data"
    }
   ],
   "source": [
    "obj = 0    # 0 = qubit, 1 = cavity 1\n",
    "ind = 2999  # index of tlist\n",
    "\n",
    "\n",
    "plt.plot(tlist, result.expect[0])\n",
    "plt.xlabel(\"$t$\")\n",
    "plt.ylabel(\"$n_q$\")\n",
    "plt.ylim(0,1)\n",
    "# cont = plots.wigner(result.states, obj=obj, ind=ind)\n",
    "# plots.dmat_hinton(result.states, obj=obj, ind=ind)\n",
    "# plots.dmat_hist(result.states, obj=obj, ind=ind)\n"
   ]
  },
  {
   "cell_type": "code",
   "execution_count": 125,
   "metadata": {},
   "outputs": [],
   "source": [
    "b=result.expect[0]"
   ]
  },
  {
   "cell_type": "code",
   "execution_count": 131,
   "metadata": {},
   "outputs": [
    {
     "data": {
      "text/plain": [
       "(0, 1)"
      ]
     },
     "execution_count": 131,
     "metadata": {},
     "output_type": "execute_result"
    },
    {
     "data": {
      "image/png": "[encoded data removed]",
      "text/plain": [
       "<matplotlib.figure.Figure at 0x6567c88dd8>"
      ]
     },
     "metadata": {},
     "output_type": "display_data"
    }
   ],
   "source": [
    "plt.plot(tlist,result.expect[0],b)\n",
    "plt.xlabel(\"$t$\")\n",
    "plt.ylabel(\"$n_q$\")\n",
    "plt.xlim(0,3000)\n",
    "plt.ylim(0,1)"
   ]
  },
  {
   "cell_type": "code",
   "execution_count": 50,
   "metadata": {},
   "outputs": [
    {
     "data": {
      "text/plain": [
       "(0, 0.1)"
      ]
     },
     "execution_count": 50,
     "metadata": {},
     "output_type": "execute_result"
    },
    {
     "data": {
      "image/png": "[encoded data removed]",
      "text/plain": [
       "<matplotlib.figure.Figure at 0x656a9d3e80>"
      ]
     },
     "metadata": {},
     "output_type": "display_data"
    }
   ],
   "source": [
    "obj = 1    # 0 = qubit, 1 = cavity 1\n",
    "ind = 2999  # index of tlist\n",
    "\n",
    "\n",
    "plt.plot(tlist, result.expect[1])\n",
    "plt.xlabel(\"$t$\")\n",
    "plt.ylabel(\"$n_c$\")\n",
    "plt.xlim(0,190)\n",
    "plt.ylim(0,0.1)\n",
    "# cont = plots.wigner(result.states, obj=obj, ind=ind)\n",
    "# plots.dmat_hinton(result.states, obj=obj, ind=ind)\n",
    "# plots.dmat_hist(result.states, obj=obj, ind=ind)"
   ]
  },
  {
   "cell_type": "code",
   "execution_count": null,
   "metadata": {},
   "outputs": [],
   "source": []
  }
 ],
 "metadata": {
  "kernelspec": {
   "display_name": "Python 3",
   "language": "python",
   "name": "python3"
  },
  "language_info": {
   "codemirror_mode": {
    "name": "ipython",
    "version": 3
   },
   "file_extension": ".py",
   "mimetype": "text/x-python",
   "name": "python",
   "nbconvert_exporter": "python",
   "pygments_lexer": "ipython3",
   "version": "3.6.8"
  }
 },
 "nbformat": 4,
 "nbformat_minor": 2
}
