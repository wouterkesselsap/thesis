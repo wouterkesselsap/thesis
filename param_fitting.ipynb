{
 "cells": [
  {
   "cell_type": "markdown",
   "metadata": {
    "ExecuteTime": {
     "end_time": "2019-04-18T16:15:31.369934Z",
     "start_time": "2019-04-18T16:15:30.000934Z"
    }
   },
   "source": [
    "# Notebook to fit free parameters within a model to data."
   ]
  },
  {
   "cell_type": "code",
   "execution_count": 1,
   "metadata": {
    "ExecuteTime": {
     "end_time": "2019-04-18T16:15:31.369934Z",
     "start_time": "2019-04-18T16:15:30.000934Z"
    }
   },
   "outputs": [
    {
     "name": "stdout",
     "output_type": "stream",
     "text": [
      "Warning: Missing dependencies for autodetect_instrument! Autodetect routines not imported.\n"
     ]
    }
   ],
   "source": [
    "import stlab\n",
    "import stlabutils\n",
    "import numpy as np\n",
    "import pickle as pkl\n",
    "import multiprocessing as mp\n",
    "import matplotlib.pyplot as plt\n",
    "\n",
    "from numpy import tan, pi, sqrt\n",
    "from numpy.fft import fft, ifft\n",
    "from scipy.optimize import minimize, curve_fit\n",
    "from scipy.constants import e,h,hbar,k,G,epsilon_0\n",
    "from lmfit import Model, Parameters\n",
    "phi_0 = hbar/2./e\n",
    "import numdifftools\n",
    "import matplotlib.pyplot as plt\n",
    "%matplotlib inline\n",
    "from qutip import *\n",
    "from scipy import signal\n",
    "import matplotlib as mpl\n",
    "mpl.rcParams['axes.linewidth'] = 2"
   ]
  },
  {
   "cell_type": "markdown",
   "metadata": {},
   "source": [
    "# Select data"
   ]
  },
  {
   "cell_type": "code",
   "execution_count": 2,
   "metadata": {
    "ExecuteTime": {
     "end_time": "2019-04-18T16:15:31.703934Z",
     "start_time": "2019-04-18T16:15:31.678934Z"
    }
   },
   "outputs": [
    {
     "name": "stdout",
     "output_type": "stream",
     "text": [
      "['Frequency (Hz)', 'S21re ()', 'S21im ()', 'S21dB (dB)', 'S21Ph (rad)', 'Power (dBm)']\n"
     ]
    }
   ],
   "source": [
    "# Specify the path to your data file\n",
    "folder = '/Users/Wouter/Documents/TU/TN/Master/Thesis project/data/Dataset1/'\n",
    "file = 'B1_2019_09_01_21.15.01_Singletone-sideband-LT142W4_5D_C_40dB-prove_3dB_drive_!!!.dat'\n",
    "filepath = folder + file\n",
    "\n",
    "# Load the data\n",
    "data = stlabutils.readdata.readdat(filepath)\n",
    "\n",
    "# Create new data column if needed\n",
    "for line in data:\n",
    "    line['S21_lin ()'] = (line['S21re ()']**2 + line['S21im ()']**2)\n",
    "\n",
    "# Specify what data you want to use for the parameter fitting\n",
    "block = data[11]\n",
    "xdata = np.asarray(block['Frequency (Hz)'])\n",
    "ydata = np.asarray(block['S21_lin ()'])"
   ]
  },
  {
   "cell_type": "markdown",
   "metadata": {},
   "source": [
    "# Visualize the data"
   ]
  },
  {
   "cell_type": "code",
   "execution_count": 3,
   "metadata": {
    "scrolled": false
   },
   "outputs": [
    {
     "data": {
      "image/png": "[encoded data removed]",
      "text/plain": [
       "<matplotlib.figure.Figure at 0x2490dd85748>"
      ]
     },
     "metadata": {},
     "output_type": "display_data"
    }
   ],
   "source": [
    "plt.figure()\n",
    "plt.plot(xdata, ydata,'ro', label='Data', alpha=0.5)\n",
    "plt.xlabel(\"$f$ [Hz]\")\n",
    "plt.ylabel(\"Transmission\")\n",
    "plt.legend()\n",
    "plt.show()"
   ]
  },
  {
   "cell_type": "markdown",
   "metadata": {},
   "source": [
    "# Model\n",
    "Here we specify the model to be optimized.\n",
    "The model is given as a function with\n",
    "- the first argument: the x-coordinates (frequencie range)\n",
    "- the other arguments: the parameters to be fitted.\n",
    "\n",
    "All fixed parameters should be given inside the function as local variables or outside the function as global variables.\n",
    "\n",
    "If you want other parameters to be fitted, just change the arguments inside the function definition.\n",
    "If you have multiple models, which require different fixed parameters, I can recommend you to define them inside a model function locally."
   ]
  },
  {
   "cell_type": "code",
   "execution_count": 7,
   "metadata": {},
   "outputs": [],
   "source": [
    "def spectroscopy(wd_list, g, power, A, B):\n",
    "    \"\"\"\n",
    "    Model.\n",
    "    \n",
    "    Input\n",
    "    -----\n",
    "    wd_list : numpy.ndarray (fixed variable)\n",
    "        Frequency range [Hz]\n",
    "    g : float (variable to be fitted)\n",
    "        Coupling\n",
    "    power : float (variable to be fitted)\n",
    "        Power [dBm]\n",
    "    A : float (variable to be fitted)\n",
    "        Scalar multiplication\n",
    "    B : float (variable to be fitted)\n",
    "        Noise floor, scalar addition\n",
    "    \n",
    "    Returns\n",
    "    -------\n",
    "    spectrum : numpy.ndarray\n",
    "        Spectrum\n",
    "    \"\"\"\n",
    "    \n",
    "    # Fixed variables\n",
    "    # Qubit (a)\n",
    "    wq = 2*pi*4.0807e9\n",
    "    Aq = 2*pi*160e6\n",
    "    gamma = 2*pi*393e3 ##homogenous linewidth\n",
    "    gamma_phi = 0 ##inhomogenous linewidth\n",
    "    Nl_spec = 3\n",
    "    \n",
    "    # Cavity (b)\n",
    "    wc = 2*pi*4.0807e9\n",
    "    kappa = 2*pi*8.98e6\n",
    "    kappa_out = 2*pi*9e6\n",
    "    kappa_in = 2*pi*1e6 \n",
    "    Nh_spec = 10\n",
    "    chi = 0*pi*900e+3\n",
    "    \n",
    "    # Convert units\n",
    "    P = np.power(10.,(float(power)-30.)/10.)  # convert dBm to Watts\n",
    "    wd_list = wd_list*2*pi  # from Hz to rad/s\n",
    "    \n",
    "    # Hamiltonian\n",
    "    a = tensor(destroy(Nl_spec), qeye(Nh_spec))\n",
    "    b = tensor(qeye(Nl_spec), destroy(Nh_spec))\n",
    "    num_b = b.dag()*b\n",
    "    num_a = a.dag()*a\n",
    "    r=[]\n",
    "    H0 = wq*num_a + wc*num_b - 0.5*Aq*a.dag()*a.dag()*a*a - g*(a.dag()*b + b.dag()*a)\n",
    "    #    qubit      cavity     anharmonicity                coupling\n",
    "    \n",
    "    # Calculate spectrum\n",
    "    for wd in wd_list:\n",
    "        eps = np.sqrt(P*(kappa_in)/hbar/wd) # \n",
    "        H = H0 - wd*num_a - wd*num_b + eps*1j*(b.dag()-b) - chi*num_a*num_b\n",
    "        #        drive      drive      drive                state-dependent frequency shift\n",
    "        c_ops = [np.sqrt(gamma)*a, np.sqrt(gamma_phi)*num_a, np.sqrt(kappa)*b]  \n",
    "        rho_ss = steadystate(H, c_ops)  ## steady-state since interested in f-domain\n",
    "        r.append(([np.absolute(expect(num_b,rho_ss))]))\n",
    "    \n",
    "    out = A*np.array(r)*(kappa_out*hbar*wd/P) +B\n",
    "    return np.concatenate(out)"
   ]
  },
  {
   "cell_type": "markdown",
   "metadata": {},
   "source": [
    "# Initial guess\n",
    "The computer must know where to start searching for a minimum in the error function. So here we determine the initial guess of the parameters, the frequency range to compute the model for, and we plot the initial guess."
   ]
  },
  {
   "cell_type": "code",
   "execution_count": 8,
   "metadata": {},
   "outputs": [],
   "source": [
    "g = 2*pi*900e3  #coupling constant\n",
    "power = -200  # dBm\n",
    "A = 2.8969e-5\n",
    "B = 8.0575e-08\n",
    "\n",
    "w_points = 300\n",
    "wd_list = np.linspace(4.07e9, 4.09e9, w_points)  # Hz"
   ]
  },
  {
   "cell_type": "code",
   "execution_count": 9,
   "metadata": {},
   "outputs": [
    {
     "data": {
      "image/png": "[encoded data removed]",
      "text/plain": [
       "<matplotlib.figure.Figure at 0x2490ae66208>"
      ]
     },
     "metadata": {},
     "output_type": "display_data"
    }
   ],
   "source": [
    "initguess = spectroscopy(xdata, g, power, A, B)\n",
    "\n",
    "plt.figure()\n",
    "plt.plot(xdata, ydata,'ro', alpha=0.5, label='Data')\n",
    "plt.plot(xdata, initguess,'b-', label='Initial guess')\n",
    "plt.title('Title')\n",
    "plt.xlabel('Frequency (Hz)')  \n",
    "plt.ylabel('Transmission') \n",
    "plt.show()\n",
    "plt.close()"
   ]
  },
  {
   "cell_type": "markdown",
   "metadata": {},
   "source": [
    "# Fitting\n",
    "Now it's time to look at the fitting methods.\n",
    "There are two options in this notebook:\n",
    "- Sequential gradient descent, developed by Wouter Kessels.\n",
    "- Built-in methods from lmfit and SciPy"
   ]
  },
  {
   "cell_type": "markdown",
   "metadata": {},
   "source": [
    "## A. Sequential gradient descent\n",
    "The basic intuitive workflow is that it takes steps of a predefined size for each of the to be fitted variables. It continues for one variable, holding the other variables fixed, until it hits a minimum in the cost function. Subsequently it continues for the next variable. The fitting is done when a local minimum in the cost function is hit for all variables. Note that a smaller step size will increase the accuracy of the result, but the calculation time might increase dramatically as well, because the workflow is still a rigorous, unadaptive search.\n",
    "\n",
    "The workflow and costfunction (squared error) are defined below."
   ]
  },
  {
   "cell_type": "code",
   "execution_count": 8,
   "metadata": {},
   "outputs": [],
   "source": [
    "costfun = lambda x1, x2 : sum(abs(x1 - x2)**2)\n",
    "\n",
    "def sgd(x, ydata, model, costfun, p0, step):\n",
    "    \"\"\"Sequential gradient decent over all parameters of the model function.\n",
    "    The basic intuitive workflow is that it takes steps of a predefined size\n",
    "    for each of the to be fitted variables. It continues for one variable,\n",
    "    holding the other variables fixed, until it hits a minimum in the cost\n",
    "    function. Subsequently it continues for the next variable. The fitting is\n",
    "    done when a local minimum in the cost function is hit for all variables.\n",
    "    \n",
    "    Note that a smaller step size will increase the accuracy of the result,\n",
    "    but the calculation time might increase dramatically as well.\n",
    "    \n",
    "    Input\n",
    "    -----\n",
    "    x : array-like\n",
    "        x-data\n",
    "    ydata : array-like\n",
    "        Experimental data corresponding to the x-coordinates\n",
    "    model : function\n",
    "        Model function with N variables\n",
    "    costfun : function\n",
    "        Cost function\n",
    "    p0 : array-like\n",
    "        Initial guess of N variables\n",
    "    step : array-like\n",
    "        Step size for each of N variables\n",
    "    \n",
    "    Returns\n",
    "    -------\n",
    "    paramvals : array-like\n",
    "        Fitted values of the N variables\n",
    "    \"\"\"\n",
    "    from copy import copy\n",
    "    finish = False\n",
    "    paramvals = copy(p0)\n",
    "    sim_init = model(x, p0[0], p0[1], p0[2], p0[3])\n",
    "    cost = costfun(ydata, sim_init)\n",
    "    while not finish:\n",
    "        changes = [False, False, False, False]\n",
    "        for ipar in range(len(paramvals)):\n",
    "            argsmin = copy(paramvals)\n",
    "            argsmin[ipar] = paramvals[ipar] - step[ipar]\n",
    "            if argsmin[ipar] < 0:\n",
    "                argsmin[ipar] = 0\n",
    "            argsplus = copy(paramvals)\n",
    "            argsplus[ipar] = paramvals[ipar] + step[ipar]\n",
    "            \n",
    "            simmin = model(x, argsmin[0], argsmin[1], argsmin[2], argsmin[3])\n",
    "            simplus = model(x, argsplus[0], argsplus[1], argsplus[2], argsplus[3])\n",
    "            \n",
    "            costmin = costfun(ydata, simmin)\n",
    "            costplus = costfun(ydata, simplus)\n",
    "            smallest = min([costmin, costplus])\n",
    "            \n",
    "            if (smallest == costmin and smallest < cost):\n",
    "                stepdir = -step[ipar]\n",
    "                paramvals[ipar] -= step[ipar]\n",
    "                cost = copy(costmin)\n",
    "                changes[ipar] = True\n",
    "            elif (smallest == costplus and smallest < cost):\n",
    "                stepdir = step[ipar]\n",
    "                paramvals[ipar] += step[ipar]\n",
    "                cost = copy(costplus)\n",
    "                changes[ipar] = True\n",
    "            elif (smallest > cost):\n",
    "                stepdir = 0\n",
    "            \n",
    "            print(paramvals, cost)\n",
    "            \n",
    "            if stepdir != 0:\n",
    "                descending = True\n",
    "                while descending:\n",
    "                    args = copy(paramvals)\n",
    "                    args[ipar] += stepdir\n",
    "                    if args[ipar] < 0:\n",
    "                        args[ipar] = 0\n",
    "                        descending = False\n",
    "                    sim = model(x, args[0], args[1], args[2], args[3])\n",
    "                    newcost = costfun(ydata, sim)\n",
    "                    if newcost <= cost:\n",
    "                        paramvals[ipar] = args[ipar]\n",
    "                        cost = copy(newcost)\n",
    "                    elif newcost > cost:\n",
    "                        descending = False\n",
    "                    \n",
    "                    print(paramvals, cost)\n",
    "            \n",
    "        if True not in changes:\n",
    "            finish = True\n",
    "            print(\"Finished at local minimum\")\n",
    "    \n",
    "    return paramvals"
   ]
  },
  {
   "cell_type": "markdown",
   "metadata": {},
   "source": [
    "Execute the sequential gradient descent on the model and print the result together with the initial guess."
   ]
  },
  {
   "cell_type": "code",
   "execution_count": null,
   "metadata": {},
   "outputs": [],
   "source": [
    "fitted_vals = sgd(xdata, ydata, spectroscopy, costfun,\n",
    "                  p0=[g, power, A, B], step=[1e4, 1, 1e-7, 1e-10])\n",
    "print(vals)"
   ]
  },
  {
   "cell_type": "code",
   "execution_count": 12,
   "metadata": {},
   "outputs": [],
   "source": [
    "bestfit = spectroscopy(xdata, vals[0], vals[1], vals[2], vals[3], vals[4])\n",
    "\n",
    "plt.figure()\n",
    "plt.plot(xdata, ydata,'ro', alpha=0.6, label=\"Data\")\n",
    "plt.plot(xdata, initguess, 'k-', label='Initial guess')\n",
    "plt.plot(xdata, bestfit, 'b-', label='SGD')\n",
    "plt.xlabel('Readout frequency (Hz)')  \n",
    "plt.ylabel('Transmission')\n",
    "plt.legend()\n",
    "plt.show()\n",
    "plt.close()"
   ]
  },
  {
   "cell_type": "markdown",
   "metadata": {},
   "source": [
    "## B. lmfit's methods\n",
    "The lmfit package contains dozens of Scipy-based methods to do parameter fitting. Every method has its own characteristics, some are fast, some are rigorous, some provide error estimates. You can just try different models and see which one gives the best result. The available models can be found on this page: https://lmfit.github.io/lmfit-py/fitting.html.\n",
    "\n",
    "The resulting fits are written to a pickle file so that they are kept accessible for later times."
   ]
  },
  {
   "cell_type": "markdown",
   "metadata": {},
   "source": [
    "### 1. Least-squares"
   ]
  },
  {
   "cell_type": "code",
   "execution_count": 9,
   "metadata": {},
   "outputs": [
    {
     "name": "stdout",
     "output_type": "stream",
     "text": [
      "[[Model]]\n",
      "    Model(spectroscopy)\n",
      "[[Fit Statistics]]\n",
      "    # fitting method   = leastsq\n",
      "    # function evals   = 117\n",
      "    # data points      = 401\n",
      "    # variables        = 4\n",
      "    chi-square         = 7.9789e-11\n",
      "    reduced chi-square = 2.0098e-13\n",
      "    Akaike info crit   = -11719.4826\n",
      "    Bayesian info crit = -11703.5067\n",
      "[[Variables]]\n",
      "    g:      7976902.74 +/- 196623.588 (2.46%) (init = 5654867)\n",
      "    power: -133.103947 +/- 0.31509398 (0.24%) (init = -200)\n",
      "    A:      2.8271e-05 +/- 1.9989e-07 (0.71%) (init = 2.8969e-05)\n",
      "    B:     -1.9228e-08 +/- 5.2175e-08 (271.35%) (init = 8.0575e-08)\n",
      "[[Correlations]] (unreported correlations are < 0.100)\n",
      "    C(A, B)     = -0.871\n",
      "    C(g, power) =  0.789\n",
      "    C(g, B)     = -0.247\n",
      "    C(power, B) = -0.160\n"
     ]
    },
    {
     "data": {
      "image/png": "[encoded data removed]",
      "text/plain": [
       "<matplotlib.figure.Figure at 0x21fcc6b9f60>"
      ]
     },
     "metadata": {},
     "output_type": "display_data"
    }
   ],
   "source": [
    "smodel = Model(spectroscopy)\n",
    "result_leastsq = smodel.fit(ydata, wd_list=xdata, g=g, power=power, A=A, B=B, nan_policy='omit',\n",
    "                            method='leastsq')\n",
    "print(result_leastsq.fit_report())\n",
    "filename = folder + \"/result_leastsq.pkl\"\n",
    "outfile = open(filename, 'wb')\n",
    "pickle.dump(ID, outfile)\n",
    "outfile.close()\n",
    "plt.plot(xdata, ydata, 'bo', alpha=0.5)\n",
    "plt.plot(xdata, result_leastsq.best_fit, 'r-', label='Best')\n",
    "plt.plot(xdata, result_leastsq.init_fit, 'g-', label='Initial')\n",
    "plt.legend()\n",
    "plt.show()"
   ]
  },
  {
   "cell_type": "markdown",
   "metadata": {},
   "source": [
    "### 2. L-BFGS-B\n",
    "https://en.wikipedia.org/wiki/Limited-memory_BFGS"
   ]
  },
  {
   "cell_type": "code",
   "execution_count": 15,
   "metadata": {},
   "outputs": [],
   "source": [
    "smodel = Model(spectroscopy)\n",
    "result_lbfgsb = smodel.fit(ydata, wd_list=xdata, g=g, power=power, A=A, B=B, nan_policy='omit',\n",
    "                           method='lbfgsb')\n",
    "print(result_lbfgsb.fit_report())\n",
    "filename = folder + \"/result_lbfgsb.pkl\"\n",
    "outfile = open(filename, 'wb')\n",
    "pickle.dump(ID, outfile)\n",
    "outfile.close()\n",
    "plt.plot(xdata, ydata, 'bo', alpha=0.5)\n",
    "plt.plot(xdata, result_lbfgsb.best_fit, 'r-', label='Best')\n",
    "plt.plot(xdata, result_lbfgsb.init_fit, 'g-', label='Initial')\n",
    "plt.legend()\n",
    "plt.show()"
   ]
  },
  {
   "cell_type": "markdown",
   "metadata": {},
   "source": [
    "### 3. Nelder-Mead\n",
    "https://en.wikipedia.org/wiki/Nelder%E2%80%93Mead_method"
   ]
  },
  {
   "cell_type": "code",
   "execution_count": 14,
   "metadata": {},
   "outputs": [],
   "source": [
    "smodel = Model(spectroscopy)\n",
    "result_nelder = smodel.fit(ydata, wd_list=xdata, g=g, power=power, A=A, B=B, nan_policy='omit',\n",
    "                           method='nelder')\n",
    "print(result_nelder.fit_report())\n",
    "filename = folder + \"/result_nelder.pkl\"\n",
    "outfile = open(filename, 'wb')\n",
    "pickle.dump(ID, outfile)\n",
    "outfile.close()\n",
    "plt.plot(xdata, ydata, 'bo', alpha=0.5)\n",
    "plt.plot(xdata, result_nelder.best_fit, 'r-', label='Best')\n",
    "plt.plot(xdata, result_nelder.init_fit, 'g-', label='Initial')\n",
    "plt.legend()\n",
    "plt.show()"
   ]
  },
  {
   "cell_type": "markdown",
   "metadata": {},
   "source": [
    "### 4. Powell\n",
    "https://en.wikipedia.org/wiki/Powell%27s_method"
   ]
  },
  {
   "cell_type": "code",
   "execution_count": null,
   "metadata": {},
   "outputs": [],
   "source": [
    "smodel = Model(spectroscopy)\n",
    "result_powell = smodel.fit(ydata, wd_list=xdata, g=g, power=power, A=A, B=B, nan_policy='omit',\n",
    "                           method='powell')\n",
    "print(result_powell.fit_report())\n",
    "filename = folder + \"/result_powell.pkl\"\n",
    "outfile = open(filename, 'wb')\n",
    "pickle.dump(ID, outfile)\n",
    "outfile.close()\n",
    "plt.plot(xdata, ydata, 'bo', alpha=0.5)\n",
    "plt.plot(xdata, result_powell.best_fit, 'r-', label='Best')\n",
    "plt.plot(xdata, result_powell.init_fit, 'g-', label='Initial')\n",
    "plt.legend()\n",
    "plt.show()"
   ]
  }
 ],
 "metadata": {
  "kernelspec": {
   "display_name": "Python 3",
   "language": "python",
   "name": "python3"
  },
  "language_info": {
   "codemirror_mode": {
    "name": "ipython",
    "version": 3
   },
   "file_extension": ".py",
   "mimetype": "text/x-python",
   "name": "python",
   "nbconvert_exporter": "python",
   "pygments_lexer": "ipython3",
   "version": "3.7.3"
  },
  "toc": {
   "base_numbering": 1,
   "nav_menu": {},
   "number_sections": true,
   "sideBar": true,
   "skip_h1_title": false,
   "title_cell": "Table of Contents",
   "title_sidebar": "Contents",
   "toc_cell": false,
   "toc_position": {},
   "toc_section_display": true,
   "toc_window_display": false
  },
  "varInspector": {
   "cols": {
    "lenName": 16,
    "lenType": 16,
    "lenVar": 40
   },
   "kernels_config": {
    "python": {
     "delete_cmd_postfix": "",
     "delete_cmd_prefix": "del ",
     "library": "var_list.py",
     "varRefreshCmd": "print(var_dic_list())"
    },
    "r": {
     "delete_cmd_postfix": ") ",
     "delete_cmd_prefix": "rm(",
     "library": "var_list.r",
     "varRefreshCmd": "cat(var_dic_list()) "
    }
   },
   "types_to_exclude": [
    "module",
    "function",
    "builtin_function_or_method",
    "instance",
    "_Feature"
   ],
   "window_display": false
  }
 },
 "nbformat": 4,
 "nbformat_minor": 2
}
