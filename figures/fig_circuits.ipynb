{
 "cells": [
  {
   "cell_type": "code",
   "execution_count": 19,
   "metadata": {},
   "outputs": [],
   "source": [
    "from SchemDraw.SchemDraw import *\n",
    "e = elements\n",
    "import numpy as np\n",
    "\n",
    "# Give colours in hex\n",
    "qubit     = '#664277'  # qubit\n",
    "cavity1   = '#fa476f'  # cavity 1\n",
    "cavity2   = '#c86464'  # cavity 2\n",
    "coupling1 = '#68b799'  # coupling between qubit and cavity 1\n",
    "coupling2 = '#7eb6a1'  # coupling between qubit and cavity 1\n",
    "drive     = '#68b799'  # single-tone drive strength\n",
    "driveq    = 'green'    # qubit-friendly drive tone strength\n",
    "drivec    = 'cyan'     # cavity-friendly drive tone strenth\n",
    "sbred     = '#c86464'  # P(e0)-P(g1), red sideband transitions\n",
    "sbblue    = '#6196b3'  # P(e1)-P(g0), blue sideband transitions\n",
    "hline     = 'gray'     # horizontal domain lines\n",
    "colormap  = 'gist_heat'   # colormap for color plots"
   ]
  },
  {
   "cell_type": "code",
   "execution_count": 13,
   "metadata": {
    "scrolled": true
   },
   "outputs": [
    {
     "data": {
      "image/png": "[encoded data removed]",
      "text/plain": [
       "<Figure size 193.914x112.14 with 1 Axes>"
      ]
     },
     "metadata": {
      "needs_background": "light"
     },
     "output_type": "display_data"
    },
    {
     "data": {
      "image/png": "[encoded data removed]",
      "text/plain": [
       "<Figure size 112.14x193.914 with 1 Axes>"
      ]
     },
     "metadata": {
      "needs_background": "light"
     },
     "output_type": "display_data"
    }
   ],
   "source": [
    "d = schemdraw.Drawing()\n",
    "d.add(e.DOT)\n",
    "d1 = d.add(e.CAP, d='right', l=2, label='$C_g$')\n",
    "d.add(e.LINE, d='up', l=1)\n",
    "d.add(e.JJ, d='right', l=2, label='$L_J$')\n",
    "d.add(e.LINE, d='down', l=1)\n",
    "d.add(e.LINE, xy=d1.end, d='down', l=1)\n",
    "d.add(e.CAP, d='right', l=2, botlabel='$C_J$')\n",
    "d.add(e.LINE, d='up', l=1)\n",
    "d.add(e.GND, d='up')\n",
    "d.draw()\n",
    "\n",
    "d = schemdraw.Drawing()\n",
    "d.add(e.DOT)\n",
    "d1 = d.add(e.CAP, d='down', l=2, label='$C_g$')\n",
    "d.add(e.LINE, d='right', l=1)\n",
    "d.add(e.JJ, d='down', l=2, botlabel='$L_J$')\n",
    "d.add(e.LINE, d='left', l=1)\n",
    "d.add(e.LINE, xy=d1.end, d='left', l=1)\n",
    "d.add(e.CAP, d='down', l=2, toplabel='$C_J$')\n",
    "d.add(e.LINE, d='right', l=1)\n",
    "d.add(e.GND, d='right')\n",
    "d.draw()\n",
    "d.save('CPB_circuit.svg')"
   ]
  },
  {
   "cell_type": "code",
   "execution_count": 14,
   "metadata": {},
   "outputs": [
    {
     "data": {
      "image/png": "[encoded data removed]",
      "text/plain": [
       "<Figure size 110.063x193.914 with 1 Axes>"
      ]
     },
     "metadata": {
      "needs_background": "light"
     },
     "output_type": "display_data"
    }
   ],
   "source": [
    "d = schemdraw.Drawing()\n",
    "d.add(e.DOT)\n",
    "d1 = d.add(e.CAP, d='down', l=2, botlabel='$C_g$')\n",
    "d.add(e.LINE, d='left', l=1)\n",
    "d.add(e.CAP, d='down', l=2, toplabel='$C$')\n",
    "d.add(e.LINE, d='right', l=1)\n",
    "d.add(e.LINE, xy=d1.end, d='right', l=1)\n",
    "d.add(e.INDUCTOR2, d='down', l=2, flip=True, toplabel='$L$')\n",
    "d.add(e.LINE, d='left', l=1)\n",
    "d.add(e.GND, d='right')\n",
    "d.draw()\n",
    "d.save('HO.svg')"
   ]
  },
  {
   "cell_type": "code",
   "execution_count": 15,
   "metadata": {},
   "outputs": [
    {
     "data": {
      "image/png": "[encoded data removed]",
      "text/plain": [
       "<Figure size 112.14x193.914 with 1 Axes>"
      ]
     },
     "metadata": {
      "needs_background": "light"
     },
     "output_type": "display_data"
    }
   ],
   "source": [
    "d = schemdraw.Drawing()\n",
    "d.add(e.DOT)\n",
    "d1 = d.add(e.CAP, d='down', l=2, label='$C_g$')\n",
    "d.add(e.LINE, d='right', l=1)\n",
    "d.add(e.JJ, d='down', l=2, botlabel='$L_J$')\n",
    "d.add(e.LINE, d='left', l=1)\n",
    "d.add(e.LINE, xy=d1.end, d='left', l=1)\n",
    "d.add(e.CAP, d='down', l=2, botlabel='$C_B$')\n",
    "d.add(e.LINE, d='right', l=1)\n",
    "d.add(e.GND, d='right')\n",
    "d.draw()\n",
    "d.save('transmon.svg')"
   ]
  },
  {
   "cell_type": "code",
   "execution_count": 23,
   "metadata": {},
   "outputs": [
    {
     "data": {
      "image/png": "[encoded data removed]",
      "text/plain": [
       "<Figure size 270.54x193.914 with 1 Axes>"
      ]
     },
     "metadata": {
      "needs_background": "light"
     },
     "output_type": "display_data"
    }
   ],
   "source": [
    "d = schemdraw.Drawing()\n",
    "d.add(e.DOT)\n",
    "d0 = d.add(e.LINE, d='down', l=1)\n",
    "d1 = d.add(e.LINE, d='down', l=1)\n",
    "d.add(e.LINE, d='left', l=1, color=cavity1)\n",
    "d.add(e.CAP, d='down', l=2, color=cavity1, label='$C$')\n",
    "d.add(e.LINE, d='right', l=1, color=cavity1)\n",
    "d.add(e.LINE, xy=d1.end, d='right', l=1, color=cavity1)\n",
    "d.add(e.INDUCTOR2, d='down', l=2, color=cavity1, flip=True, label='$L$')\n",
    "d.add(e.LINE, d='left', l=1, color=cavity1)\n",
    "d.add(e.GND)\n",
    "d.add(e.CAP, xy=d0.end, d='right', l=4, label='$C_g$')\n",
    "d2 = d.add(e.LINE, d='down', l=1)\n",
    "d.add(e.LINE, d='left', l=1, color=qubit)\n",
    "d.add(e.CAP, d='down', l=2, color=qubit, botlabel='$C_B$')\n",
    "d.add(e.LINE, d='right', l=1, color=qubit)\n",
    "d.add(e.LINE, xy=d2.end, d='right', l=1, color=qubit)\n",
    "d.add(e.JJ, d='down', l=2, color=qubit, botlabel='$L_J$')\n",
    "d.add(e.LINE, d='left', l=1, color=qubit)\n",
    "d.add(e.GND)\n",
    "d.draw()\n",
    "d.save('coupled.svg')"
   ]
  },
  {
   "cell_type": "code",
   "execution_count": 29,
   "metadata": {},
   "outputs": [
    {
     "data": {
      "image/png": "[encoded data removed]",
      "text/plain": [
       "<Figure size 270.54x295.488 with 1 Axes>"
      ]
     },
     "metadata": {
      "needs_background": "light"
     },
     "output_type": "display_data"
    }
   ],
   "source": [
    "d = schemdraw.Drawing()\n",
    "d.add(e.DOT)\n",
    "d0 = d.add(e.LINE, d='down', l=1)\n",
    "d1 = d.add(e.LINE, d='down', l=1)\n",
    "d.add(e.LINE, d='left', l=1, color=cavity1)\n",
    "d.add(e.CAP, d='down', l=2, color=cavity1, label='$C$')\n",
    "d.add(e.LINE, d='right', l=1, color=cavity1)\n",
    "d.add(e.LINE, xy=d1.end, d='right', l=1, color=cavity1)\n",
    "d.add(e.INDUCTOR2, d='down', l=2, color=cavity1, flip=True, label='$L$')\n",
    "d.add(e.LINE, d='left', l=1, color=cavity1)\n",
    "d.add(e.GND)\n",
    "d.add(e.CAP, xy=d0.end, d='right', l=4, label='$C_g$')\n",
    "d2 = d.add(e.LINE, d='down', l=1)\n",
    "d.add(e.LINE, d='left', l=1, color=qubit)\n",
    "d.add(e.CAP, d='down', l=2, color=qubit, botlabel='$C_B$')\n",
    "d.add(e.LINE, d='right', l=1, color=qubit)\n",
    "d.add(e.LINE, xy=d2.end, d='right', l=1, color=qubit)\n",
    "d.add(e.JJ, d='down', l=2, color=qubit, botlabel='$L_J$')\n",
    "d.add(e.LINE, d='left', l=1, color=qubit)\n",
    "d.add(e.GND)\n",
    "d.add(e.CAP, xy=d2.start, d='up', l=2, label='$C_d$')\n",
    "d.add(e.SOURCE_SIN, d='up', l=1, label='$V_d$, $\\\\omega_d$')\n",
    "d.add(e.GND, d='left')\n",
    "d.draw()\n",
    "d.save('driven.svg')"
   ]
  },
  {
   "cell_type": "code",
   "execution_count": null,
   "metadata": {},
   "outputs": [],
   "source": []
  }
 ],
 "metadata": {
  "kernelspec": {
   "display_name": "Python 3",
   "language": "python",
   "name": "python3"
  },
  "language_info": {
   "codemirror_mode": {
    "name": "ipython",
    "version": 3
   },
   "file_extension": ".py",
   "mimetype": "text/x-python",
   "name": "python",
   "nbconvert_exporter": "python",
   "pygments_lexer": "ipython3",
   "version": "3.7.3"
  }
 },
 "nbformat": 4,
 "nbformat_minor": 2
}
