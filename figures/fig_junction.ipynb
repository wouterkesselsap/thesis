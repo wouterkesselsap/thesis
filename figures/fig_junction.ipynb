{
 "cells": [
  {
   "cell_type": "code",
   "execution_count": 25,
   "metadata": {},
   "outputs": [],
   "source": [
    "import numpy as np\n",
    "import matplotlib.pyplot as plt\n",
    "import matplotlib as mpl\n",
    "\n",
    "# Give colours in hex\n",
    "qubit     = '#664277'  # qubit\n",
    "cavity1   = '#fa476f'  # cavity 1\n",
    "cavity2   = '#c86464'  # cavity 2\n",
    "coupling1 = '#68b799'  # coupling between qubit and cavity 1\n",
    "coupling2 = '#7eb6a1'  # coupling between qubit and cavity 1\n",
    "drive     = '#68b799'  # single-tone drive strength\n",
    "driveq    = 'green'    # qubit-friendly drive tone strength\n",
    "drivec    = 'cyan'     # cavity-friendly drive tone strenth\n",
    "sbred     = '#c86464'  # P(e0)-P(g1), red sideband transitions\n",
    "sbblue    = '#6196b3'  # P(e1)-P(g0), blue sideband transitions\n",
    "hline     = 'gray'     # horizontal domain lines\n",
    "colormap  = 'gist_heat'   # colormap for color plots\n",
    "\n",
    "mpl.rcParams['font.size'] = 22\n",
    "mpl.rcParams['axes.titlesize'] = 22\n",
    "mpl.rcParams['axes.labelsize'] = 20\n",
    "mpl.rcParams['xtick.labelsize'] = 18\n",
    "mpl.rcParams['ytick.labelsize'] = 18\n",
    "mpl.rcParams['legend.fontsize'] = 17\n",
    "mpl.rcParams['figure.titlesize'] = 22\n",
    "mpl.rcParams['lines.linewidth'] = 2"
   ]
  },
  {
   "cell_type": "code",
   "execution_count": 50,
   "metadata": {},
   "outputs": [],
   "source": [
    "x = np.linspace(-1, 1)\n",
    "psil = np.exp(-x)\n",
    "psir = np.exp(x)\n",
    "h = np.exp(1)\n",
    "l = np.exp(-1)"
   ]
  },
  {
   "cell_type": "code",
   "execution_count": 84,
   "metadata": {},
   "outputs": [
    {
     "data": {
      "image/png": "[encoded data removed]",
      "text/plain": [
       "<Figure size 720x216 with 1 Axes>"
      ]
     },
     "metadata": {},
     "output_type": "display_data"
    }
   ],
   "source": [
    "CP = mpl.patches.Ellipse([-1.8, 1.5], 0.8, 0.7, angle=0, color='gray')\n",
    "\n",
    "plt.figure(figsize=(10, 3))\n",
    "plt.plot([-3, -1], [h, h], c=sbred)\n",
    "plt.plot(x, psil, c=sbred)\n",
    "plt.plot([1, 3], [l, l], c=sbred)\n",
    "plt.text(-2.9, 2.1, \"$\\\\left| \\\\psi_L \\\\right| ^2$\", color=sbred, horizontalalignment='left')\n",
    "\n",
    "plt.plot([-3, -1], [l, l], c=sbblue)\n",
    "plt.plot(x, psir, c=sbblue)\n",
    "plt.plot([1, 3], [h, h], c=sbblue)\n",
    "plt.text(2.9, 2.1, \"$\\\\left| \\\\psi_R \\\\right| ^2$\", color=sbblue, horizontalalignment='right')\n",
    "\n",
    "plt.gca().add_artist(CP)\n",
    "plt.scatter([-1.9, -1.7], [1.5, 1.5], color='white', s=150, zorder=2)\n",
    "plt.arrow(-1.35, 1.5, 2.9, 0, head_width=0.25, head_length=0.25, linewidth=3, color='gray', length_includes_head=True)\n",
    "plt.text(-1.8, 0.8, \"Cooper pair\", color='gray', horizontalalignment='center', fontsize=16)\n",
    "\n",
    "plt.plot([-1, -1], [0, 3.2], c='k')\n",
    "plt.plot([1, 1], [0, 3.2], c='k')\n",
    "plt.plot([-3, 3], [3.2, 3.2], c='k')\n",
    "plt.plot([-3, 3], [0, 0], c='k')\n",
    "plt.fill_between([-1, 1], [3.2, 3.2], color='lightgray')\n",
    "\n",
    "plt.text(-2, -0.5, \"Al\", horizontalalignment='center')\n",
    "plt.text(0, -0.5, \"AlO$_x$\", horizontalalignment='center')\n",
    "plt.text(2, -0.5, \"Al\", horizontalalignment='center')\n",
    "plt.title(\"The Josephson junction\")\n",
    "\n",
    "plt.gca().set_xticks([])\n",
    "plt.gca().set_yticks([])\n",
    "plt.gca().spines['top'].set_visible(False)\n",
    "plt.gca().spines['left'].set_visible(False)\n",
    "plt.gca().spines['right'].set_visible(False)\n",
    "plt.gca().spines['bottom'].set_visible(False)"
   ]
  },
  {
   "cell_type": "code",
   "execution_count": null,
   "metadata": {},
   "outputs": [],
   "source": []
  },
  {
   "cell_type": "code",
   "execution_count": null,
   "metadata": {},
   "outputs": [],
   "source": []
  }
 ],
 "metadata": {
  "kernelspec": {
   "display_name": "Python 3",
   "language": "python",
   "name": "python3"
  },
  "language_info": {
   "codemirror_mode": {
    "name": "ipython",
    "version": 3
   },
   "file_extension": ".py",
   "mimetype": "text/x-python",
   "name": "python",
   "nbconvert_exporter": "python",
   "pygments_lexer": "ipython3",
   "version": "3.7.3"
  }
 },
 "nbformat": 4,
 "nbformat_minor": 2
}
