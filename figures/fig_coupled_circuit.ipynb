{
 "cells": [
  {
   "cell_type": "code",
   "execution_count": 1,
   "metadata": {},
   "outputs": [],
   "source": [
    "from SchemDraw.SchemDraw import *\n",
    "e = elements\n",
    "import numpy as np"
   ]
  },
  {
   "cell_type": "code",
   "execution_count": 2,
   "metadata": {},
   "outputs": [
    {
     "data": {
      "image/png": "[encoded data removed]",
      "text/plain": [
       "<Figure size 193.914x112.14 with 1 Axes>"
      ]
     },
     "metadata": {
      "needs_background": "light"
     },
     "output_type": "display_data"
    }
   ],
   "source": [
    "d = schemdraw.Drawing()\n",
    "d.add(e.DOT)\n",
    "d1 = d.add(e.CAP, d='right', l=2, label='$C_g$')\n",
    "d.add(e.LINE, d='up', l=1)\n",
    "d.add(e.JJ, d='right', l=2, label='$L_J$')\n",
    "d.add(e.LINE, d='down', l=1)\n",
    "d.add(e.LINE, xy=d1.end, d='down', l=1)\n",
    "d.add(e.CAP, d='right', l=2, botlabel='$C_J$')\n",
    "d.add(e.LINE, d='up', l=1)\n",
    "d.add(e.GND, d='up')\n",
    "d.draw()"
   ]
  },
  {
   "cell_type": "code",
   "execution_count": null,
   "metadata": {},
   "outputs": [],
   "source": []
  }
 ],
 "metadata": {
  "kernelspec": {
   "display_name": "Python 3",
   "language": "python",
   "name": "python3"
  },
  "language_info": {
   "codemirror_mode": {
    "name": "ipython",
    "version": 3
   },
   "file_extension": ".py",
   "mimetype": "text/x-python",
   "name": "python",
   "nbconvert_exporter": "python",
   "pygments_lexer": "ipython3",
   "version": "3.7.3"
  }
 },
 "nbformat": 4,
 "nbformat_minor": 2
}
