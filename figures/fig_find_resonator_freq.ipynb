{
 "cells": [
  {
   "cell_type": "code",
   "execution_count": 1,
   "metadata": {},
   "outputs": [
    {
     "name": "stdout",
     "output_type": "stream",
     "text": [
      "Warning: Missing dependencies for autodetect_instrument! Autodetect routines not imported.\n",
      "/home/jovyan/thesis/figures\n"
     ]
    }
   ],
   "source": [
    "import os\n",
    "import stlab\n",
    "import stlabutils\n",
    "import numpy as np\n",
    "import pickle as pkl\n",
    "import multiprocessing as mp\n",
    "import matplotlib.pyplot as plt\n",
    "\n",
    "from numpy import tan, pi, sqrt\n",
    "from numpy.fft import fft, ifft\n",
    "from scipy.optimize import minimize, curve_fit\n",
    "from scipy.constants import e,h,hbar,k,G,epsilon_0\n",
    "from lmfit import Model, Parameters\n",
    "phi_0 = hbar/2./e\n",
    "import matplotlib.pyplot as plt\n",
    "%matplotlib inline\n",
    "from qutip import *\n",
    "from scipy import signal\n",
    "import matplotlib as mpl\n",
    "mpl.rcParams['axes.linewidth'] = 2\n",
    "\n",
    "print(os.getcwd())"
   ]
  },
  {
   "cell_type": "code",
   "execution_count": 5,
   "metadata": {},
   "outputs": [
    {
     "name": "stdout",
     "output_type": "stream",
     "text": [
      "['Frequency (Hz)', 'CH2_S21_S1re ()', 'CH2_S21_S1im ()', 'CH2_S21_S1dB (dB)', 'CH2_S21_S1Ph (rad)', 'power (dBm)']\n"
     ]
    }
   ],
   "source": [
    "# Specify the path to your data file\n",
    "folder1 = '/home/jovyan/steelelab/measurement_data/newBF/Wouter/Wouter_thesis_resonator_and_qubit_basic'\n",
    "folder2 = '/B120_2019_12_26_19.56.29_LT142W4_5D_c_40dB-prove_40dB/'\n",
    "file = 'B120_2019_12_26_19.56.29_LT142W4_5D_c_40dB-prove_40dB.dat'\n",
    "filepath = folder1 + folder2 + file\n",
    "\n",
    "# Load the data\n",
    "data = stlabutils.readdata.readdat(filepath)\n",
    "\n",
    "#Create new data column if needed\n",
    "for line in data:\n",
    "    line['S21_lin ()'] = (line['CH2_S21_S1re ()']**2 + line['CH2_S21_S1im ()']**2)\n",
    "\n",
    "# Specify what data you want to use for the parameter fitting\n",
    "block = data[0]\n",
    "xdata = np.asarray(block['Frequency (Hz)'])\n",
    "ydata = np.asarray(block['S21_lin ()'])"
   ]
  },
  {
   "cell_type": "code",
   "execution_count": null,
   "metadata": {},
   "outputs": [],
   "source": []
  }
 ],
 "metadata": {
  "kernelspec": {
   "display_name": "Python 3",
   "language": "python",
   "name": "python3"
  },
  "language_info": {
   "codemirror_mode": {
    "name": "ipython",
    "version": 3
   },
   "file_extension": ".py",
   "mimetype": "text/x-python",
   "name": "python",
   "nbconvert_exporter": "python",
   "pygments_lexer": "ipython3",
   "version": "3.7.3"
  }
 },
 "nbformat": 4,
 "nbformat_minor": 2
}
